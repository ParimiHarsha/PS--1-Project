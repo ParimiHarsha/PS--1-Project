{
  "nbformat": 4,
  "nbformat_minor": 5,
  "metadata": {
    "colab": {
      "name": "Warehouse Shipping.ipynb",
      "provenance": [],
      "collapsed_sections": [
        "71a4335a",
        "c6512772",
        "0650647e",
        "d2a58965",
        "4f5eac17",
        "36494fe5",
        "9f4782ed",
        "eebf85e6",
        "70c2659b",
        "86461b8d",
        "8a7c7a23",
        "ab57737a",
        "0584d08c"
      ]
    },
    "kernelspec": {
      "display_name": "Python 3",
      "language": "python",
      "name": "python3"
    },
    "language_info": {
      "codemirror_mode": {
        "name": "ipython",
        "version": 3
      },
      "file_extension": ".py",
      "mimetype": "text/x-python",
      "name": "python",
      "nbconvert_exporter": "python",
      "pygments_lexer": "ipython3",
      "version": "3.9.5"
    }
  },
  "cells": [
    {
      "cell_type": "markdown",
      "metadata": {
        "id": "8664d787"
      },
      "source": [
        "**Context:** An international e-commerce company based wants to discover key insights from their customer database. They want to use some of the most advanced machine learning techniques to study their customers. The company sells electronic products.\n",
        "\n",
        "**Feature Description** The dataset used for model building contained 10999 observations of 12 variables. The data contains the following information:\n",
        "\n",
        "* ID: ID Number of Customers.\n",
        "\n",
        "* Warehouse block: The Company have big Warehouse which is divided in to block such as A,B,C,D,E.\n",
        "\n",
        "* Mode of shipment:The Company Ships the products in multiple way such as Ship, Flight and Road.\n",
        "\n",
        "* Customer care calls: The number of calls made from enquiry for enquiry of the shipment.\n",
        "\n",
        "* Customer rating: The company has rated from every customer. 1 is the lowest (Worst), 5 is the highest (Best).\n",
        "\n",
        "* Cost of the product: Cost of the Product in US Dollars.\n",
        "\n",
        "* Prior purchases: The Number of Prior Purchase.\n",
        "\n",
        "* Product importance: The company has categorized the product in the various parameter such as low, medium, high.\n",
        "\n",
        "* Gender: Male and Female.\n",
        "\n",
        "* Discount offered: Discount offered on that specific product.\n",
        "\n",
        "* Weight in gms: It is the weight in grams.\n",
        "\n",
        "* Reached on time: It is the target variable, where 1 Indicates that the product has NOT reached on time and 0 indicates it has reached on time.\n",
        "\n",
        "**Project Objective¶**\n",
        "\n",
        "This data of Product Shipment Tracking, answer instantly to your questions:\n",
        "\n",
        "* What was Customer Rating? And was the product delivered on time?\n",
        "\n",
        "* Is Customer query is being answered?\n",
        "\n",
        "* If Product importance is high. having higest rating or being delivered on time?\n",
        "\n",
        "**Steps to the project:**\n",
        "\n",
        "**1. Load the dataset:**\n",
        "\n",
        "* Import data and Explore shape and size.\n",
        "\n",
        "**2. Data cleansing:**\n",
        "\n",
        "* Missing value treatment\n",
        "\n",
        "* Convert categorical attributes to continuous using relevant functional knowledge\n",
        "\n",
        "* Drop attribute/s if required using relevant functional knowledge\n",
        "\n",
        "* Automate all the above steps\n",
        "\n",
        "**3. Data analysis & visualisation:**\n",
        "\n",
        "* Perform detailed statistical analysis on the data. â¢\n",
        "* Perform a detailed univariate, bivariate and multivariate analysis with appropriate detailed comments after each analysis.\n",
        "\n",
        "**4. Data pre-processing:**\n",
        "\n",
        "* Segregate predictors vs target attributes\n",
        "\n",
        "* Check for target balancing and fix it if found imbalanced.\n",
        "\n",
        "* Perform train-test split.\n",
        "\n",
        "* Check if the train and test data have similar statistical characteristics when compared with original data.\n",
        "\n",
        "**5. Model training, testing and tuning:**\n",
        "\n",
        "* Train and test all ensemble models taught in the learning module.\n",
        "\n",
        "* Display the classification accuracies for train and test data.\n",
        "\n",
        "* Apply all the possible tuning techniques to train the best model for the given data.\n",
        "\n",
        "* Display and compare all the models designed with their train and test accuracies.\n",
        "\n",
        "* Select the final best trained model along with your detailed comments for selecting this model.\n",
        "\n",
        "* Pickle the selected model for future use.\n",
        "\n",
        "**6. GUI development:**\n",
        "\n",
        "* Design a clickable web service application.\n",
        "\n",
        "* This application should allow the user to input all future values and on a click use these values on the trained model above to predict.\n",
        "\n",
        "* It should display the prediction.\n",
        "\n",
        "**7. Conclusion and improvisation:**\n",
        "\n",
        "* Write your conclusion on the results.\n",
        "\n",
        "* Detailed suggestions or improvements or on quality, quantity, variety, velocity, veracity etc. on the data points perform a better data analysis in future."
      ],
      "id": "8664d787"
    },
    {
      "cell_type": "code",
      "metadata": {
        "colab": {
          "base_uri": "https://localhost:8080/"
        },
        "id": "df95b94e",
        "outputId": "729034b8-d206-4f3f-8c5e-dacb5f5a4736"
      },
      "source": [
        "# importing all the libraries in one place\n",
        "import numpy as np \n",
        "import pandas as pd\n",
        "import seaborn as sns\n",
        "import matplotlib.pyplot as plt       # matplotlib.pyplot plots data\n",
        "%matplotlib inline \n",
        "\n",
        "from sklearn import preprocessing  # for encoding variables\n",
        "from statsmodels.stats.outliers_influence import variance_inflation_factor  # for calculating VIF\n",
        "\n",
        "\n",
        "# put these at the top in the end\n",
        "from sklearn.model_selection import train_test_split\n",
        "# Importing Library\n",
        "import sklearn\n",
        "import matplotlib.pyplot as plt\n",
        "from sklearn.compose import ColumnTransformer\n",
        "from sklearn.pipeline import Pipeline\n",
        "from sklearn.model_selection import train_test_split\n",
        "from sklearn.neighbors import KNeighborsClassifier\n",
        "from sklearn.metrics import accuracy_score\n",
        "from sklearn.model_selection import cross_val_score\n",
        "from collections import Counter\n",
        "from sklearn.metrics import roc_auc_score\n",
        "from sklearn.metrics import confusion_matrix\n",
        "import seaborn as sns\n",
        "from sklearn.model_selection import GridSearchCV\n",
        "from sklearn.datasets import *\n",
        "from sklearn.linear_model import LogisticRegression\n",
        "from sklearn.naive_bayes import BernoulliNB, MultinomialNB, GaussianNB\n",
        "from sklearn import svm #support vector Machine\n",
        "from sklearn.ensemble import RandomForestClassifier #Random Forest\n",
        "from sklearn.neighbors import KNeighborsClassifier #KNN\n",
        "from sklearn.tree import DecisionTreeClassifier #Decision Tree\n",
        "\n",
        "\n",
        "from sklearn.datasets import make_classification\n",
        "from sklearn.metrics import accuracy_score, f1_score, precision_score, recall_score, classification_report, confusion_matrix\n",
        "from sklearn.model_selection import KFold #for K-fold cross validation\n",
        "from sklearn.model_selection import cross_val_score #score evaluation\n",
        "from sklearn.model_selection import cross_val_predict #prediction\n",
        "from sklearn.model_selection import GridSearchCV, StratifiedKFold\n",
        "\n",
        "\n",
        "\n",
        "from sklearn.utils import resample\n",
        "import sklearn.metrics as metrics\n",
        "from imblearn.over_sampling import SMOTE\n",
        "from imblearn.under_sampling import RandomUnderSampler\n",
        "\n",
        "from plotnine import *\n",
        "import plotnine"
      ],
      "id": "df95b94e",
      "execution_count": 2,
      "outputs": [
        {
          "output_type": "stream",
          "text": [
            "/usr/local/lib/python3.7/dist-packages/statsmodels/tools/_testing.py:19: FutureWarning: pandas.util.testing is deprecated. Use the functions in the public API at pandas.testing instead.\n",
            "  import pandas.util.testing as tm\n",
            "/usr/local/lib/python3.7/dist-packages/sklearn/externals/six.py:31: FutureWarning: The module is deprecated in version 0.21 and will be removed in version 0.23 since we've dropped support for Python 2.7. Please rely on the official version of six (https://pypi.org/project/six/).\n",
            "  \"(https://pypi.org/project/six/).\", FutureWarning)\n",
            "/usr/local/lib/python3.7/dist-packages/sklearn/utils/deprecation.py:144: FutureWarning: The sklearn.neighbors.base module is  deprecated in version 0.22 and will be removed in version 0.24. The corresponding classes / functions should instead be imported from sklearn.neighbors. Anything that cannot be imported from sklearn.neighbors is now part of the private API.\n",
            "  warnings.warn(message, FutureWarning)\n"
          ],
          "name": "stderr"
        }
      ]
    },
    {
      "cell_type": "markdown",
      "metadata": {
        "id": "9b4aa519"
      },
      "source": [
        "**Please organise the libraries**"
      ],
      "id": "9b4aa519"
    },
    {
      "cell_type": "markdown",
      "metadata": {
        "id": "71a4335a"
      },
      "source": [
        "# 1) Loading the dataset"
      ],
      "id": "71a4335a"
    },
    {
      "cell_type": "code",
      "metadata": {
        "id": "a8784936"
      },
      "source": [
        "df = pd.read_csv('/content/drive/MyDrive/Code Projects/warehouse shipment/product_shipment.csv')  # Loading the dataset onto a variable df"
      ],
      "id": "a8784936",
      "execution_count": 3,
      "outputs": []
    },
    {
      "cell_type": "markdown",
      "metadata": {
        "id": "f6122db9"
      },
      "source": [
        "Now that the dataset has been loaded, we explore the dataset to get a 'feel' of the data"
      ],
      "id": "f6122db9"
    },
    {
      "cell_type": "code",
      "metadata": {
        "colab": {
          "base_uri": "https://localhost:8080/"
        },
        "id": "b25229fb",
        "outputId": "635f2216-cde9-4ae7-9c59-41297527cf12"
      },
      "source": [
        "df.info()  # basic info of the features"
      ],
      "id": "b25229fb",
      "execution_count": 4,
      "outputs": [
        {
          "output_type": "stream",
          "text": [
            "<class 'pandas.core.frame.DataFrame'>\n",
            "RangeIndex: 10999 entries, 0 to 10998\n",
            "Data columns (total 12 columns):\n",
            " #   Column               Non-Null Count  Dtype \n",
            "---  ------               --------------  ----- \n",
            " 0   ID                   10999 non-null  int64 \n",
            " 1   Warehouse_block      10999 non-null  object\n",
            " 2   Mode_of_Shipment     10999 non-null  object\n",
            " 3   Customer_care_calls  10999 non-null  int64 \n",
            " 4   Customer_rating      10999 non-null  int64 \n",
            " 5   Cost_of_the_Product  10999 non-null  int64 \n",
            " 6   Prior_purchases      10999 non-null  int64 \n",
            " 7   Product_importance   10999 non-null  object\n",
            " 8   Gender               10999 non-null  object\n",
            " 9   Discount_offered     10999 non-null  int64 \n",
            " 10  Weight_in_gms        10999 non-null  int64 \n",
            " 11  Reached.on.Time_Y.N  10999 non-null  int64 \n",
            "dtypes: int64(8), object(4)\n",
            "memory usage: 1.0+ MB\n"
          ],
          "name": "stdout"
        }
      ]
    },
    {
      "cell_type": "markdown",
      "metadata": {
        "id": "b28c5553"
      },
      "source": [
        "We see that a few of the features are of object type. We might require to change these to int/float in order to perform further statistical analysis."
      ],
      "id": "b28c5553"
    },
    {
      "cell_type": "code",
      "metadata": {
        "colab": {
          "base_uri": "https://localhost:8080/"
        },
        "id": "0f480511",
        "outputId": "f75fa8d0-91f6-4bc3-d160-503b6a828405"
      },
      "source": [
        "df.size  # the get the size of the dataset\n",
        "         # shape can be seen in the above code, 10999*12"
      ],
      "id": "0f480511",
      "execution_count": 5,
      "outputs": [
        {
          "output_type": "execute_result",
          "data": {
            "text/plain": [
              "131988"
            ]
          },
          "metadata": {
            "tags": []
          },
          "execution_count": 5
        }
      ]
    },
    {
      "cell_type": "code",
      "metadata": {
        "colab": {
          "base_uri": "https://localhost:8080/",
          "height": 0
        },
        "id": "70d40f79",
        "outputId": "b6d6fcdd-7728-455b-93d1-6bb9a049aaf6"
      },
      "source": [
        "df.head(10)  # to see first 10 entries in the dataset"
      ],
      "id": "70d40f79",
      "execution_count": 6,
      "outputs": [
        {
          "output_type": "execute_result",
          "data": {
            "text/html": [
              "<div>\n",
              "<style scoped>\n",
              "    .dataframe tbody tr th:only-of-type {\n",
              "        vertical-align: middle;\n",
              "    }\n",
              "\n",
              "    .dataframe tbody tr th {\n",
              "        vertical-align: top;\n",
              "    }\n",
              "\n",
              "    .dataframe thead th {\n",
              "        text-align: right;\n",
              "    }\n",
              "</style>\n",
              "<table border=\"1\" class=\"dataframe\">\n",
              "  <thead>\n",
              "    <tr style=\"text-align: right;\">\n",
              "      <th></th>\n",
              "      <th>ID</th>\n",
              "      <th>Warehouse_block</th>\n",
              "      <th>Mode_of_Shipment</th>\n",
              "      <th>Customer_care_calls</th>\n",
              "      <th>Customer_rating</th>\n",
              "      <th>Cost_of_the_Product</th>\n",
              "      <th>Prior_purchases</th>\n",
              "      <th>Product_importance</th>\n",
              "      <th>Gender</th>\n",
              "      <th>Discount_offered</th>\n",
              "      <th>Weight_in_gms</th>\n",
              "      <th>Reached.on.Time_Y.N</th>\n",
              "    </tr>\n",
              "  </thead>\n",
              "  <tbody>\n",
              "    <tr>\n",
              "      <th>0</th>\n",
              "      <td>1</td>\n",
              "      <td>D</td>\n",
              "      <td>Flight</td>\n",
              "      <td>4</td>\n",
              "      <td>2</td>\n",
              "      <td>177</td>\n",
              "      <td>3</td>\n",
              "      <td>low</td>\n",
              "      <td>F</td>\n",
              "      <td>44</td>\n",
              "      <td>1233</td>\n",
              "      <td>1</td>\n",
              "    </tr>\n",
              "    <tr>\n",
              "      <th>1</th>\n",
              "      <td>2</td>\n",
              "      <td>F</td>\n",
              "      <td>Flight</td>\n",
              "      <td>4</td>\n",
              "      <td>5</td>\n",
              "      <td>216</td>\n",
              "      <td>2</td>\n",
              "      <td>low</td>\n",
              "      <td>M</td>\n",
              "      <td>59</td>\n",
              "      <td>3088</td>\n",
              "      <td>1</td>\n",
              "    </tr>\n",
              "    <tr>\n",
              "      <th>2</th>\n",
              "      <td>3</td>\n",
              "      <td>A</td>\n",
              "      <td>Flight</td>\n",
              "      <td>2</td>\n",
              "      <td>2</td>\n",
              "      <td>183</td>\n",
              "      <td>4</td>\n",
              "      <td>low</td>\n",
              "      <td>M</td>\n",
              "      <td>48</td>\n",
              "      <td>3374</td>\n",
              "      <td>1</td>\n",
              "    </tr>\n",
              "    <tr>\n",
              "      <th>3</th>\n",
              "      <td>4</td>\n",
              "      <td>B</td>\n",
              "      <td>Flight</td>\n",
              "      <td>3</td>\n",
              "      <td>3</td>\n",
              "      <td>176</td>\n",
              "      <td>4</td>\n",
              "      <td>medium</td>\n",
              "      <td>M</td>\n",
              "      <td>10</td>\n",
              "      <td>1177</td>\n",
              "      <td>1</td>\n",
              "    </tr>\n",
              "    <tr>\n",
              "      <th>4</th>\n",
              "      <td>5</td>\n",
              "      <td>C</td>\n",
              "      <td>Flight</td>\n",
              "      <td>2</td>\n",
              "      <td>2</td>\n",
              "      <td>184</td>\n",
              "      <td>3</td>\n",
              "      <td>medium</td>\n",
              "      <td>F</td>\n",
              "      <td>46</td>\n",
              "      <td>2484</td>\n",
              "      <td>1</td>\n",
              "    </tr>\n",
              "    <tr>\n",
              "      <th>5</th>\n",
              "      <td>6</td>\n",
              "      <td>F</td>\n",
              "      <td>Flight</td>\n",
              "      <td>3</td>\n",
              "      <td>1</td>\n",
              "      <td>162</td>\n",
              "      <td>3</td>\n",
              "      <td>medium</td>\n",
              "      <td>F</td>\n",
              "      <td>12</td>\n",
              "      <td>1417</td>\n",
              "      <td>1</td>\n",
              "    </tr>\n",
              "    <tr>\n",
              "      <th>6</th>\n",
              "      <td>7</td>\n",
              "      <td>D</td>\n",
              "      <td>Flight</td>\n",
              "      <td>3</td>\n",
              "      <td>4</td>\n",
              "      <td>250</td>\n",
              "      <td>3</td>\n",
              "      <td>low</td>\n",
              "      <td>F</td>\n",
              "      <td>3</td>\n",
              "      <td>2371</td>\n",
              "      <td>1</td>\n",
              "    </tr>\n",
              "    <tr>\n",
              "      <th>7</th>\n",
              "      <td>8</td>\n",
              "      <td>F</td>\n",
              "      <td>Flight</td>\n",
              "      <td>4</td>\n",
              "      <td>1</td>\n",
              "      <td>233</td>\n",
              "      <td>2</td>\n",
              "      <td>low</td>\n",
              "      <td>F</td>\n",
              "      <td>48</td>\n",
              "      <td>2804</td>\n",
              "      <td>1</td>\n",
              "    </tr>\n",
              "    <tr>\n",
              "      <th>8</th>\n",
              "      <td>9</td>\n",
              "      <td>A</td>\n",
              "      <td>Flight</td>\n",
              "      <td>3</td>\n",
              "      <td>4</td>\n",
              "      <td>150</td>\n",
              "      <td>3</td>\n",
              "      <td>low</td>\n",
              "      <td>F</td>\n",
              "      <td>11</td>\n",
              "      <td>1861</td>\n",
              "      <td>1</td>\n",
              "    </tr>\n",
              "    <tr>\n",
              "      <th>9</th>\n",
              "      <td>10</td>\n",
              "      <td>B</td>\n",
              "      <td>Flight</td>\n",
              "      <td>3</td>\n",
              "      <td>2</td>\n",
              "      <td>164</td>\n",
              "      <td>3</td>\n",
              "      <td>medium</td>\n",
              "      <td>F</td>\n",
              "      <td>29</td>\n",
              "      <td>1187</td>\n",
              "      <td>1</td>\n",
              "    </tr>\n",
              "  </tbody>\n",
              "</table>\n",
              "</div>"
            ],
            "text/plain": [
              "   ID Warehouse_block  ... Weight_in_gms  Reached.on.Time_Y.N\n",
              "0   1               D  ...          1233                    1\n",
              "1   2               F  ...          3088                    1\n",
              "2   3               A  ...          3374                    1\n",
              "3   4               B  ...          1177                    1\n",
              "4   5               C  ...          2484                    1\n",
              "5   6               F  ...          1417                    1\n",
              "6   7               D  ...          2371                    1\n",
              "7   8               F  ...          2804                    1\n",
              "8   9               A  ...          1861                    1\n",
              "9  10               B  ...          1187                    1\n",
              "\n",
              "[10 rows x 12 columns]"
            ]
          },
          "metadata": {
            "tags": []
          },
          "execution_count": 6
        }
      ]
    },
    {
      "cell_type": "markdown",
      "metadata": {
        "id": "02bfb7e7"
      },
      "source": [
        "We see that 'Warehouse_block', 'Mode_of_Shipment', 'Gender' are categorical features and 'Product_importance' is an ordinal feature. Thus, we can change them later to facilitate analysis."
      ],
      "id": "02bfb7e7"
    },
    {
      "cell_type": "markdown",
      "metadata": {
        "id": "c6512772"
      },
      "source": [
        "# 2) Data cleansing:"
      ],
      "id": "c6512772"
    },
    {
      "cell_type": "code",
      "metadata": {
        "colab": {
          "base_uri": "https://localhost:8080/"
        },
        "id": "f869f7cb",
        "outputId": "808a21a7-049f-4d8e-cab7-220308d6a1af"
      },
      "source": [
        "df.isnull().any().any()  # To see if there are any null values in the entire dataset"
      ],
      "id": "f869f7cb",
      "execution_count": 7,
      "outputs": [
        {
          "output_type": "execute_result",
          "data": {
            "text/plain": [
              "False"
            ]
          },
          "metadata": {
            "tags": []
          },
          "execution_count": 7
        }
      ]
    },
    {
      "cell_type": "markdown",
      "metadata": {
        "id": "1fb7fb53"
      },
      "source": [
        "Since there are no null values in the dataset, missing value treatment is note required."
      ],
      "id": "1fb7fb53"
    },
    {
      "cell_type": "markdown",
      "metadata": {
        "id": "93342b28"
      },
      "source": [
        "We also drop off the feature ID as it just works as index and does not provide any additional information"
      ],
      "id": "93342b28"
    },
    {
      "cell_type": "code",
      "metadata": {
        "id": "25fe8636"
      },
      "source": [
        "df.drop(['ID'], axis = 1, inplace = True)  # dropping the ID column"
      ],
      "id": "25fe8636",
      "execution_count": 8,
      "outputs": []
    },
    {
      "cell_type": "markdown",
      "metadata": {
        "id": "a27c457b"
      },
      "source": [
        "Now, we try to convert the ordinal variable using label encoding, and later explore the categorical variables as the problem is a bit more complex"
      ],
      "id": "a27c457b"
    },
    {
      "cell_type": "code",
      "metadata": {
        "id": "4098e08c"
      },
      "source": [
        "# label_encoder object knows how to understand word labels. \n",
        "label_encoder = preprocessing.LabelEncoder()\n",
        "# Encode labels in column 'Product_importance'. \n",
        "df['Product_importance']= label_encoder.fit_transform(df['Product_importance'])"
      ],
      "id": "4098e08c",
      "execution_count": 9,
      "outputs": []
    },
    {
      "cell_type": "code",
      "metadata": {
        "colab": {
          "base_uri": "https://localhost:8080/",
          "height": 0
        },
        "id": "5ef30d7e",
        "outputId": "cc333afb-1a07-49b0-a1cb-e9940e828e4d"
      },
      "source": [
        "df.head(10)  # to see first 10 entries in the dataset"
      ],
      "id": "5ef30d7e",
      "execution_count": 10,
      "outputs": [
        {
          "output_type": "execute_result",
          "data": {
            "text/html": [
              "<div>\n",
              "<style scoped>\n",
              "    .dataframe tbody tr th:only-of-type {\n",
              "        vertical-align: middle;\n",
              "    }\n",
              "\n",
              "    .dataframe tbody tr th {\n",
              "        vertical-align: top;\n",
              "    }\n",
              "\n",
              "    .dataframe thead th {\n",
              "        text-align: right;\n",
              "    }\n",
              "</style>\n",
              "<table border=\"1\" class=\"dataframe\">\n",
              "  <thead>\n",
              "    <tr style=\"text-align: right;\">\n",
              "      <th></th>\n",
              "      <th>Warehouse_block</th>\n",
              "      <th>Mode_of_Shipment</th>\n",
              "      <th>Customer_care_calls</th>\n",
              "      <th>Customer_rating</th>\n",
              "      <th>Cost_of_the_Product</th>\n",
              "      <th>Prior_purchases</th>\n",
              "      <th>Product_importance</th>\n",
              "      <th>Gender</th>\n",
              "      <th>Discount_offered</th>\n",
              "      <th>Weight_in_gms</th>\n",
              "      <th>Reached.on.Time_Y.N</th>\n",
              "    </tr>\n",
              "  </thead>\n",
              "  <tbody>\n",
              "    <tr>\n",
              "      <th>0</th>\n",
              "      <td>D</td>\n",
              "      <td>Flight</td>\n",
              "      <td>4</td>\n",
              "      <td>2</td>\n",
              "      <td>177</td>\n",
              "      <td>3</td>\n",
              "      <td>1</td>\n",
              "      <td>F</td>\n",
              "      <td>44</td>\n",
              "      <td>1233</td>\n",
              "      <td>1</td>\n",
              "    </tr>\n",
              "    <tr>\n",
              "      <th>1</th>\n",
              "      <td>F</td>\n",
              "      <td>Flight</td>\n",
              "      <td>4</td>\n",
              "      <td>5</td>\n",
              "      <td>216</td>\n",
              "      <td>2</td>\n",
              "      <td>1</td>\n",
              "      <td>M</td>\n",
              "      <td>59</td>\n",
              "      <td>3088</td>\n",
              "      <td>1</td>\n",
              "    </tr>\n",
              "    <tr>\n",
              "      <th>2</th>\n",
              "      <td>A</td>\n",
              "      <td>Flight</td>\n",
              "      <td>2</td>\n",
              "      <td>2</td>\n",
              "      <td>183</td>\n",
              "      <td>4</td>\n",
              "      <td>1</td>\n",
              "      <td>M</td>\n",
              "      <td>48</td>\n",
              "      <td>3374</td>\n",
              "      <td>1</td>\n",
              "    </tr>\n",
              "    <tr>\n",
              "      <th>3</th>\n",
              "      <td>B</td>\n",
              "      <td>Flight</td>\n",
              "      <td>3</td>\n",
              "      <td>3</td>\n",
              "      <td>176</td>\n",
              "      <td>4</td>\n",
              "      <td>2</td>\n",
              "      <td>M</td>\n",
              "      <td>10</td>\n",
              "      <td>1177</td>\n",
              "      <td>1</td>\n",
              "    </tr>\n",
              "    <tr>\n",
              "      <th>4</th>\n",
              "      <td>C</td>\n",
              "      <td>Flight</td>\n",
              "      <td>2</td>\n",
              "      <td>2</td>\n",
              "      <td>184</td>\n",
              "      <td>3</td>\n",
              "      <td>2</td>\n",
              "      <td>F</td>\n",
              "      <td>46</td>\n",
              "      <td>2484</td>\n",
              "      <td>1</td>\n",
              "    </tr>\n",
              "    <tr>\n",
              "      <th>5</th>\n",
              "      <td>F</td>\n",
              "      <td>Flight</td>\n",
              "      <td>3</td>\n",
              "      <td>1</td>\n",
              "      <td>162</td>\n",
              "      <td>3</td>\n",
              "      <td>2</td>\n",
              "      <td>F</td>\n",
              "      <td>12</td>\n",
              "      <td>1417</td>\n",
              "      <td>1</td>\n",
              "    </tr>\n",
              "    <tr>\n",
              "      <th>6</th>\n",
              "      <td>D</td>\n",
              "      <td>Flight</td>\n",
              "      <td>3</td>\n",
              "      <td>4</td>\n",
              "      <td>250</td>\n",
              "      <td>3</td>\n",
              "      <td>1</td>\n",
              "      <td>F</td>\n",
              "      <td>3</td>\n",
              "      <td>2371</td>\n",
              "      <td>1</td>\n",
              "    </tr>\n",
              "    <tr>\n",
              "      <th>7</th>\n",
              "      <td>F</td>\n",
              "      <td>Flight</td>\n",
              "      <td>4</td>\n",
              "      <td>1</td>\n",
              "      <td>233</td>\n",
              "      <td>2</td>\n",
              "      <td>1</td>\n",
              "      <td>F</td>\n",
              "      <td>48</td>\n",
              "      <td>2804</td>\n",
              "      <td>1</td>\n",
              "    </tr>\n",
              "    <tr>\n",
              "      <th>8</th>\n",
              "      <td>A</td>\n",
              "      <td>Flight</td>\n",
              "      <td>3</td>\n",
              "      <td>4</td>\n",
              "      <td>150</td>\n",
              "      <td>3</td>\n",
              "      <td>1</td>\n",
              "      <td>F</td>\n",
              "      <td>11</td>\n",
              "      <td>1861</td>\n",
              "      <td>1</td>\n",
              "    </tr>\n",
              "    <tr>\n",
              "      <th>9</th>\n",
              "      <td>B</td>\n",
              "      <td>Flight</td>\n",
              "      <td>3</td>\n",
              "      <td>2</td>\n",
              "      <td>164</td>\n",
              "      <td>3</td>\n",
              "      <td>2</td>\n",
              "      <td>F</td>\n",
              "      <td>29</td>\n",
              "      <td>1187</td>\n",
              "      <td>1</td>\n",
              "    </tr>\n",
              "  </tbody>\n",
              "</table>\n",
              "</div>"
            ],
            "text/plain": [
              "  Warehouse_block Mode_of_Shipment  ...  Weight_in_gms  Reached.on.Time_Y.N\n",
              "0               D           Flight  ...           1233                    1\n",
              "1               F           Flight  ...           3088                    1\n",
              "2               A           Flight  ...           3374                    1\n",
              "3               B           Flight  ...           1177                    1\n",
              "4               C           Flight  ...           2484                    1\n",
              "5               F           Flight  ...           1417                    1\n",
              "6               D           Flight  ...           2371                    1\n",
              "7               F           Flight  ...           2804                    1\n",
              "8               A           Flight  ...           1861                    1\n",
              "9               B           Flight  ...           1187                    1\n",
              "\n",
              "[10 rows x 11 columns]"
            ]
          },
          "metadata": {
            "tags": []
          },
          "execution_count": 10
        }
      ]
    },
    {
      "cell_type": "code",
      "metadata": {
        "colab": {
          "base_uri": "https://localhost:8080/"
        },
        "id": "6801d369",
        "outputId": "bc811c25-cbcb-4f64-893c-0b49e8d75a00"
      },
      "source": [
        "df.info()  # verifying"
      ],
      "id": "6801d369",
      "execution_count": 11,
      "outputs": [
        {
          "output_type": "stream",
          "text": [
            "<class 'pandas.core.frame.DataFrame'>\n",
            "RangeIndex: 10999 entries, 0 to 10998\n",
            "Data columns (total 11 columns):\n",
            " #   Column               Non-Null Count  Dtype \n",
            "---  ------               --------------  ----- \n",
            " 0   Warehouse_block      10999 non-null  object\n",
            " 1   Mode_of_Shipment     10999 non-null  object\n",
            " 2   Customer_care_calls  10999 non-null  int64 \n",
            " 3   Customer_rating      10999 non-null  int64 \n",
            " 4   Cost_of_the_Product  10999 non-null  int64 \n",
            " 5   Prior_purchases      10999 non-null  int64 \n",
            " 6   Product_importance   10999 non-null  int64 \n",
            " 7   Gender               10999 non-null  object\n",
            " 8   Discount_offered     10999 non-null  int64 \n",
            " 9   Weight_in_gms        10999 non-null  int64 \n",
            " 10  Reached.on.Time_Y.N  10999 non-null  int64 \n",
            "dtypes: int64(8), object(3)\n",
            "memory usage: 945.4+ KB\n"
          ],
          "name": "stdout"
        }
      ]
    },
    {
      "cell_type": "markdown",
      "metadata": {
        "id": "42949b3c"
      },
      "source": [
        "We can see that the importance have been encoded as 1,2,3 for low, medium, high and datatype has changed successfully"
      ],
      "id": "42949b3c"
    },
    {
      "cell_type": "markdown",
      "metadata": {
        "id": "6b70bdc1"
      },
      "source": [
        "## (i) One-Hot Encoding:"
      ],
      "id": "6b70bdc1"
    },
    {
      "cell_type": "markdown",
      "metadata": {
        "id": "42db5c0b"
      },
      "source": [
        "Now, we should try to convert the categorical variables using one-hot encoding, but if the number of categories are too many, then it might result in very high multicollinearity which would affect the performance of linear models significantly and our dataset would also lose the assumption of independent features.\n",
        "Before proceeding further, we must copy the dataset."
      ],
      "id": "42db5c0b"
    },
    {
      "cell_type": "code",
      "metadata": {
        "id": "6201a626"
      },
      "source": [
        "df_onehot=df.copy(deep=True)"
      ],
      "id": "6201a626",
      "execution_count": 12,
      "outputs": []
    },
    {
      "cell_type": "code",
      "metadata": {
        "colab": {
          "base_uri": "https://localhost:8080/",
          "height": 0
        },
        "id": "10124996",
        "outputId": "c324f4dc-e3af-426e-948b-17f1b5f406c7"
      },
      "source": [
        "# Creating dummy features for the encoding\n",
        "df_onehot = pd.get_dummies(df_onehot, columns=['Gender', 'Mode_of_Shipment', 'Warehouse_block'])\n",
        "# verifying\n",
        "df_onehot.head(10)"
      ],
      "id": "10124996",
      "execution_count": 13,
      "outputs": [
        {
          "output_type": "execute_result",
          "data": {
            "text/html": [
              "<div>\n",
              "<style scoped>\n",
              "    .dataframe tbody tr th:only-of-type {\n",
              "        vertical-align: middle;\n",
              "    }\n",
              "\n",
              "    .dataframe tbody tr th {\n",
              "        vertical-align: top;\n",
              "    }\n",
              "\n",
              "    .dataframe thead th {\n",
              "        text-align: right;\n",
              "    }\n",
              "</style>\n",
              "<table border=\"1\" class=\"dataframe\">\n",
              "  <thead>\n",
              "    <tr style=\"text-align: right;\">\n",
              "      <th></th>\n",
              "      <th>Customer_care_calls</th>\n",
              "      <th>Customer_rating</th>\n",
              "      <th>Cost_of_the_Product</th>\n",
              "      <th>Prior_purchases</th>\n",
              "      <th>Product_importance</th>\n",
              "      <th>Discount_offered</th>\n",
              "      <th>Weight_in_gms</th>\n",
              "      <th>Reached.on.Time_Y.N</th>\n",
              "      <th>Gender_F</th>\n",
              "      <th>Gender_M</th>\n",
              "      <th>Mode_of_Shipment_Flight</th>\n",
              "      <th>Mode_of_Shipment_Road</th>\n",
              "      <th>Mode_of_Shipment_Ship</th>\n",
              "      <th>Warehouse_block_A</th>\n",
              "      <th>Warehouse_block_B</th>\n",
              "      <th>Warehouse_block_C</th>\n",
              "      <th>Warehouse_block_D</th>\n",
              "      <th>Warehouse_block_F</th>\n",
              "    </tr>\n",
              "  </thead>\n",
              "  <tbody>\n",
              "    <tr>\n",
              "      <th>0</th>\n",
              "      <td>4</td>\n",
              "      <td>2</td>\n",
              "      <td>177</td>\n",
              "      <td>3</td>\n",
              "      <td>1</td>\n",
              "      <td>44</td>\n",
              "      <td>1233</td>\n",
              "      <td>1</td>\n",
              "      <td>1</td>\n",
              "      <td>0</td>\n",
              "      <td>1</td>\n",
              "      <td>0</td>\n",
              "      <td>0</td>\n",
              "      <td>0</td>\n",
              "      <td>0</td>\n",
              "      <td>0</td>\n",
              "      <td>1</td>\n",
              "      <td>0</td>\n",
              "    </tr>\n",
              "    <tr>\n",
              "      <th>1</th>\n",
              "      <td>4</td>\n",
              "      <td>5</td>\n",
              "      <td>216</td>\n",
              "      <td>2</td>\n",
              "      <td>1</td>\n",
              "      <td>59</td>\n",
              "      <td>3088</td>\n",
              "      <td>1</td>\n",
              "      <td>0</td>\n",
              "      <td>1</td>\n",
              "      <td>1</td>\n",
              "      <td>0</td>\n",
              "      <td>0</td>\n",
              "      <td>0</td>\n",
              "      <td>0</td>\n",
              "      <td>0</td>\n",
              "      <td>0</td>\n",
              "      <td>1</td>\n",
              "    </tr>\n",
              "    <tr>\n",
              "      <th>2</th>\n",
              "      <td>2</td>\n",
              "      <td>2</td>\n",
              "      <td>183</td>\n",
              "      <td>4</td>\n",
              "      <td>1</td>\n",
              "      <td>48</td>\n",
              "      <td>3374</td>\n",
              "      <td>1</td>\n",
              "      <td>0</td>\n",
              "      <td>1</td>\n",
              "      <td>1</td>\n",
              "      <td>0</td>\n",
              "      <td>0</td>\n",
              "      <td>1</td>\n",
              "      <td>0</td>\n",
              "      <td>0</td>\n",
              "      <td>0</td>\n",
              "      <td>0</td>\n",
              "    </tr>\n",
              "    <tr>\n",
              "      <th>3</th>\n",
              "      <td>3</td>\n",
              "      <td>3</td>\n",
              "      <td>176</td>\n",
              "      <td>4</td>\n",
              "      <td>2</td>\n",
              "      <td>10</td>\n",
              "      <td>1177</td>\n",
              "      <td>1</td>\n",
              "      <td>0</td>\n",
              "      <td>1</td>\n",
              "      <td>1</td>\n",
              "      <td>0</td>\n",
              "      <td>0</td>\n",
              "      <td>0</td>\n",
              "      <td>1</td>\n",
              "      <td>0</td>\n",
              "      <td>0</td>\n",
              "      <td>0</td>\n",
              "    </tr>\n",
              "    <tr>\n",
              "      <th>4</th>\n",
              "      <td>2</td>\n",
              "      <td>2</td>\n",
              "      <td>184</td>\n",
              "      <td>3</td>\n",
              "      <td>2</td>\n",
              "      <td>46</td>\n",
              "      <td>2484</td>\n",
              "      <td>1</td>\n",
              "      <td>1</td>\n",
              "      <td>0</td>\n",
              "      <td>1</td>\n",
              "      <td>0</td>\n",
              "      <td>0</td>\n",
              "      <td>0</td>\n",
              "      <td>0</td>\n",
              "      <td>1</td>\n",
              "      <td>0</td>\n",
              "      <td>0</td>\n",
              "    </tr>\n",
              "    <tr>\n",
              "      <th>5</th>\n",
              "      <td>3</td>\n",
              "      <td>1</td>\n",
              "      <td>162</td>\n",
              "      <td>3</td>\n",
              "      <td>2</td>\n",
              "      <td>12</td>\n",
              "      <td>1417</td>\n",
              "      <td>1</td>\n",
              "      <td>1</td>\n",
              "      <td>0</td>\n",
              "      <td>1</td>\n",
              "      <td>0</td>\n",
              "      <td>0</td>\n",
              "      <td>0</td>\n",
              "      <td>0</td>\n",
              "      <td>0</td>\n",
              "      <td>0</td>\n",
              "      <td>1</td>\n",
              "    </tr>\n",
              "    <tr>\n",
              "      <th>6</th>\n",
              "      <td>3</td>\n",
              "      <td>4</td>\n",
              "      <td>250</td>\n",
              "      <td>3</td>\n",
              "      <td>1</td>\n",
              "      <td>3</td>\n",
              "      <td>2371</td>\n",
              "      <td>1</td>\n",
              "      <td>1</td>\n",
              "      <td>0</td>\n",
              "      <td>1</td>\n",
              "      <td>0</td>\n",
              "      <td>0</td>\n",
              "      <td>0</td>\n",
              "      <td>0</td>\n",
              "      <td>0</td>\n",
              "      <td>1</td>\n",
              "      <td>0</td>\n",
              "    </tr>\n",
              "    <tr>\n",
              "      <th>7</th>\n",
              "      <td>4</td>\n",
              "      <td>1</td>\n",
              "      <td>233</td>\n",
              "      <td>2</td>\n",
              "      <td>1</td>\n",
              "      <td>48</td>\n",
              "      <td>2804</td>\n",
              "      <td>1</td>\n",
              "      <td>1</td>\n",
              "      <td>0</td>\n",
              "      <td>1</td>\n",
              "      <td>0</td>\n",
              "      <td>0</td>\n",
              "      <td>0</td>\n",
              "      <td>0</td>\n",
              "      <td>0</td>\n",
              "      <td>0</td>\n",
              "      <td>1</td>\n",
              "    </tr>\n",
              "    <tr>\n",
              "      <th>8</th>\n",
              "      <td>3</td>\n",
              "      <td>4</td>\n",
              "      <td>150</td>\n",
              "      <td>3</td>\n",
              "      <td>1</td>\n",
              "      <td>11</td>\n",
              "      <td>1861</td>\n",
              "      <td>1</td>\n",
              "      <td>1</td>\n",
              "      <td>0</td>\n",
              "      <td>1</td>\n",
              "      <td>0</td>\n",
              "      <td>0</td>\n",
              "      <td>1</td>\n",
              "      <td>0</td>\n",
              "      <td>0</td>\n",
              "      <td>0</td>\n",
              "      <td>0</td>\n",
              "    </tr>\n",
              "    <tr>\n",
              "      <th>9</th>\n",
              "      <td>3</td>\n",
              "      <td>2</td>\n",
              "      <td>164</td>\n",
              "      <td>3</td>\n",
              "      <td>2</td>\n",
              "      <td>29</td>\n",
              "      <td>1187</td>\n",
              "      <td>1</td>\n",
              "      <td>1</td>\n",
              "      <td>0</td>\n",
              "      <td>1</td>\n",
              "      <td>0</td>\n",
              "      <td>0</td>\n",
              "      <td>0</td>\n",
              "      <td>1</td>\n",
              "      <td>0</td>\n",
              "      <td>0</td>\n",
              "      <td>0</td>\n",
              "    </tr>\n",
              "  </tbody>\n",
              "</table>\n",
              "</div>"
            ],
            "text/plain": [
              "   Customer_care_calls  Customer_rating  ...  Warehouse_block_D  Warehouse_block_F\n",
              "0                    4                2  ...                  1                  0\n",
              "1                    4                5  ...                  0                  1\n",
              "2                    2                2  ...                  0                  0\n",
              "3                    3                3  ...                  0                  0\n",
              "4                    2                2  ...                  0                  0\n",
              "5                    3                1  ...                  0                  1\n",
              "6                    3                4  ...                  1                  0\n",
              "7                    4                1  ...                  0                  1\n",
              "8                    3                4  ...                  0                  0\n",
              "9                    3                2  ...                  0                  0\n",
              "\n",
              "[10 rows x 18 columns]"
            ]
          },
          "metadata": {
            "tags": []
          },
          "execution_count": 13
        }
      ]
    },
    {
      "cell_type": "code",
      "metadata": {
        "colab": {
          "base_uri": "https://localhost:8080/"
        },
        "id": "77098c75",
        "outputId": "79bafda9-f008-47b2-a834-e261383a4f48"
      },
      "source": [
        "df_onehot.info()"
      ],
      "id": "77098c75",
      "execution_count": 14,
      "outputs": [
        {
          "output_type": "stream",
          "text": [
            "<class 'pandas.core.frame.DataFrame'>\n",
            "RangeIndex: 10999 entries, 0 to 10998\n",
            "Data columns (total 18 columns):\n",
            " #   Column                   Non-Null Count  Dtype\n",
            "---  ------                   --------------  -----\n",
            " 0   Customer_care_calls      10999 non-null  int64\n",
            " 1   Customer_rating          10999 non-null  int64\n",
            " 2   Cost_of_the_Product      10999 non-null  int64\n",
            " 3   Prior_purchases          10999 non-null  int64\n",
            " 4   Product_importance       10999 non-null  int64\n",
            " 5   Discount_offered         10999 non-null  int64\n",
            " 6   Weight_in_gms            10999 non-null  int64\n",
            " 7   Reached.on.Time_Y.N      10999 non-null  int64\n",
            " 8   Gender_F                 10999 non-null  uint8\n",
            " 9   Gender_M                 10999 non-null  uint8\n",
            " 10  Mode_of_Shipment_Flight  10999 non-null  uint8\n",
            " 11  Mode_of_Shipment_Road    10999 non-null  uint8\n",
            " 12  Mode_of_Shipment_Ship    10999 non-null  uint8\n",
            " 13  Warehouse_block_A        10999 non-null  uint8\n",
            " 14  Warehouse_block_B        10999 non-null  uint8\n",
            " 15  Warehouse_block_C        10999 non-null  uint8\n",
            " 16  Warehouse_block_D        10999 non-null  uint8\n",
            " 17  Warehouse_block_F        10999 non-null  uint8\n",
            "dtypes: int64(8), uint8(10)\n",
            "memory usage: 795.0 KB\n"
          ],
          "name": "stdout"
        }
      ]
    },
    {
      "cell_type": "markdown",
      "metadata": {
        "id": "105c3ccd"
      },
      "source": [
        "One-Hot Encoding results in a Dummy Variable Trap as the outcome of one variable can easily be predicted with the help of the remaining variables. This results in multicollinearity.\n",
        "\n",
        "We use Variance Inflation Factor(VIF) to analyse multicollinearity.\n",
        "\n",
        "* VIF=1, Very Less Multicollinearity\n",
        "* VIF<5, Moderate Multicollinearity\n",
        "* VIF>5, Extreme Multicollinearity (This is what we have to avoid)\n",
        "\n",
        "We check VIF only in the independent variables so we must drop the target variable for now"
      ],
      "id": "105c3ccd"
    },
    {
      "cell_type": "code",
      "metadata": {
        "colab": {
          "base_uri": "https://localhost:8080/",
          "height": 0
        },
        "id": "e669fd6e",
        "outputId": "49a416f2-ab3b-47de-8a71-7937eb645d57"
      },
      "source": [
        "# the set of categorical variables\n",
        "X = df_onehot.drop(['Reached.on.Time_Y.N'], axis = 1)\n",
        "  \n",
        "# VIF dataframe\n",
        "vif_data = pd.DataFrame()\n",
        "vif_data[\"Variable\"] = X.columns\n",
        "  \n",
        "# calculating VIF for each feature\n",
        "vif_data[\"VIF\"] = [variance_inflation_factor(X.values, i)\n",
        "                          for i in range(len(X.columns))]\n",
        "vif_data"
      ],
      "id": "e669fd6e",
      "execution_count": 15,
      "outputs": [
        {
          "output_type": "stream",
          "text": [
            "/usr/local/lib/python3.7/dist-packages/statsmodels/stats/outliers_influence.py:185: RuntimeWarning: divide by zero encountered in double_scalars\n",
            "  vif = 1. / (1. - r_squared_i)\n"
          ],
          "name": "stderr"
        },
        {
          "output_type": "execute_result",
          "data": {
            "text/html": [
              "<div>\n",
              "<style scoped>\n",
              "    .dataframe tbody tr th:only-of-type {\n",
              "        vertical-align: middle;\n",
              "    }\n",
              "\n",
              "    .dataframe tbody tr th {\n",
              "        vertical-align: top;\n",
              "    }\n",
              "\n",
              "    .dataframe thead th {\n",
              "        text-align: right;\n",
              "    }\n",
              "</style>\n",
              "<table border=\"1\" class=\"dataframe\">\n",
              "  <thead>\n",
              "    <tr style=\"text-align: right;\">\n",
              "      <th></th>\n",
              "      <th>Variable</th>\n",
              "      <th>VIF</th>\n",
              "    </tr>\n",
              "  </thead>\n",
              "  <tbody>\n",
              "    <tr>\n",
              "      <th>0</th>\n",
              "      <td>Customer_care_calls</td>\n",
              "      <td>1.260807</td>\n",
              "    </tr>\n",
              "    <tr>\n",
              "      <th>1</th>\n",
              "      <td>Customer_rating</td>\n",
              "      <td>1.000500</td>\n",
              "    </tr>\n",
              "    <tr>\n",
              "      <th>2</th>\n",
              "      <td>Cost_of_the_Product</td>\n",
              "      <td>1.144838</td>\n",
              "    </tr>\n",
              "    <tr>\n",
              "      <th>3</th>\n",
              "      <td>Prior_purchases</td>\n",
              "      <td>1.070703</td>\n",
              "    </tr>\n",
              "    <tr>\n",
              "      <th>4</th>\n",
              "      <td>Product_importance</td>\n",
              "      <td>1.000885</td>\n",
              "    </tr>\n",
              "    <tr>\n",
              "      <th>5</th>\n",
              "      <td>Discount_offered</td>\n",
              "      <td>1.295057</td>\n",
              "    </tr>\n",
              "    <tr>\n",
              "      <th>6</th>\n",
              "      <td>Weight_in_gms</td>\n",
              "      <td>1.383377</td>\n",
              "    </tr>\n",
              "    <tr>\n",
              "      <th>7</th>\n",
              "      <td>Gender_F</td>\n",
              "      <td>inf</td>\n",
              "    </tr>\n",
              "    <tr>\n",
              "      <th>8</th>\n",
              "      <td>Gender_M</td>\n",
              "      <td>inf</td>\n",
              "    </tr>\n",
              "    <tr>\n",
              "      <th>9</th>\n",
              "      <td>Mode_of_Shipment_Flight</td>\n",
              "      <td>inf</td>\n",
              "    </tr>\n",
              "    <tr>\n",
              "      <th>10</th>\n",
              "      <td>Mode_of_Shipment_Road</td>\n",
              "      <td>inf</td>\n",
              "    </tr>\n",
              "    <tr>\n",
              "      <th>11</th>\n",
              "      <td>Mode_of_Shipment_Ship</td>\n",
              "      <td>inf</td>\n",
              "    </tr>\n",
              "    <tr>\n",
              "      <th>12</th>\n",
              "      <td>Warehouse_block_A</td>\n",
              "      <td>inf</td>\n",
              "    </tr>\n",
              "    <tr>\n",
              "      <th>13</th>\n",
              "      <td>Warehouse_block_B</td>\n",
              "      <td>inf</td>\n",
              "    </tr>\n",
              "    <tr>\n",
              "      <th>14</th>\n",
              "      <td>Warehouse_block_C</td>\n",
              "      <td>inf</td>\n",
              "    </tr>\n",
              "    <tr>\n",
              "      <th>15</th>\n",
              "      <td>Warehouse_block_D</td>\n",
              "      <td>inf</td>\n",
              "    </tr>\n",
              "    <tr>\n",
              "      <th>16</th>\n",
              "      <td>Warehouse_block_F</td>\n",
              "      <td>inf</td>\n",
              "    </tr>\n",
              "  </tbody>\n",
              "</table>\n",
              "</div>"
            ],
            "text/plain": [
              "                   Variable       VIF\n",
              "0       Customer_care_calls  1.260807\n",
              "1           Customer_rating  1.000500\n",
              "2       Cost_of_the_Product  1.144838\n",
              "3           Prior_purchases  1.070703\n",
              "4        Product_importance  1.000885\n",
              "5          Discount_offered  1.295057\n",
              "6             Weight_in_gms  1.383377\n",
              "7                  Gender_F       inf\n",
              "8                  Gender_M       inf\n",
              "9   Mode_of_Shipment_Flight       inf\n",
              "10    Mode_of_Shipment_Road       inf\n",
              "11    Mode_of_Shipment_Ship       inf\n",
              "12        Warehouse_block_A       inf\n",
              "13        Warehouse_block_B       inf\n",
              "14        Warehouse_block_C       inf\n",
              "15        Warehouse_block_D       inf\n",
              "16        Warehouse_block_F       inf"
            ]
          },
          "metadata": {
            "tags": []
          },
          "execution_count": 15
        }
      ]
    },
    {
      "cell_type": "markdown",
      "metadata": {
        "id": "1e7e444e"
      },
      "source": [
        "We see that VIF for some variables is as high as infinity. Eg: Gender_F can completely predict Gender_M. Therefore, we must drop one dummy feature per conversion and see if that is feasible."
      ],
      "id": "1e7e444e"
    },
    {
      "cell_type": "code",
      "metadata": {
        "id": "22a5afde"
      },
      "source": [
        "#dropping 'Gender_F', 'Mode_of_Shipment_Flight', 'Warehouse_block_A'  \n",
        "df_dropped = df_onehot.drop(df_onehot.columns[[8,10,13]], axis = 1)  "
      ],
      "id": "22a5afde",
      "execution_count": 16,
      "outputs": []
    },
    {
      "cell_type": "code",
      "metadata": {
        "colab": {
          "base_uri": "https://localhost:8080/"
        },
        "id": "d6cccb46",
        "outputId": "f5f0cf0c-415f-44f8-bde7-c45121f6fcba"
      },
      "source": [
        "df_dropped.info()"
      ],
      "id": "d6cccb46",
      "execution_count": 17,
      "outputs": [
        {
          "output_type": "stream",
          "text": [
            "<class 'pandas.core.frame.DataFrame'>\n",
            "RangeIndex: 10999 entries, 0 to 10998\n",
            "Data columns (total 15 columns):\n",
            " #   Column                 Non-Null Count  Dtype\n",
            "---  ------                 --------------  -----\n",
            " 0   Customer_care_calls    10999 non-null  int64\n",
            " 1   Customer_rating        10999 non-null  int64\n",
            " 2   Cost_of_the_Product    10999 non-null  int64\n",
            " 3   Prior_purchases        10999 non-null  int64\n",
            " 4   Product_importance     10999 non-null  int64\n",
            " 5   Discount_offered       10999 non-null  int64\n",
            " 6   Weight_in_gms          10999 non-null  int64\n",
            " 7   Reached.on.Time_Y.N    10999 non-null  int64\n",
            " 8   Gender_M               10999 non-null  uint8\n",
            " 9   Mode_of_Shipment_Road  10999 non-null  uint8\n",
            " 10  Mode_of_Shipment_Ship  10999 non-null  uint8\n",
            " 11  Warehouse_block_B      10999 non-null  uint8\n",
            " 12  Warehouse_block_C      10999 non-null  uint8\n",
            " 13  Warehouse_block_D      10999 non-null  uint8\n",
            " 14  Warehouse_block_F      10999 non-null  uint8\n",
            "dtypes: int64(8), uint8(7)\n",
            "memory usage: 762.8 KB\n"
          ],
          "name": "stdout"
        }
      ]
    },
    {
      "cell_type": "code",
      "metadata": {
        "colab": {
          "base_uri": "https://localhost:8080/",
          "height": 0
        },
        "id": "7c2d0ae0",
        "outputId": "2645bc4a-dd45-4ce6-a087-45d7d7629548"
      },
      "source": [
        "# the set of categorical variables\n",
        "X_dropped = df_dropped.drop(['Reached.on.Time_Y.N'], axis = 1)\n",
        "  \n",
        "# VIF dataframe\n",
        "vif_data = pd.DataFrame()\n",
        "vif_data[\"Variable\"] = X_dropped.columns\n",
        "  \n",
        "# calculating VIF for each feature\n",
        "vif_data[\"VIF\"] = [variance_inflation_factor(X_dropped.values, i)\n",
        "                          for i in range(len(X_dropped.columns))]\n",
        "vif_data"
      ],
      "id": "7c2d0ae0",
      "execution_count": 18,
      "outputs": [
        {
          "output_type": "execute_result",
          "data": {
            "text/html": [
              "<div>\n",
              "<style scoped>\n",
              "    .dataframe tbody tr th:only-of-type {\n",
              "        vertical-align: middle;\n",
              "    }\n",
              "\n",
              "    .dataframe tbody tr th {\n",
              "        vertical-align: top;\n",
              "    }\n",
              "\n",
              "    .dataframe thead th {\n",
              "        text-align: right;\n",
              "    }\n",
              "</style>\n",
              "<table border=\"1\" class=\"dataframe\">\n",
              "  <thead>\n",
              "    <tr style=\"text-align: right;\">\n",
              "      <th></th>\n",
              "      <th>Variable</th>\n",
              "      <th>VIF</th>\n",
              "    </tr>\n",
              "  </thead>\n",
              "  <tbody>\n",
              "    <tr>\n",
              "      <th>0</th>\n",
              "      <td>Customer_care_calls</td>\n",
              "      <td>14.281482</td>\n",
              "    </tr>\n",
              "    <tr>\n",
              "      <th>1</th>\n",
              "      <td>Customer_rating</td>\n",
              "      <td>5.190082</td>\n",
              "    </tr>\n",
              "    <tr>\n",
              "      <th>2</th>\n",
              "      <td>Cost_of_the_Product</td>\n",
              "      <td>18.589566</td>\n",
              "    </tr>\n",
              "    <tr>\n",
              "      <th>3</th>\n",
              "      <td>Prior_purchases</td>\n",
              "      <td>6.426294</td>\n",
              "    </tr>\n",
              "    <tr>\n",
              "      <th>4</th>\n",
              "      <td>Product_importance</td>\n",
              "      <td>5.234916</td>\n",
              "    </tr>\n",
              "    <tr>\n",
              "      <th>5</th>\n",
              "      <td>Discount_offered</td>\n",
              "      <td>1.754516</td>\n",
              "    </tr>\n",
              "    <tr>\n",
              "      <th>6</th>\n",
              "      <td>Weight_in_gms</td>\n",
              "      <td>5.460389</td>\n",
              "    </tr>\n",
              "    <tr>\n",
              "      <th>7</th>\n",
              "      <td>Gender_M</td>\n",
              "      <td>1.959157</td>\n",
              "    </tr>\n",
              "    <tr>\n",
              "      <th>8</th>\n",
              "      <td>Mode_of_Shipment_Road</td>\n",
              "      <td>1.908285</td>\n",
              "    </tr>\n",
              "    <tr>\n",
              "      <th>9</th>\n",
              "      <td>Mode_of_Shipment_Ship</td>\n",
              "      <td>4.850386</td>\n",
              "    </tr>\n",
              "    <tr>\n",
              "      <th>10</th>\n",
              "      <td>Warehouse_block_B</td>\n",
              "      <td>1.934978</td>\n",
              "    </tr>\n",
              "    <tr>\n",
              "      <th>11</th>\n",
              "      <td>Warehouse_block_C</td>\n",
              "      <td>1.934022</td>\n",
              "    </tr>\n",
              "    <tr>\n",
              "      <th>12</th>\n",
              "      <td>Warehouse_block_D</td>\n",
              "      <td>1.931654</td>\n",
              "    </tr>\n",
              "    <tr>\n",
              "      <th>13</th>\n",
              "      <td>Warehouse_block_F</td>\n",
              "      <td>2.865591</td>\n",
              "    </tr>\n",
              "  </tbody>\n",
              "</table>\n",
              "</div>"
            ],
            "text/plain": [
              "                 Variable        VIF\n",
              "0     Customer_care_calls  14.281482\n",
              "1         Customer_rating   5.190082\n",
              "2     Cost_of_the_Product  18.589566\n",
              "3         Prior_purchases   6.426294\n",
              "4      Product_importance   5.234916\n",
              "5        Discount_offered   1.754516\n",
              "6           Weight_in_gms   5.460389\n",
              "7                Gender_M   1.959157\n",
              "8   Mode_of_Shipment_Road   1.908285\n",
              "9   Mode_of_Shipment_Ship   4.850386\n",
              "10      Warehouse_block_B   1.934978\n",
              "11      Warehouse_block_C   1.934022\n",
              "12      Warehouse_block_D   1.931654\n",
              "13      Warehouse_block_F   2.865591"
            ]
          },
          "metadata": {
            "tags": []
          },
          "execution_count": 18
        }
      ]
    },
    {
      "cell_type": "markdown",
      "metadata": {
        "id": "d454174b"
      },
      "source": [
        "We see that after dropping a dummy column per feature, the VIF for the dummy columns has become moderate and would not significanty affect linearity, thus we can proceed further.\n",
        "\n",
        "Also make a note tha the VIF for features 'Customer_care_calls' and 'Cost_of_the_Product' is exceptionally high, implying they provide very less new information in exchange for the increased dimensionality. We iteratively drop the features with highest VIF(>10) and store the dataset as df_reduced."
      ],
      "id": "d454174b"
    },
    {
      "cell_type": "markdown",
      "metadata": {
        "id": "3c33b1f0"
      },
      "source": [
        "But the problem with dropping a feature is that we lose on information. So before dropping this, we convert the discount percentage to absolute values, which would help retain some information about the Cost before dropping the feature due to its high VIF."
      ],
      "id": "3c33b1f0"
    },
    {
      "cell_type": "code",
      "metadata": {
        "id": "6ef065f1"
      },
      "source": [
        "df_reduced = df_dropped.copy(deep=True)"
      ],
      "id": "6ef065f1",
      "execution_count": 19,
      "outputs": []
    },
    {
      "cell_type": "code",
      "metadata": {
        "id": "02aa1348"
      },
      "source": [
        "df_reduced['Actual_Discount'] = df_reduced['Discount_offered']*df_reduced['Cost_of_the_Product']"
      ],
      "id": "02aa1348",
      "execution_count": 20,
      "outputs": []
    },
    {
      "cell_type": "code",
      "metadata": {
        "colab": {
          "base_uri": "https://localhost:8080/",
          "height": 0
        },
        "id": "0b2486c9",
        "outputId": "d0a6b862-cce2-4011-9b5c-a215be45e4e3"
      },
      "source": [
        "# the set of categorical variables\n",
        "X_dropped = df_reduced.drop(['Reached.on.Time_Y.N', 'Cost_of_the_Product', 'Discount_offered'], axis = 1)\n",
        "  \n",
        "# VIF dataframe\n",
        "vif_data = pd.DataFrame()\n",
        "vif_data[\"Variable\"] = X_dropped.columns\n",
        "  \n",
        "# calculating VIF for each feature\n",
        "vif_data[\"VIF\"] = [variance_inflation_factor(X_dropped.values, i)\n",
        "                          for i in range(len(X_dropped.columns))]\n",
        "vif_data"
      ],
      "id": "0b2486c9",
      "execution_count": 21,
      "outputs": [
        {
          "output_type": "execute_result",
          "data": {
            "text/html": [
              "<div>\n",
              "<style scoped>\n",
              "    .dataframe tbody tr th:only-of-type {\n",
              "        vertical-align: middle;\n",
              "    }\n",
              "\n",
              "    .dataframe tbody tr th {\n",
              "        vertical-align: top;\n",
              "    }\n",
              "\n",
              "    .dataframe thead th {\n",
              "        text-align: right;\n",
              "    }\n",
              "</style>\n",
              "<table border=\"1\" class=\"dataframe\">\n",
              "  <thead>\n",
              "    <tr style=\"text-align: right;\">\n",
              "      <th></th>\n",
              "      <th>Variable</th>\n",
              "      <th>VIF</th>\n",
              "    </tr>\n",
              "  </thead>\n",
              "  <tbody>\n",
              "    <tr>\n",
              "      <th>0</th>\n",
              "      <td>Customer_care_calls</td>\n",
              "      <td>10.239642</td>\n",
              "    </tr>\n",
              "    <tr>\n",
              "      <th>1</th>\n",
              "      <td>Customer_rating</td>\n",
              "      <td>5.095505</td>\n",
              "    </tr>\n",
              "    <tr>\n",
              "      <th>2</th>\n",
              "      <td>Prior_purchases</td>\n",
              "      <td>6.181373</td>\n",
              "    </tr>\n",
              "    <tr>\n",
              "      <th>3</th>\n",
              "      <td>Product_importance</td>\n",
              "      <td>5.132647</td>\n",
              "    </tr>\n",
              "    <tr>\n",
              "      <th>4</th>\n",
              "      <td>Weight_in_gms</td>\n",
              "      <td>5.109666</td>\n",
              "    </tr>\n",
              "    <tr>\n",
              "      <th>5</th>\n",
              "      <td>Gender_M</td>\n",
              "      <td>1.945696</td>\n",
              "    </tr>\n",
              "    <tr>\n",
              "      <th>6</th>\n",
              "      <td>Mode_of_Shipment_Road</td>\n",
              "      <td>1.877807</td>\n",
              "    </tr>\n",
              "    <tr>\n",
              "      <th>7</th>\n",
              "      <td>Mode_of_Shipment_Ship</td>\n",
              "      <td>4.715558</td>\n",
              "    </tr>\n",
              "    <tr>\n",
              "      <th>8</th>\n",
              "      <td>Warehouse_block_B</td>\n",
              "      <td>1.904413</td>\n",
              "    </tr>\n",
              "    <tr>\n",
              "      <th>9</th>\n",
              "      <td>Warehouse_block_C</td>\n",
              "      <td>1.907129</td>\n",
              "    </tr>\n",
              "    <tr>\n",
              "      <th>10</th>\n",
              "      <td>Warehouse_block_D</td>\n",
              "      <td>1.906145</td>\n",
              "    </tr>\n",
              "    <tr>\n",
              "      <th>11</th>\n",
              "      <td>Warehouse_block_F</td>\n",
              "      <td>2.821503</td>\n",
              "    </tr>\n",
              "    <tr>\n",
              "      <th>12</th>\n",
              "      <td>Actual_Discount</td>\n",
              "      <td>1.710113</td>\n",
              "    </tr>\n",
              "  </tbody>\n",
              "</table>\n",
              "</div>"
            ],
            "text/plain": [
              "                 Variable        VIF\n",
              "0     Customer_care_calls  10.239642\n",
              "1         Customer_rating   5.095505\n",
              "2         Prior_purchases   6.181373\n",
              "3      Product_importance   5.132647\n",
              "4           Weight_in_gms   5.109666\n",
              "5                Gender_M   1.945696\n",
              "6   Mode_of_Shipment_Road   1.877807\n",
              "7   Mode_of_Shipment_Ship   4.715558\n",
              "8       Warehouse_block_B   1.904413\n",
              "9       Warehouse_block_C   1.907129\n",
              "10      Warehouse_block_D   1.906145\n",
              "11      Warehouse_block_F   2.821503\n",
              "12        Actual_Discount   1.710113"
            ]
          },
          "metadata": {
            "tags": []
          },
          "execution_count": 21
        }
      ]
    },
    {
      "cell_type": "markdown",
      "metadata": {
        "id": "1e471258"
      },
      "source": [
        "We see that the VIF for Customer_care_calls was also significantly reduced and got close to our threshold and **all** the others were reduced marginally. This would increase performance of models with assumption of independence. To be thorough, We create two datasets; one now, and one after removing another feature."
      ],
      "id": "1e471258"
    },
    {
      "cell_type": "code",
      "metadata": {
        "colab": {
          "base_uri": "https://localhost:8080/"
        },
        "id": "bdab9981",
        "outputId": "0d2b675c-074c-4e9e-e912-06ddff4b2a23"
      },
      "source": [
        "df_reduced = df_reduced.drop(['Cost_of_the_Product', 'Discount_offered'], axis = 1)\n",
        "df_reduced.info()"
      ],
      "id": "bdab9981",
      "execution_count": 22,
      "outputs": [
        {
          "output_type": "stream",
          "text": [
            "<class 'pandas.core.frame.DataFrame'>\n",
            "RangeIndex: 10999 entries, 0 to 10998\n",
            "Data columns (total 14 columns):\n",
            " #   Column                 Non-Null Count  Dtype\n",
            "---  ------                 --------------  -----\n",
            " 0   Customer_care_calls    10999 non-null  int64\n",
            " 1   Customer_rating        10999 non-null  int64\n",
            " 2   Prior_purchases        10999 non-null  int64\n",
            " 3   Product_importance     10999 non-null  int64\n",
            " 4   Weight_in_gms          10999 non-null  int64\n",
            " 5   Reached.on.Time_Y.N    10999 non-null  int64\n",
            " 6   Gender_M               10999 non-null  uint8\n",
            " 7   Mode_of_Shipment_Road  10999 non-null  uint8\n",
            " 8   Mode_of_Shipment_Ship  10999 non-null  uint8\n",
            " 9   Warehouse_block_B      10999 non-null  uint8\n",
            " 10  Warehouse_block_C      10999 non-null  uint8\n",
            " 11  Warehouse_block_D      10999 non-null  uint8\n",
            " 12  Warehouse_block_F      10999 non-null  uint8\n",
            " 13  Actual_Discount        10999 non-null  int64\n",
            "dtypes: int64(7), uint8(7)\n",
            "memory usage: 676.8 KB\n"
          ],
          "name": "stdout"
        }
      ]
    },
    {
      "cell_type": "code",
      "metadata": {
        "colab": {
          "base_uri": "https://localhost:8080/",
          "height": 0
        },
        "id": "5829b071",
        "outputId": "c2414a77-5a3e-4688-9fb1-28aea95182a2"
      },
      "source": [
        "# the set of categorical variables\n",
        "X_dropped = df_reduced.drop(['Reached.on.Time_Y.N', 'Customer_care_calls'], axis = 1)\n",
        "  \n",
        "# VIF dataframe\n",
        "vif_data = pd.DataFrame()\n",
        "vif_data[\"Variable\"] = X_dropped.columns\n",
        "  \n",
        "# calculating VIF for each feature\n",
        "vif_data[\"VIF\"] = [variance_inflation_factor(X_dropped.values, i)\n",
        "                          for i in range(len(X_dropped.columns))]\n",
        "vif_data"
      ],
      "id": "5829b071",
      "execution_count": 23,
      "outputs": [
        {
          "output_type": "execute_result",
          "data": {
            "text/html": [
              "<div>\n",
              "<style scoped>\n",
              "    .dataframe tbody tr th:only-of-type {\n",
              "        vertical-align: middle;\n",
              "    }\n",
              "\n",
              "    .dataframe tbody tr th {\n",
              "        vertical-align: top;\n",
              "    }\n",
              "\n",
              "    .dataframe thead th {\n",
              "        text-align: right;\n",
              "    }\n",
              "</style>\n",
              "<table border=\"1\" class=\"dataframe\">\n",
              "  <thead>\n",
              "    <tr style=\"text-align: right;\">\n",
              "      <th></th>\n",
              "      <th>Variable</th>\n",
              "      <th>VIF</th>\n",
              "    </tr>\n",
              "  </thead>\n",
              "  <tbody>\n",
              "    <tr>\n",
              "      <th>0</th>\n",
              "      <td>Customer_rating</td>\n",
              "      <td>4.866311</td>\n",
              "    </tr>\n",
              "    <tr>\n",
              "      <th>1</th>\n",
              "      <td>Prior_purchases</td>\n",
              "      <td>5.188181</td>\n",
              "    </tr>\n",
              "    <tr>\n",
              "      <th>2</th>\n",
              "      <td>Product_importance</td>\n",
              "      <td>4.898027</td>\n",
              "    </tr>\n",
              "    <tr>\n",
              "      <th>3</th>\n",
              "      <td>Weight_in_gms</td>\n",
              "      <td>5.093792</td>\n",
              "    </tr>\n",
              "    <tr>\n",
              "      <th>4</th>\n",
              "      <td>Gender_M</td>\n",
              "      <td>1.923513</td>\n",
              "    </tr>\n",
              "    <tr>\n",
              "      <th>5</th>\n",
              "      <td>Mode_of_Shipment_Road</td>\n",
              "      <td>1.826526</td>\n",
              "    </tr>\n",
              "    <tr>\n",
              "      <th>6</th>\n",
              "      <td>Mode_of_Shipment_Ship</td>\n",
              "      <td>4.513344</td>\n",
              "    </tr>\n",
              "    <tr>\n",
              "      <th>7</th>\n",
              "      <td>Warehouse_block_B</td>\n",
              "      <td>1.856040</td>\n",
              "    </tr>\n",
              "    <tr>\n",
              "      <th>8</th>\n",
              "      <td>Warehouse_block_C</td>\n",
              "      <td>1.849572</td>\n",
              "    </tr>\n",
              "    <tr>\n",
              "      <th>9</th>\n",
              "      <td>Warehouse_block_D</td>\n",
              "      <td>1.852540</td>\n",
              "    </tr>\n",
              "    <tr>\n",
              "      <th>10</th>\n",
              "      <td>Warehouse_block_F</td>\n",
              "      <td>2.703952</td>\n",
              "    </tr>\n",
              "    <tr>\n",
              "      <th>11</th>\n",
              "      <td>Actual_Discount</td>\n",
              "      <td>1.706981</td>\n",
              "    </tr>\n",
              "  </tbody>\n",
              "</table>\n",
              "</div>"
            ],
            "text/plain": [
              "                 Variable       VIF\n",
              "0         Customer_rating  4.866311\n",
              "1         Prior_purchases  5.188181\n",
              "2      Product_importance  4.898027\n",
              "3           Weight_in_gms  5.093792\n",
              "4                Gender_M  1.923513\n",
              "5   Mode_of_Shipment_Road  1.826526\n",
              "6   Mode_of_Shipment_Ship  4.513344\n",
              "7       Warehouse_block_B  1.856040\n",
              "8       Warehouse_block_C  1.849572\n",
              "9       Warehouse_block_D  1.852540\n",
              "10      Warehouse_block_F  2.703952\n",
              "11        Actual_Discount  1.706981"
            ]
          },
          "metadata": {
            "tags": []
          },
          "execution_count": 23
        }
      ]
    },
    {
      "cell_type": "code",
      "metadata": {
        "colab": {
          "base_uri": "https://localhost:8080/"
        },
        "id": "93feee39",
        "outputId": "6f38949e-1cb1-4c76-ef5e-6b0914d78e6e"
      },
      "source": [
        "df_redduced = df_reduced.drop(['Customer_care_calls'], axis = 1)\n",
        "df_redduced.info()"
      ],
      "id": "93feee39",
      "execution_count": 24,
      "outputs": [
        {
          "output_type": "stream",
          "text": [
            "<class 'pandas.core.frame.DataFrame'>\n",
            "RangeIndex: 10999 entries, 0 to 10998\n",
            "Data columns (total 13 columns):\n",
            " #   Column                 Non-Null Count  Dtype\n",
            "---  ------                 --------------  -----\n",
            " 0   Customer_rating        10999 non-null  int64\n",
            " 1   Prior_purchases        10999 non-null  int64\n",
            " 2   Product_importance     10999 non-null  int64\n",
            " 3   Weight_in_gms          10999 non-null  int64\n",
            " 4   Reached.on.Time_Y.N    10999 non-null  int64\n",
            " 5   Gender_M               10999 non-null  uint8\n",
            " 6   Mode_of_Shipment_Road  10999 non-null  uint8\n",
            " 7   Mode_of_Shipment_Ship  10999 non-null  uint8\n",
            " 8   Warehouse_block_B      10999 non-null  uint8\n",
            " 9   Warehouse_block_C      10999 non-null  uint8\n",
            " 10  Warehouse_block_D      10999 non-null  uint8\n",
            " 11  Warehouse_block_F      10999 non-null  uint8\n",
            " 12  Actual_Discount        10999 non-null  int64\n",
            "dtypes: int64(6), uint8(7)\n",
            "memory usage: 590.9 KB\n"
          ],
          "name": "stdout"
        }
      ]
    },
    {
      "cell_type": "markdown",
      "metadata": {
        "id": "0650647e"
      },
      "source": [
        "## (ii) Label-Encoding:"
      ],
      "id": "0650647e"
    },
    {
      "cell_type": "markdown",
      "metadata": {
        "id": "707222f3"
      },
      "source": [
        "Now, we usually do not use label encoding for categorical data as it implies certain relations between the encoding which the models might learn. But certain models such as those based on Decision Trees are unaffected by this, so Label encoding should be tried as it has lower dimensionality than One-Hot Encoding. We still keep one-hot encoding as our default but we store this dataset for further experimentation."
      ],
      "id": "707222f3"
    },
    {
      "cell_type": "code",
      "metadata": {
        "id": "2d62d3a3"
      },
      "source": [
        "df_label = df.copy(deep=True)"
      ],
      "id": "2d62d3a3",
      "execution_count": 25,
      "outputs": []
    },
    {
      "cell_type": "code",
      "metadata": {
        "id": "ebc3fa6c"
      },
      "source": [
        "df_label['Gender']= label_encoder.fit_transform(df_label['Gender'])\n",
        "df_label['Mode_of_Shipment']= label_encoder.fit_transform(df_label['Mode_of_Shipment'])\n",
        "df_label['Warehouse_block']= label_encoder.fit_transform(df_label['Warehouse_block'])"
      ],
      "id": "ebc3fa6c",
      "execution_count": 26,
      "outputs": []
    },
    {
      "cell_type": "code",
      "metadata": {
        "colab": {
          "base_uri": "https://localhost:8080/"
        },
        "id": "30a5e2c8",
        "outputId": "24a7755b-0856-4dd7-8a33-2a7bcde5f146"
      },
      "source": [
        "df_label.info()"
      ],
      "id": "30a5e2c8",
      "execution_count": 27,
      "outputs": [
        {
          "output_type": "stream",
          "text": [
            "<class 'pandas.core.frame.DataFrame'>\n",
            "RangeIndex: 10999 entries, 0 to 10998\n",
            "Data columns (total 11 columns):\n",
            " #   Column               Non-Null Count  Dtype\n",
            "---  ------               --------------  -----\n",
            " 0   Warehouse_block      10999 non-null  int64\n",
            " 1   Mode_of_Shipment     10999 non-null  int64\n",
            " 2   Customer_care_calls  10999 non-null  int64\n",
            " 3   Customer_rating      10999 non-null  int64\n",
            " 4   Cost_of_the_Product  10999 non-null  int64\n",
            " 5   Prior_purchases      10999 non-null  int64\n",
            " 6   Product_importance   10999 non-null  int64\n",
            " 7   Gender               10999 non-null  int64\n",
            " 8   Discount_offered     10999 non-null  int64\n",
            " 9   Weight_in_gms        10999 non-null  int64\n",
            " 10  Reached.on.Time_Y.N  10999 non-null  int64\n",
            "dtypes: int64(11)\n",
            "memory usage: 945.4 KB\n"
          ],
          "name": "stdout"
        }
      ]
    },
    {
      "cell_type": "code",
      "metadata": {
        "colab": {
          "base_uri": "https://localhost:8080/",
          "height": 0
        },
        "id": "9d83ba86",
        "outputId": "738ae33d-cbd5-4b45-f24c-2632675c8e8f"
      },
      "source": [
        "df_label.sample(10)"
      ],
      "id": "9d83ba86",
      "execution_count": 28,
      "outputs": [
        {
          "output_type": "execute_result",
          "data": {
            "text/html": [
              "<div>\n",
              "<style scoped>\n",
              "    .dataframe tbody tr th:only-of-type {\n",
              "        vertical-align: middle;\n",
              "    }\n",
              "\n",
              "    .dataframe tbody tr th {\n",
              "        vertical-align: top;\n",
              "    }\n",
              "\n",
              "    .dataframe thead th {\n",
              "        text-align: right;\n",
              "    }\n",
              "</style>\n",
              "<table border=\"1\" class=\"dataframe\">\n",
              "  <thead>\n",
              "    <tr style=\"text-align: right;\">\n",
              "      <th></th>\n",
              "      <th>Warehouse_block</th>\n",
              "      <th>Mode_of_Shipment</th>\n",
              "      <th>Customer_care_calls</th>\n",
              "      <th>Customer_rating</th>\n",
              "      <th>Cost_of_the_Product</th>\n",
              "      <th>Prior_purchases</th>\n",
              "      <th>Product_importance</th>\n",
              "      <th>Gender</th>\n",
              "      <th>Discount_offered</th>\n",
              "      <th>Weight_in_gms</th>\n",
              "      <th>Reached.on.Time_Y.N</th>\n",
              "    </tr>\n",
              "  </thead>\n",
              "  <tbody>\n",
              "    <tr>\n",
              "      <th>4312</th>\n",
              "      <td>2</td>\n",
              "      <td>2</td>\n",
              "      <td>3</td>\n",
              "      <td>5</td>\n",
              "      <td>150</td>\n",
              "      <td>4</td>\n",
              "      <td>2</td>\n",
              "      <td>0</td>\n",
              "      <td>8</td>\n",
              "      <td>4433</td>\n",
              "      <td>0</td>\n",
              "    </tr>\n",
              "    <tr>\n",
              "      <th>2993</th>\n",
              "      <td>4</td>\n",
              "      <td>1</td>\n",
              "      <td>4</td>\n",
              "      <td>5</td>\n",
              "      <td>201</td>\n",
              "      <td>4</td>\n",
              "      <td>2</td>\n",
              "      <td>1</td>\n",
              "      <td>46</td>\n",
              "      <td>3498</td>\n",
              "      <td>1</td>\n",
              "    </tr>\n",
              "    <tr>\n",
              "      <th>2671</th>\n",
              "      <td>4</td>\n",
              "      <td>2</td>\n",
              "      <td>4</td>\n",
              "      <td>3</td>\n",
              "      <td>233</td>\n",
              "      <td>2</td>\n",
              "      <td>2</td>\n",
              "      <td>0</td>\n",
              "      <td>47</td>\n",
              "      <td>3606</td>\n",
              "      <td>1</td>\n",
              "    </tr>\n",
              "    <tr>\n",
              "      <th>3075</th>\n",
              "      <td>1</td>\n",
              "      <td>2</td>\n",
              "      <td>4</td>\n",
              "      <td>4</td>\n",
              "      <td>182</td>\n",
              "      <td>2</td>\n",
              "      <td>1</td>\n",
              "      <td>0</td>\n",
              "      <td>13</td>\n",
              "      <td>3332</td>\n",
              "      <td>1</td>\n",
              "    </tr>\n",
              "    <tr>\n",
              "      <th>433</th>\n",
              "      <td>4</td>\n",
              "      <td>2</td>\n",
              "      <td>4</td>\n",
              "      <td>2</td>\n",
              "      <td>215</td>\n",
              "      <td>3</td>\n",
              "      <td>2</td>\n",
              "      <td>0</td>\n",
              "      <td>48</td>\n",
              "      <td>2953</td>\n",
              "      <td>1</td>\n",
              "    </tr>\n",
              "    <tr>\n",
              "      <th>237</th>\n",
              "      <td>1</td>\n",
              "      <td>2</td>\n",
              "      <td>2</td>\n",
              "      <td>2</td>\n",
              "      <td>133</td>\n",
              "      <td>3</td>\n",
              "      <td>1</td>\n",
              "      <td>1</td>\n",
              "      <td>5</td>\n",
              "      <td>1268</td>\n",
              "      <td>1</td>\n",
              "    </tr>\n",
              "    <tr>\n",
              "      <th>7486</th>\n",
              "      <td>2</td>\n",
              "      <td>2</td>\n",
              "      <td>4</td>\n",
              "      <td>2</td>\n",
              "      <td>206</td>\n",
              "      <td>4</td>\n",
              "      <td>2</td>\n",
              "      <td>0</td>\n",
              "      <td>5</td>\n",
              "      <td>1679</td>\n",
              "      <td>0</td>\n",
              "    </tr>\n",
              "    <tr>\n",
              "      <th>10121</th>\n",
              "      <td>4</td>\n",
              "      <td>1</td>\n",
              "      <td>3</td>\n",
              "      <td>3</td>\n",
              "      <td>274</td>\n",
              "      <td>4</td>\n",
              "      <td>2</td>\n",
              "      <td>0</td>\n",
              "      <td>7</td>\n",
              "      <td>4828</td>\n",
              "      <td>0</td>\n",
              "    </tr>\n",
              "    <tr>\n",
              "      <th>8316</th>\n",
              "      <td>3</td>\n",
              "      <td>2</td>\n",
              "      <td>6</td>\n",
              "      <td>5</td>\n",
              "      <td>263</td>\n",
              "      <td>4</td>\n",
              "      <td>1</td>\n",
              "      <td>1</td>\n",
              "      <td>10</td>\n",
              "      <td>1669</td>\n",
              "      <td>0</td>\n",
              "    </tr>\n",
              "    <tr>\n",
              "      <th>2207</th>\n",
              "      <td>4</td>\n",
              "      <td>0</td>\n",
              "      <td>3</td>\n",
              "      <td>3</td>\n",
              "      <td>160</td>\n",
              "      <td>2</td>\n",
              "      <td>2</td>\n",
              "      <td>0</td>\n",
              "      <td>32</td>\n",
              "      <td>1718</td>\n",
              "      <td>1</td>\n",
              "    </tr>\n",
              "  </tbody>\n",
              "</table>\n",
              "</div>"
            ],
            "text/plain": [
              "       Warehouse_block  Mode_of_Shipment  ...  Weight_in_gms  Reached.on.Time_Y.N\n",
              "4312                 2                 2  ...           4433                    0\n",
              "2993                 4                 1  ...           3498                    1\n",
              "2671                 4                 2  ...           3606                    1\n",
              "3075                 1                 2  ...           3332                    1\n",
              "433                  4                 2  ...           2953                    1\n",
              "237                  1                 2  ...           1268                    1\n",
              "7486                 2                 2  ...           1679                    0\n",
              "10121                4                 1  ...           4828                    0\n",
              "8316                 3                 2  ...           1669                    0\n",
              "2207                 4                 0  ...           1718                    1\n",
              "\n",
              "[10 rows x 11 columns]"
            ]
          },
          "metadata": {
            "tags": []
          },
          "execution_count": 28
        }
      ]
    },
    {
      "cell_type": "markdown",
      "metadata": {
        "id": "d949b305"
      },
      "source": [
        "Looks Good!"
      ],
      "id": "d949b305"
    },
    {
      "cell_type": "markdown",
      "metadata": {
        "id": "12ef3896"
      },
      "source": [
        "# 3) Data analysis, Visualisation & Feature Engineering:"
      ],
      "id": "12ef3896"
    },
    {
      "cell_type": "markdown",
      "metadata": {
        "id": "d2a58965"
      },
      "source": [
        "## (i) Univariate Analysis:"
      ],
      "id": "d2a58965"
    },
    {
      "cell_type": "markdown",
      "metadata": {
        "id": "798aea58"
      },
      "source": [
        "Let us look at the distribution of data in all the columns of the dataset by visualising the count"
      ],
      "id": "798aea58"
    },
    {
      "cell_type": "code",
      "metadata": {
        "colab": {
          "base_uri": "https://localhost:8080/"
        },
        "id": "b084c1b6",
        "outputId": "076b9578-0cce-4ed5-95d4-215b3e8d2d7a"
      },
      "source": [
        "# Let's see how the data is distributed for every column\n",
        "\n",
        "plt.figure(figsize=(30,35), facecolor = \"white\")\n",
        "plotnumber = 1\n",
        "\n",
        "for column in df_dropped:\n",
        "    if plotnumber <=16:    #as total number of columns are 16\n",
        "        ax = plt.subplot(5,5,plotnumber)\n",
        "        sns.histplot(df_dropped[column])\n",
        "        plt.xlabel(column, fontsize = 15)\n",
        "    plotnumber+=1\n",
        "plt.show()"
      ],
      "id": "b084c1b6",
      "execution_count": null,
      "outputs": [
        {
          "output_type": "display_data",
          "data": {
            "image/png": "[encoded data removed]",
            "text/plain": [
              "<Figure size 2160x2520 with 15 Axes>"
            ]
          },
          "metadata": {
            "tags": []
          }
        }
      ]
    },
    {
      "cell_type": "markdown",
      "metadata": {
        "id": "82915f9c"
      },
      "source": [
        "Let us note down some important inferences obtained from the distributions:\n",
        "\n",
        "1) Although most Customers are relatively new(i.e have only a few purchases), there are no new customers\n",
        "\n",
        "2) Presence of outliers in features such as 'Discount_offered', 'Weight_in_gms' etc. suggests that using minmanx scaler would      not be feasible as most of the data would be scaled very close to zero. This has been visualised below.\n",
        "\n",
        "3) We see that the Customer_care_calls, Cost_of_the_Product are somewhat Normally Distributed, so we use StandardScaler for these and MinMax Scaler for the rest."
      ],
      "id": "82915f9c"
    },
    {
      "cell_type": "markdown",
      "metadata": {
        "id": "3a3efee1"
      },
      "source": [
        "Apart from this, some general observations are:\n",
        "    \n",
        "* Most customers call customer care 3-4 times.\n",
        "* More Higher costing products are offered.\n",
        "* There are fewer low importance products\n",
        "* More than half of the products are shipped using a Ship\n",
        "* Most of the products are shipped from Warehouse_block_F"
      ],
      "id": "3a3efee1"
    },
    {
      "cell_type": "code",
      "metadata": {
        "colab": {
          "base_uri": "https://localhost:8080/"
        },
        "id": "6c23e636",
        "outputId": "a1467e11-518f-4330-9f13-04d88c181e43"
      },
      "source": [
        "# visualising the outliers in Discounts\n",
        "sns.boxplot(data = df_dropped, y = 'Discount_offered')"
      ],
      "id": "6c23e636",
      "execution_count": null,
      "outputs": [
        {
          "output_type": "execute_result",
          "data": {
            "text/plain": [
              "<matplotlib.axes._subplots.AxesSubplot at 0x7f16afe96b50>"
            ]
          },
          "metadata": {
            "tags": []
          },
          "execution_count": 29
        },
        {
          "output_type": "display_data",
          "data": {
            "image/png": "[encoded data removed]",
            "text/plain": [
              "<Figure size 432x288 with 1 Axes>"
            ]
          },
          "metadata": {
            "tags": [],
            "needs_background": "light"
          }
        }
      ]
    },
    {
      "cell_type": "code",
      "metadata": {
        "colab": {
          "base_uri": "https://localhost:8080/"
        },
        "id": "f2583956",
        "outputId": "447ce1d4-9dcc-4705-9faf-a98beef10c90"
      },
      "source": [
        "# visualising the outliers in Weight\n",
        "sns.boxplot(data = df_dropped, y = 'Weight_in_gms')"
      ],
      "id": "f2583956",
      "execution_count": null,
      "outputs": [
        {
          "output_type": "execute_result",
          "data": {
            "text/plain": [
              "<matplotlib.axes._subplots.AxesSubplot at 0x7f16af85a090>"
            ]
          },
          "metadata": {
            "tags": []
          },
          "execution_count": 30
        },
        {
          "output_type": "display_data",
          "data": {
            "image/png": "[encoded data removed]",
            "text/plain": [
              "<Figure size 432x288 with 1 Axes>"
            ]
          },
          "metadata": {
            "tags": [],
            "needs_background": "light"
          }
        }
      ]
    },
    {
      "cell_type": "markdown",
      "metadata": {
        "id": "d123a738"
      },
      "source": [
        "Now that we have looked at the features individually, let us try to look at their relation with each other"
      ],
      "id": "d123a738"
    },
    {
      "cell_type": "markdown",
      "metadata": {
        "id": "4f5eac17"
      },
      "source": [
        "## (ii) Bivariate Analysis:"
      ],
      "id": "4f5eac17"
    },
    {
      "cell_type": "markdown",
      "metadata": {
        "id": "3abc2b31"
      },
      "source": [
        "Let us start with the correlations and visualise it"
      ],
      "id": "3abc2b31"
    },
    {
      "cell_type": "code",
      "metadata": {
        "colab": {
          "base_uri": "https://localhost:8080/",
          "height": 511
        },
        "id": "dc53b3e9",
        "outputId": "b1162569-c8d5-450a-bdd4-fdc7dabf7f8b"
      },
      "source": [
        "df_dropped.corr()"
      ],
      "id": "dc53b3e9",
      "execution_count": null,
      "outputs": [
        {
          "output_type": "execute_result",
          "data": {
            "text/html": [
              "<div>\n",
              "<style scoped>\n",
              "    .dataframe tbody tr th:only-of-type {\n",
              "        vertical-align: middle;\n",
              "    }\n",
              "\n",
              "    .dataframe tbody tr th {\n",
              "        vertical-align: top;\n",
              "    }\n",
              "\n",
              "    .dataframe thead th {\n",
              "        text-align: right;\n",
              "    }\n",
              "</style>\n",
              "<table border=\"1\" class=\"dataframe\">\n",
              "  <thead>\n",
              "    <tr style=\"text-align: right;\">\n",
              "      <th></th>\n",
              "      <th>Customer_care_calls</th>\n",
              "      <th>Customer_rating</th>\n",
              "      <th>Cost_of_the_Product</th>\n",
              "      <th>Prior_purchases</th>\n",
              "      <th>Product_importance</th>\n",
              "      <th>Discount_offered</th>\n",
              "      <th>Weight_in_gms</th>\n",
              "      <th>Reached.on.Time_Y.N</th>\n",
              "      <th>Gender_M</th>\n",
              "      <th>Mode_of_Shipment_Road</th>\n",
              "      <th>Mode_of_Shipment_Ship</th>\n",
              "      <th>Warehouse_block_B</th>\n",
              "      <th>Warehouse_block_C</th>\n",
              "      <th>Warehouse_block_D</th>\n",
              "      <th>Warehouse_block_F</th>\n",
              "    </tr>\n",
              "  </thead>\n",
              "  <tbody>\n",
              "    <tr>\n",
              "      <th>Customer_care_calls</th>\n",
              "      <td>1.000000</td>\n",
              "      <td>0.012209</td>\n",
              "      <td>0.323182</td>\n",
              "      <td>0.180771</td>\n",
              "      <td>0.006273</td>\n",
              "      <td>-0.130750</td>\n",
              "      <td>-0.276615</td>\n",
              "      <td>-0.067126</td>\n",
              "      <td>0.002545</td>\n",
              "      <td>0.003292</td>\n",
              "      <td>-0.017629</td>\n",
              "      <td>-0.013428</td>\n",
              "      <td>0.004099</td>\n",
              "      <td>-0.000401</td>\n",
              "      <td>0.012732</td>\n",
              "    </tr>\n",
              "    <tr>\n",
              "      <th>Customer_rating</th>\n",
              "      <td>0.012209</td>\n",
              "      <td>1.000000</td>\n",
              "      <td>0.009270</td>\n",
              "      <td>0.013179</td>\n",
              "      <td>0.003157</td>\n",
              "      <td>-0.003124</td>\n",
              "      <td>-0.001897</td>\n",
              "      <td>0.013119</td>\n",
              "      <td>0.002775</td>\n",
              "      <td>0.001516</td>\n",
              "      <td>0.000765</td>\n",
              "      <td>-0.003222</td>\n",
              "      <td>0.001093</td>\n",
              "      <td>0.008687</td>\n",
              "      <td>0.003092</td>\n",
              "    </tr>\n",
              "    <tr>\n",
              "      <th>Cost_of_the_Product</th>\n",
              "      <td>0.323182</td>\n",
              "      <td>0.009270</td>\n",
              "      <td>1.000000</td>\n",
              "      <td>0.123676</td>\n",
              "      <td>0.006366</td>\n",
              "      <td>-0.138312</td>\n",
              "      <td>-0.132604</td>\n",
              "      <td>-0.073587</td>\n",
              "      <td>0.019759</td>\n",
              "      <td>0.002531</td>\n",
              "      <td>0.004419</td>\n",
              "      <td>0.018260</td>\n",
              "      <td>0.009255</td>\n",
              "      <td>0.006618</td>\n",
              "      <td>-0.016472</td>\n",
              "    </tr>\n",
              "    <tr>\n",
              "      <th>Prior_purchases</th>\n",
              "      <td>0.180771</td>\n",
              "      <td>0.013179</td>\n",
              "      <td>0.123676</td>\n",
              "      <td>1.000000</td>\n",
              "      <td>0.003662</td>\n",
              "      <td>-0.082769</td>\n",
              "      <td>-0.168213</td>\n",
              "      <td>-0.055515</td>\n",
              "      <td>-0.009395</td>\n",
              "      <td>0.003913</td>\n",
              "      <td>-0.002864</td>\n",
              "      <td>0.002178</td>\n",
              "      <td>-0.003750</td>\n",
              "      <td>0.010095</td>\n",
              "      <td>-0.009095</td>\n",
              "    </tr>\n",
              "    <tr>\n",
              "      <th>Product_importance</th>\n",
              "      <td>0.006273</td>\n",
              "      <td>0.003157</td>\n",
              "      <td>0.006366</td>\n",
              "      <td>0.003662</td>\n",
              "      <td>1.000000</td>\n",
              "      <td>-0.006251</td>\n",
              "      <td>0.001652</td>\n",
              "      <td>-0.023483</td>\n",
              "      <td>-0.009865</td>\n",
              "      <td>-0.008647</td>\n",
              "      <td>0.007372</td>\n",
              "      <td>0.019986</td>\n",
              "      <td>-0.004357</td>\n",
              "      <td>-0.006035</td>\n",
              "      <td>0.004719</td>\n",
              "    </tr>\n",
              "    <tr>\n",
              "      <th>Discount_offered</th>\n",
              "      <td>-0.130750</td>\n",
              "      <td>-0.003124</td>\n",
              "      <td>-0.138312</td>\n",
              "      <td>-0.082769</td>\n",
              "      <td>-0.006251</td>\n",
              "      <td>1.000000</td>\n",
              "      <td>-0.376067</td>\n",
              "      <td>0.397108</td>\n",
              "      <td>-0.011777</td>\n",
              "      <td>-0.007787</td>\n",
              "      <td>0.010643</td>\n",
              "      <td>-0.005135</td>\n",
              "      <td>0.000736</td>\n",
              "      <td>-0.007714</td>\n",
              "      <td>0.012864</td>\n",
              "    </tr>\n",
              "    <tr>\n",
              "      <th>Weight_in_gms</th>\n",
              "      <td>-0.276615</td>\n",
              "      <td>-0.001897</td>\n",
              "      <td>-0.132604</td>\n",
              "      <td>-0.168213</td>\n",
              "      <td>0.001652</td>\n",
              "      <td>-0.376067</td>\n",
              "      <td>1.000000</td>\n",
              "      <td>-0.268793</td>\n",
              "      <td>0.003573</td>\n",
              "      <td>0.004146</td>\n",
              "      <td>-0.002273</td>\n",
              "      <td>0.000461</td>\n",
              "      <td>0.002000</td>\n",
              "      <td>-0.001414</td>\n",
              "      <td>0.003187</td>\n",
              "    </tr>\n",
              "    <tr>\n",
              "      <th>Reached.on.Time_Y.N</th>\n",
              "      <td>-0.067126</td>\n",
              "      <td>0.013119</td>\n",
              "      <td>-0.073587</td>\n",
              "      <td>-0.055515</td>\n",
              "      <td>-0.023483</td>\n",
              "      <td>0.397108</td>\n",
              "      <td>-0.268793</td>\n",
              "      <td>1.000000</td>\n",
              "      <td>0.004689</td>\n",
              "      <td>-0.007671</td>\n",
              "      <td>0.002577</td>\n",
              "      <td>0.005106</td>\n",
              "      <td>0.000132</td>\n",
              "      <td>0.000830</td>\n",
              "      <td>0.002568</td>\n",
              "    </tr>\n",
              "    <tr>\n",
              "      <th>Gender_M</th>\n",
              "      <td>0.002545</td>\n",
              "      <td>0.002775</td>\n",
              "      <td>0.019759</td>\n",
              "      <td>-0.009395</td>\n",
              "      <td>-0.009865</td>\n",
              "      <td>-0.011777</td>\n",
              "      <td>0.003573</td>\n",
              "      <td>0.004689</td>\n",
              "      <td>1.000000</td>\n",
              "      <td>-0.010277</td>\n",
              "      <td>-0.005112</td>\n",
              "      <td>0.007847</td>\n",
              "      <td>0.001504</td>\n",
              "      <td>-0.004104</td>\n",
              "      <td>-0.002637</td>\n",
              "    </tr>\n",
              "    <tr>\n",
              "      <th>Mode_of_Shipment_Road</th>\n",
              "      <td>0.003292</td>\n",
              "      <td>0.001516</td>\n",
              "      <td>0.002531</td>\n",
              "      <td>0.003913</td>\n",
              "      <td>-0.008647</td>\n",
              "      <td>-0.007787</td>\n",
              "      <td>0.004146</td>\n",
              "      <td>-0.007671</td>\n",
              "      <td>-0.010277</td>\n",
              "      <td>1.000000</td>\n",
              "      <td>-0.633948</td>\n",
              "      <td>0.000461</td>\n",
              "      <td>0.000461</td>\n",
              "      <td>-0.000976</td>\n",
              "      <td>-0.000323</td>\n",
              "    </tr>\n",
              "    <tr>\n",
              "      <th>Mode_of_Shipment_Ship</th>\n",
              "      <td>-0.017629</td>\n",
              "      <td>0.000765</td>\n",
              "      <td>0.004419</td>\n",
              "      <td>-0.002864</td>\n",
              "      <td>0.007372</td>\n",
              "      <td>0.010643</td>\n",
              "      <td>-0.002273</td>\n",
              "      <td>0.002577</td>\n",
              "      <td>-0.005112</td>\n",
              "      <td>-0.633948</td>\n",
              "      <td>1.000000</td>\n",
              "      <td>-0.000289</td>\n",
              "      <td>0.000233</td>\n",
              "      <td>0.000401</td>\n",
              "      <td>0.000369</td>\n",
              "    </tr>\n",
              "    <tr>\n",
              "      <th>Warehouse_block_B</th>\n",
              "      <td>-0.013428</td>\n",
              "      <td>-0.003222</td>\n",
              "      <td>0.018260</td>\n",
              "      <td>0.002178</td>\n",
              "      <td>0.019986</td>\n",
              "      <td>-0.005135</td>\n",
              "      <td>0.000461</td>\n",
              "      <td>0.005106</td>\n",
              "      <td>0.007847</td>\n",
              "      <td>0.000461</td>\n",
              "      <td>-0.000289</td>\n",
              "      <td>1.000000</td>\n",
              "      <td>-0.199978</td>\n",
              "      <td>-0.200044</td>\n",
              "      <td>-0.316189</td>\n",
              "    </tr>\n",
              "    <tr>\n",
              "      <th>Warehouse_block_C</th>\n",
              "      <td>0.004099</td>\n",
              "      <td>0.001093</td>\n",
              "      <td>0.009255</td>\n",
              "      <td>-0.003750</td>\n",
              "      <td>-0.004357</td>\n",
              "      <td>0.000736</td>\n",
              "      <td>0.002000</td>\n",
              "      <td>0.000132</td>\n",
              "      <td>0.001504</td>\n",
              "      <td>0.000461</td>\n",
              "      <td>0.000233</td>\n",
              "      <td>-0.199978</td>\n",
              "      <td>1.000000</td>\n",
              "      <td>-0.200044</td>\n",
              "      <td>-0.316189</td>\n",
              "    </tr>\n",
              "    <tr>\n",
              "      <th>Warehouse_block_D</th>\n",
              "      <td>-0.000401</td>\n",
              "      <td>0.008687</td>\n",
              "      <td>0.006618</td>\n",
              "      <td>0.010095</td>\n",
              "      <td>-0.006035</td>\n",
              "      <td>-0.007714</td>\n",
              "      <td>-0.001414</td>\n",
              "      <td>0.000830</td>\n",
              "      <td>-0.004104</td>\n",
              "      <td>-0.000976</td>\n",
              "      <td>0.000401</td>\n",
              "      <td>-0.200044</td>\n",
              "      <td>-0.200044</td>\n",
              "      <td>1.000000</td>\n",
              "      <td>-0.316292</td>\n",
              "    </tr>\n",
              "    <tr>\n",
              "      <th>Warehouse_block_F</th>\n",
              "      <td>0.012732</td>\n",
              "      <td>0.003092</td>\n",
              "      <td>-0.016472</td>\n",
              "      <td>-0.009095</td>\n",
              "      <td>0.004719</td>\n",
              "      <td>0.012864</td>\n",
              "      <td>0.003187</td>\n",
              "      <td>0.002568</td>\n",
              "      <td>-0.002637</td>\n",
              "      <td>-0.000323</td>\n",
              "      <td>0.000369</td>\n",
              "      <td>-0.316189</td>\n",
              "      <td>-0.316189</td>\n",
              "      <td>-0.316292</td>\n",
              "      <td>1.000000</td>\n",
              "    </tr>\n",
              "  </tbody>\n",
              "</table>\n",
              "</div>"
            ],
            "text/plain": [
              "                       Customer_care_calls  ...  Warehouse_block_F\n",
              "Customer_care_calls               1.000000  ...           0.012732\n",
              "Customer_rating                   0.012209  ...           0.003092\n",
              "Cost_of_the_Product               0.323182  ...          -0.016472\n",
              "Prior_purchases                   0.180771  ...          -0.009095\n",
              "Product_importance                0.006273  ...           0.004719\n",
              "Discount_offered                 -0.130750  ...           0.012864\n",
              "Weight_in_gms                    -0.276615  ...           0.003187\n",
              "Reached.on.Time_Y.N              -0.067126  ...           0.002568\n",
              "Gender_M                          0.002545  ...          -0.002637\n",
              "Mode_of_Shipment_Road             0.003292  ...          -0.000323\n",
              "Mode_of_Shipment_Ship            -0.017629  ...           0.000369\n",
              "Warehouse_block_B                -0.013428  ...          -0.316189\n",
              "Warehouse_block_C                 0.004099  ...          -0.316189\n",
              "Warehouse_block_D                -0.000401  ...          -0.316292\n",
              "Warehouse_block_F                 0.012732  ...           1.000000\n",
              "\n",
              "[15 rows x 15 columns]"
            ]
          },
          "metadata": {
            "tags": []
          },
          "execution_count": 31
        }
      ]
    },
    {
      "cell_type": "code",
      "metadata": {
        "colab": {
          "base_uri": "https://localhost:8080/",
          "height": 938
        },
        "id": "5f49c501",
        "scrolled": false,
        "outputId": "051efa87-bd15-4801-b3e4-bb003b2b45b8"
      },
      "source": [
        "# Visualizing correlation using a heatmap\n",
        "# FInding the correlation Matrix for all the features and visualizing it\n",
        "sns.heatmap(df_dropped.corr(),annot=True,cmap='RdYlGn',linewidths=0.2)\n",
        "fig=plt.gcf()\n",
        "fig.set_size_inches(20,15)\n",
        "plt.show()"
      ],
      "id": "5f49c501",
      "execution_count": null,
      "outputs": [
        {
          "output_type": "display_data",
          "data": {
            "image/png": "[encoded data removed]",
            "text/plain": [
              "<Figure size 1440x1080 with 2 Axes>"
            ]
          },
          "metadata": {
            "tags": [],
            "needs_background": "light"
          }
        }
      ]
    },
    {
      "cell_type": "markdown",
      "metadata": {
        "id": "d3a1bbb7"
      },
      "source": [
        "Let us make some inferences from the heatmap:\n",
        "\n",
        "1) Most of the feature pairs have near zero correlation which indicates independence, thus models with that assumption should    be tried (Linear models, NB etc.) (|corr|<0.3).\n",
        "\n",
        "2) There is a weak negative correlation(0.3<|corr|<0.7) between 'Discount_offered' and 'Weight_in_gms' i.e lighter products are sometimes offered more discount.\n",
        "\n",
        "3) Similarly for 'Cost_of_the_product' and 'Customer_care_calls', people tend to call more for costlier products.\n",
        "\n",
        "4) Similarly, Discounted products tend to not arrive on time. Interesting :)\n",
        "\n",
        "Apart from there, there are weak correlations between the dummy variables created out of the categorical ones. This is to be expected."
      ],
      "id": "d3a1bbb7"
    },
    {
      "cell_type": "markdown",
      "metadata": {
        "id": "2205b10c"
      },
      "source": [
        "Let us now visualise these inference:-"
      ],
      "id": "2205b10c"
    },
    {
      "cell_type": "code",
      "metadata": {
        "colab": {
          "base_uri": "https://localhost:8080/"
        },
        "id": "ee245291",
        "outputId": "b433b99a-6a81-4b62-a43d-856b625f77ea"
      },
      "source": [
        "sns.pairplot(df_dropped,diag_kind='kde')"
      ],
      "id": "ee245291",
      "execution_count": null,
      "outputs": [
        {
          "output_type": "execute_result",
          "data": {
            "text/plain": [
              "<seaborn.axisgrid.PairGrid at 0x7f16ae024210>"
            ]
          },
          "metadata": {
            "tags": []
          },
          "execution_count": 33
        }
      ]
    },
    {
      "cell_type": "code",
      "metadata": {
        "id": "cfde22b4"
      },
      "source": [
        "# Visualising the relation of Discount and Weight\n",
        "sns.jointplot(data = df_dropped, x = 'Discount_offered', y = 'Weight_in_gms')"
      ],
      "id": "cfde22b4",
      "execution_count": null,
      "outputs": []
    },
    {
      "cell_type": "markdown",
      "metadata": {
        "id": "f974a0c9"
      },
      "source": [
        "This is interesting. When investigated further, we see that there is no relation between most of the points, but we see that heavier products are only offered less discount(except for nominal outliers)"
      ],
      "id": "f974a0c9"
    },
    {
      "cell_type": "code",
      "metadata": {
        "id": "22cac5d0"
      },
      "source": [
        "# Visualising the relation of Cost and Customer care calls\n",
        "sns.jointplot(data = df_dropped, x = 'Cost_of_the_Product', y = 'Customer_care_calls')"
      ],
      "id": "22cac5d0",
      "execution_count": null,
      "outputs": []
    },
    {
      "cell_type": "markdown",
      "metadata": {
        "id": "1534bd1e"
      },
      "source": [
        "Again, we gain deeper insight in the distribution. We see that most of the data is unrelated, but 7 calls are made mostly for very costly products only."
      ],
      "id": "1534bd1e"
    },
    {
      "cell_type": "code",
      "metadata": {
        "id": "392e7dd8"
      },
      "source": [
        "# Visualising the relation of Cost and Customer care calls\n",
        "sns.jointplot(data = df_dropped, x = 'Discount_offered', y = 'Reached.on.Time_Y.N')"
      ],
      "id": "392e7dd8",
      "execution_count": null,
      "outputs": []
    },
    {
      "cell_type": "markdown",
      "metadata": {
        "id": "e1609c9c"
      },
      "source": [
        "Here we see that **all** the products that reach on time have very less discount offered. This is a phenomenal insight, let us validate it."
      ],
      "id": "e1609c9c"
    },
    {
      "cell_type": "code",
      "metadata": {
        "id": "3f8d5fe7"
      },
      "source": [
        "temp = (df_dropped[df['Discount_offered']>10]) \n",
        "temp[temp['Reached.on.Time_Y.N'] == 0]"
      ],
      "id": "3f8d5fe7",
      "execution_count": null,
      "outputs": []
    },
    {
      "cell_type": "markdown",
      "metadata": {
        "id": "0c9d9a25"
      },
      "source": [
        "We verify that there are absolutely no products having dicount more than 10% which were delivered on time."
      ],
      "id": "0c9d9a25"
    },
    {
      "cell_type": "markdown",
      "metadata": {
        "id": "5683f3f3"
      },
      "source": [
        "Let us now move on to multivariate analysis and try to answer some more questions-"
      ],
      "id": "5683f3f3"
    },
    {
      "cell_type": "markdown",
      "metadata": {
        "id": "36494fe5"
      },
      "source": [
        "## (iii) Multi-variate Analysis and Advanced Inferences"
      ],
      "id": "36494fe5"
    },
    {
      "cell_type": "markdown",
      "metadata": {
        "id": "0196ae39"
      },
      "source": [
        "Let us try to answer questions such as:"
      ],
      "id": "0196ae39"
    },
    {
      "cell_type": "markdown",
      "metadata": {
        "id": "757fc9f7"
      },
      "source": [
        "**a) What was Customer Rating? And was the product delivered on time?**"
      ],
      "id": "757fc9f7"
    },
    {
      "cell_type": "code",
      "metadata": {
        "id": "a99aba1f"
      },
      "source": [
        "sns.countplot(data = df_dropped, x = 'Customer_rating', hue = 'Reached.on.Time_Y.N')"
      ],
      "id": "a99aba1f",
      "execution_count": null,
      "outputs": []
    },
    {
      "cell_type": "markdown",
      "metadata": {
        "id": "007409d0"
      },
      "source": [
        "Let us look at the ratio of (reached on time)/(not reached on time) so we can compare this relationship quantitatively as well."
      ],
      "id": "007409d0"
    },
    {
      "cell_type": "code",
      "metadata": {
        "id": "0fa7d93d"
      },
      "source": [
        "# function to calculate ratio of on-time arrival to total arrivals\n",
        "def ratio_time(data):\n",
        "    arrival_numer = (data[data['Reached.on.Time_Y.N']==0].count(axis = 1).count())\n",
        "    arrival_denom = arrival_numer + (data[data['Reached.on.Time_Y.N']==1].count(axis = 1).count())\n",
        "    arrival_ratio = arrival_numer/arrival_denom\n",
        "    return arrival_ratio"
      ],
      "id": "0fa7d93d",
      "execution_count": null,
      "outputs": []
    },
    {
      "cell_type": "code",
      "metadata": {
        "id": "5986e791"
      },
      "source": [
        "# Ratio in the complete dataset\n",
        "ratio_time(df_dropped)"
      ],
      "id": "5986e791",
      "execution_count": null,
      "outputs": []
    },
    {
      "cell_type": "code",
      "metadata": {
        "id": "b8a1f0bd"
      },
      "source": [
        "# Ratio for different ratings\n",
        "a = df_dropped['Customer_rating'].unique()\n",
        "a.sort()\n",
        "for i in a:\n",
        "    arrival_i_rated = df_dropped[df_dropped['Customer_rating'] == i]\n",
        "    print(\"The ratio when i =\", i, \"is\", ratio_time(arrival_i_rated))"
      ],
      "id": "b8a1f0bd",
      "execution_count": null,
      "outputs": []
    },
    {
      "cell_type": "markdown",
      "metadata": {
        "id": "cc7ccd6e"
      },
      "source": [
        "Answer: Looking at the plot and the correlation heatmap from (ii), we can conlude that there is no noteworthy relationship between customer rating and arrival on time. But the ratios tell us that there is a small relation i.e higher rated products arrive on time less often."
      ],
      "id": "cc7ccd6e"
    },
    {
      "cell_type": "markdown",
      "metadata": {
        "id": "64fd2228"
      },
      "source": [
        "**b) Is Customer query is being answered?**"
      ],
      "id": "64fd2228"
    },
    {
      "cell_type": "markdown",
      "metadata": {
        "id": "bac10e89"
      },
      "source": [
        "This can be interpreted as, Do customers who enquire more get their delivery on time? Let us investigate this"
      ],
      "id": "bac10e89"
    },
    {
      "cell_type": "code",
      "metadata": {
        "id": "98ead8b8"
      },
      "source": [
        "sns.countplot(data = df_dropped, x = 'Customer_care_calls', hue = 'Reached.on.Time_Y.N')"
      ],
      "id": "98ead8b8",
      "execution_count": null,
      "outputs": []
    },
    {
      "cell_type": "code",
      "metadata": {
        "id": "8e741a33"
      },
      "source": [
        "# Ratio for different number if calls\n",
        "a = df_dropped['Customer_care_calls'].unique()\n",
        "a.sort()\n",
        "for i in a:\n",
        "    arrival_i_rated = df_dropped[df_dropped['Customer_care_calls'] == i]\n",
        "    print(\"The ratio when number of calls =\", i, \"is\", ratio_time(arrival_i_rated))"
      ],
      "id": "8e741a33",
      "execution_count": null,
      "outputs": []
    },
    {
      "cell_type": "markdown",
      "metadata": {
        "id": "3e2314bb"
      },
      "source": [
        "**Answer:** We see that the ratio of on time arrivals slowly increases as the calls increase, and then significantly increase for the customers who call 6-7 times. So, yes the customer query is being answered to some extent."
      ],
      "id": "3e2314bb"
    },
    {
      "cell_type": "markdown",
      "metadata": {
        "id": "a3023a0d"
      },
      "source": [
        "**c) If Product importance is high. having higest rating or being delivered on time?**"
      ],
      "id": "a3023a0d"
    },
    {
      "cell_type": "code",
      "metadata": {
        "id": "a52d0142"
      },
      "source": [
        "sns.countplot(data = df_dropped, x = 'Product_importance', hue = 'Reached.on.Time_Y.N')"
      ],
      "id": "a52d0142",
      "execution_count": null,
      "outputs": []
    },
    {
      "cell_type": "code",
      "metadata": {
        "id": "36290ac3"
      },
      "source": [
        "# Ratio for different product importance\n",
        "a = df_dropped['Product_importance'].unique()\n",
        "a.sort()\n",
        "for i in a:\n",
        "    arrival_i_rated = df_dropped[df_dropped['Product_importance'] == i]\n",
        "    print(\"The ratio when Product importance is =\", i, \"is\", ratio_time(arrival_i_rated))"
      ],
      "id": "36290ac3",
      "execution_count": null,
      "outputs": []
    },
    {
      "cell_type": "code",
      "metadata": {
        "id": "19f3cf13"
      },
      "source": [
        "sns.countplot(data = df_dropped, hue = 'Customer_rating', x = 'Product_importance')"
      ],
      "id": "19f3cf13",
      "execution_count": null,
      "outputs": []
    },
    {
      "cell_type": "markdown",
      "metadata": {
        "id": "f9006cfb"
      },
      "source": [
        "Let us write some code to find the distribution in rating among difference importance classes"
      ],
      "id": "f9006cfb"
    },
    {
      "cell_type": "code",
      "metadata": {
        "id": "37c231ef"
      },
      "source": [
        "# function to calculate distribution of rating\n",
        "def ratio_rating(data):\n",
        "    ratings = [1,2,3,4,5]\n",
        "    rating_ratio = []\n",
        "    for i in ratings:\n",
        "        rating_numer = (data[data['Customer_rating']==i].count(axis = 1).count())\n",
        "        rating_denom = (data.count(axis = 1).count())\n",
        "        rating_ratio.append(rating_numer/rating_denom)\n",
        "    return rating_ratio"
      ],
      "id": "37c231ef",
      "execution_count": null,
      "outputs": []
    },
    {
      "cell_type": "code",
      "metadata": {
        "id": "0174d74a"
      },
      "source": [
        "ratio_rating(df_dropped)"
      ],
      "id": "0174d74a",
      "execution_count": null,
      "outputs": []
    },
    {
      "cell_type": "code",
      "metadata": {
        "id": "39278d24"
      },
      "source": [
        "# Distribution of rating for different importance\n",
        "a = df_dropped['Product_importance'].unique()\n",
        "a.sort()\n",
        "for i in a:\n",
        "    rating_i_imp = df_dropped[df_dropped['Product_importance'] == i]\n",
        "    print(\"For importance =\", i, ratio_rating(rating_i_imp))# Ratio for different number if calls"
      ],
      "id": "39278d24",
      "execution_count": null,
      "outputs": []
    },
    {
      "cell_type": "markdown",
      "metadata": {
        "id": "4fc55c62"
      },
      "source": [
        "**Answer:** We can make two inferences here-\n",
        "\n",
        "* low importance product arrive on time less often as compared to medium and high\n",
        "\n",
        "* There is not any noteworthy effect of Customer_rating on Product_importance and vice-versa\n",
        "\n",
        "That is, if product rating is high, it does not necessarily mean that it has better rating and is delivered on time."
      ],
      "id": "4fc55c62"
    },
    {
      "cell_type": "markdown",
      "metadata": {
        "id": "9f4782ed"
      },
      "source": [
        "## (iv) Feature Engineering and Analysis"
      ],
      "id": "9f4782ed"
    },
    {
      "cell_type": "markdown",
      "metadata": {
        "id": "79cc0093"
      },
      "source": [
        "Now that we have analysed and visualised the data, we have more understanding of the features. We try to remove and extract some features and visualize them in hopes of reducing dimensionality without losing relevant information. This is done because higher dimensionality not only increases computation time, but it also increases the risk of overfitting and might give too much noice to the model. The models on the engineered dataset would be compared to the original dataset."
      ],
      "id": "79cc0093"
    },
    {
      "cell_type": "code",
      "metadata": {
        "colab": {
          "base_uri": "https://localhost:8080/"
        },
        "id": "11c2543b",
        "outputId": "cfb45c8c-143f-4fa7-e87c-615ec942e01e"
      },
      "source": [
        "df_dropped.info()"
      ],
      "id": "11c2543b",
      "execution_count": 29,
      "outputs": [
        {
          "output_type": "stream",
          "text": [
            "<class 'pandas.core.frame.DataFrame'>\n",
            "RangeIndex: 10999 entries, 0 to 10998\n",
            "Data columns (total 15 columns):\n",
            " #   Column                 Non-Null Count  Dtype\n",
            "---  ------                 --------------  -----\n",
            " 0   Customer_care_calls    10999 non-null  int64\n",
            " 1   Customer_rating        10999 non-null  int64\n",
            " 2   Cost_of_the_Product    10999 non-null  int64\n",
            " 3   Prior_purchases        10999 non-null  int64\n",
            " 4   Product_importance     10999 non-null  int64\n",
            " 5   Discount_offered       10999 non-null  int64\n",
            " 6   Weight_in_gms          10999 non-null  int64\n",
            " 7   Reached.on.Time_Y.N    10999 non-null  int64\n",
            " 8   Gender_M               10999 non-null  uint8\n",
            " 9   Mode_of_Shipment_Road  10999 non-null  uint8\n",
            " 10  Mode_of_Shipment_Ship  10999 non-null  uint8\n",
            " 11  Warehouse_block_B      10999 non-null  uint8\n",
            " 12  Warehouse_block_C      10999 non-null  uint8\n",
            " 13  Warehouse_block_D      10999 non-null  uint8\n",
            " 14  Warehouse_block_F      10999 non-null  uint8\n",
            "dtypes: int64(8), uint8(7)\n",
            "memory usage: 762.8 KB\n"
          ],
          "name": "stdout"
        }
      ]
    },
    {
      "cell_type": "code",
      "metadata": {
        "id": "dc57dd27"
      },
      "source": [
        "df_feat = df_dropped.copy(deep=True)"
      ],
      "id": "dc57dd27",
      "execution_count": 30,
      "outputs": []
    },
    {
      "cell_type": "markdown",
      "metadata": {
        "id": "010d501d"
      },
      "source": [
        "We create a feature known as effective cost which is the cost of the product after it has been discounted and replace with 'Cost_of_the_Product'. After this we will analyse if the 'Discount_offered' can be dropped."
      ],
      "id": "010d501d"
    },
    {
      "cell_type": "code",
      "metadata": {
        "id": "427aa34a"
      },
      "source": [
        "df_feat['Effective_Cost'] = df_feat['Cost_of_the_Product'] - ((df_feat['Discount_offered']/100)*df_feat['Cost_of_the_Product'])"
      ],
      "id": "427aa34a",
      "execution_count": 31,
      "outputs": []
    },
    {
      "cell_type": "code",
      "metadata": {
        "id": "6cb3f255"
      },
      "source": [
        "df_feat.drop(['Cost_of_the_Product'], axis = 1, inplace = True)  # dropping the Original Cost column"
      ],
      "id": "6cb3f255",
      "execution_count": 32,
      "outputs": []
    },
    {
      "cell_type": "code",
      "metadata": {
        "colab": {
          "base_uri": "https://localhost:8080/",
          "height": 0
        },
        "id": "816bd3e0",
        "outputId": "30ffa3d4-5ade-46ef-9908-6ae8c3583086"
      },
      "source": [
        "df_feat.head()"
      ],
      "id": "816bd3e0",
      "execution_count": 33,
      "outputs": [
        {
          "output_type": "execute_result",
          "data": {
            "text/html": [
              "<div>\n",
              "<style scoped>\n",
              "    .dataframe tbody tr th:only-of-type {\n",
              "        vertical-align: middle;\n",
              "    }\n",
              "\n",
              "    .dataframe tbody tr th {\n",
              "        vertical-align: top;\n",
              "    }\n",
              "\n",
              "    .dataframe thead th {\n",
              "        text-align: right;\n",
              "    }\n",
              "</style>\n",
              "<table border=\"1\" class=\"dataframe\">\n",
              "  <thead>\n",
              "    <tr style=\"text-align: right;\">\n",
              "      <th></th>\n",
              "      <th>Customer_care_calls</th>\n",
              "      <th>Customer_rating</th>\n",
              "      <th>Prior_purchases</th>\n",
              "      <th>Product_importance</th>\n",
              "      <th>Discount_offered</th>\n",
              "      <th>Weight_in_gms</th>\n",
              "      <th>Reached.on.Time_Y.N</th>\n",
              "      <th>Gender_M</th>\n",
              "      <th>Mode_of_Shipment_Road</th>\n",
              "      <th>Mode_of_Shipment_Ship</th>\n",
              "      <th>Warehouse_block_B</th>\n",
              "      <th>Warehouse_block_C</th>\n",
              "      <th>Warehouse_block_D</th>\n",
              "      <th>Warehouse_block_F</th>\n",
              "      <th>Effective_Cost</th>\n",
              "    </tr>\n",
              "  </thead>\n",
              "  <tbody>\n",
              "    <tr>\n",
              "      <th>0</th>\n",
              "      <td>4</td>\n",
              "      <td>2</td>\n",
              "      <td>3</td>\n",
              "      <td>1</td>\n",
              "      <td>44</td>\n",
              "      <td>1233</td>\n",
              "      <td>1</td>\n",
              "      <td>0</td>\n",
              "      <td>0</td>\n",
              "      <td>0</td>\n",
              "      <td>0</td>\n",
              "      <td>0</td>\n",
              "      <td>1</td>\n",
              "      <td>0</td>\n",
              "      <td>99.12</td>\n",
              "    </tr>\n",
              "    <tr>\n",
              "      <th>1</th>\n",
              "      <td>4</td>\n",
              "      <td>5</td>\n",
              "      <td>2</td>\n",
              "      <td>1</td>\n",
              "      <td>59</td>\n",
              "      <td>3088</td>\n",
              "      <td>1</td>\n",
              "      <td>1</td>\n",
              "      <td>0</td>\n",
              "      <td>0</td>\n",
              "      <td>0</td>\n",
              "      <td>0</td>\n",
              "      <td>0</td>\n",
              "      <td>1</td>\n",
              "      <td>88.56</td>\n",
              "    </tr>\n",
              "    <tr>\n",
              "      <th>2</th>\n",
              "      <td>2</td>\n",
              "      <td>2</td>\n",
              "      <td>4</td>\n",
              "      <td>1</td>\n",
              "      <td>48</td>\n",
              "      <td>3374</td>\n",
              "      <td>1</td>\n",
              "      <td>1</td>\n",
              "      <td>0</td>\n",
              "      <td>0</td>\n",
              "      <td>0</td>\n",
              "      <td>0</td>\n",
              "      <td>0</td>\n",
              "      <td>0</td>\n",
              "      <td>95.16</td>\n",
              "    </tr>\n",
              "    <tr>\n",
              "      <th>3</th>\n",
              "      <td>3</td>\n",
              "      <td>3</td>\n",
              "      <td>4</td>\n",
              "      <td>2</td>\n",
              "      <td>10</td>\n",
              "      <td>1177</td>\n",
              "      <td>1</td>\n",
              "      <td>1</td>\n",
              "      <td>0</td>\n",
              "      <td>0</td>\n",
              "      <td>1</td>\n",
              "      <td>0</td>\n",
              "      <td>0</td>\n",
              "      <td>0</td>\n",
              "      <td>158.40</td>\n",
              "    </tr>\n",
              "    <tr>\n",
              "      <th>4</th>\n",
              "      <td>2</td>\n",
              "      <td>2</td>\n",
              "      <td>3</td>\n",
              "      <td>2</td>\n",
              "      <td>46</td>\n",
              "      <td>2484</td>\n",
              "      <td>1</td>\n",
              "      <td>0</td>\n",
              "      <td>0</td>\n",
              "      <td>0</td>\n",
              "      <td>0</td>\n",
              "      <td>1</td>\n",
              "      <td>0</td>\n",
              "      <td>0</td>\n",
              "      <td>99.36</td>\n",
              "    </tr>\n",
              "  </tbody>\n",
              "</table>\n",
              "</div>"
            ],
            "text/plain": [
              "   Customer_care_calls  Customer_rating  ...  Warehouse_block_F  Effective_Cost\n",
              "0                    4                2  ...                  0           99.12\n",
              "1                    4                5  ...                  1           88.56\n",
              "2                    2                2  ...                  0           95.16\n",
              "3                    3                3  ...                  0          158.40\n",
              "4                    2                2  ...                  0           99.36\n",
              "\n",
              "[5 rows x 15 columns]"
            ]
          },
          "metadata": {
            "tags": []
          },
          "execution_count": 33
        }
      ]
    },
    {
      "cell_type": "markdown",
      "metadata": {
        "id": "e20ac162"
      },
      "source": [
        "We recall that the Cost of the Product column was the one with the highest VIF(18.58) . Let us see if this new feature has a smaller VIF."
      ],
      "id": "e20ac162"
    },
    {
      "cell_type": "code",
      "metadata": {
        "colab": {
          "base_uri": "https://localhost:8080/",
          "height": 0
        },
        "id": "0a657d3b",
        "outputId": "7c3ed088-1457-484d-ff21-de74262098ff"
      },
      "source": [
        "# the set of categorical variables\n",
        "X_dropped = df_feat.drop(['Reached.on.Time_Y.N'], axis = 1)\n",
        "  \n",
        "# VIF dataframe\n",
        "vif_data = pd.DataFrame()\n",
        "vif_data[\"Variable\"] = X_dropped.columns\n",
        "  \n",
        "# calculating VIF for each feature\n",
        "vif_data[\"VIF\"] = [variance_inflation_factor(X_dropped.values, i)\n",
        "                          for i in range(len(X_dropped.columns))]\n",
        "vif_data"
      ],
      "id": "0a657d3b",
      "execution_count": 34,
      "outputs": [
        {
          "output_type": "execute_result",
          "data": {
            "text/html": [
              "<div>\n",
              "<style scoped>\n",
              "    .dataframe tbody tr th:only-of-type {\n",
              "        vertical-align: middle;\n",
              "    }\n",
              "\n",
              "    .dataframe tbody tr th {\n",
              "        vertical-align: top;\n",
              "    }\n",
              "\n",
              "    .dataframe thead th {\n",
              "        text-align: right;\n",
              "    }\n",
              "</style>\n",
              "<table border=\"1\" class=\"dataframe\">\n",
              "  <thead>\n",
              "    <tr style=\"text-align: right;\">\n",
              "      <th></th>\n",
              "      <th>Variable</th>\n",
              "      <th>VIF</th>\n",
              "    </tr>\n",
              "  </thead>\n",
              "  <tbody>\n",
              "    <tr>\n",
              "      <th>0</th>\n",
              "      <td>Customer_care_calls</td>\n",
              "      <td>14.802172</td>\n",
              "    </tr>\n",
              "    <tr>\n",
              "      <th>1</th>\n",
              "      <td>Customer_rating</td>\n",
              "      <td>5.213952</td>\n",
              "    </tr>\n",
              "    <tr>\n",
              "      <th>2</th>\n",
              "      <td>Prior_purchases</td>\n",
              "      <td>6.477145</td>\n",
              "    </tr>\n",
              "    <tr>\n",
              "      <th>3</th>\n",
              "      <td>Product_importance</td>\n",
              "      <td>5.262620</td>\n",
              "    </tr>\n",
              "    <tr>\n",
              "      <th>4</th>\n",
              "      <td>Discount_offered</td>\n",
              "      <td>2.355680</td>\n",
              "    </tr>\n",
              "    <tr>\n",
              "      <th>5</th>\n",
              "      <td>Weight_in_gms</td>\n",
              "      <td>5.471648</td>\n",
              "    </tr>\n",
              "    <tr>\n",
              "      <th>6</th>\n",
              "      <td>Gender_M</td>\n",
              "      <td>1.962403</td>\n",
              "    </tr>\n",
              "    <tr>\n",
              "      <th>7</th>\n",
              "      <td>Mode_of_Shipment_Road</td>\n",
              "      <td>1.916162</td>\n",
              "    </tr>\n",
              "    <tr>\n",
              "      <th>8</th>\n",
              "      <td>Mode_of_Shipment_Ship</td>\n",
              "      <td>4.885208</td>\n",
              "    </tr>\n",
              "    <tr>\n",
              "      <th>9</th>\n",
              "      <td>Warehouse_block_B</td>\n",
              "      <td>1.941988</td>\n",
              "    </tr>\n",
              "    <tr>\n",
              "      <th>10</th>\n",
              "      <td>Warehouse_block_C</td>\n",
              "      <td>1.940317</td>\n",
              "    </tr>\n",
              "    <tr>\n",
              "      <th>11</th>\n",
              "      <td>Warehouse_block_D</td>\n",
              "      <td>1.937286</td>\n",
              "    </tr>\n",
              "    <tr>\n",
              "      <th>12</th>\n",
              "      <td>Warehouse_block_F</td>\n",
              "      <td>2.876217</td>\n",
              "    </tr>\n",
              "    <tr>\n",
              "      <th>13</th>\n",
              "      <td>Effective_Cost</td>\n",
              "      <td>17.526984</td>\n",
              "    </tr>\n",
              "  </tbody>\n",
              "</table>\n",
              "</div>"
            ],
            "text/plain": [
              "                 Variable        VIF\n",
              "0     Customer_care_calls  14.802172\n",
              "1         Customer_rating   5.213952\n",
              "2         Prior_purchases   6.477145\n",
              "3      Product_importance   5.262620\n",
              "4        Discount_offered   2.355680\n",
              "5           Weight_in_gms   5.471648\n",
              "6                Gender_M   1.962403\n",
              "7   Mode_of_Shipment_Road   1.916162\n",
              "8   Mode_of_Shipment_Ship   4.885208\n",
              "9       Warehouse_block_B   1.941988\n",
              "10      Warehouse_block_C   1.940317\n",
              "11      Warehouse_block_D   1.937286\n",
              "12      Warehouse_block_F   2.876217\n",
              "13         Effective_Cost  17.526984"
            ]
          },
          "metadata": {
            "tags": []
          },
          "execution_count": 34
        }
      ]
    },
    {
      "cell_type": "markdown",
      "metadata": {
        "id": "64e78951"
      },
      "source": [
        "We see that the VIF was only slightly reduced. This data would result in a marginally better model as compared to the original(especially for models that assume independence)."
      ],
      "id": "64e78951"
    },
    {
      "cell_type": "markdown",
      "metadata": {
        "id": "0857dc37"
      },
      "source": [
        "**WORK IN PROGRESS**"
      ],
      "id": "0857dc37"
    },
    {
      "cell_type": "markdown",
      "metadata": {
        "id": "10b60525"
      },
      "source": [
        "# 4) Data pre-processing:"
      ],
      "id": "10b60525"
    },
    {
      "cell_type": "code",
      "metadata": {
        "id": "0ee2c3db"
      },
      "source": [
        "df_independent = df_dropped.drop(['Reached.on.Time_Y.N'], axis = 1)  # the predictors \n",
        "df_dependent = df_dropped['Reached.on.Time_Y.N']  # the target attribute"
      ],
      "id": "0ee2c3db",
      "execution_count": 35,
      "outputs": []
    },
    {
      "cell_type": "code",
      "metadata": {
        "id": "aa71fcb7"
      },
      "source": [
        "#Spliting Train Test and Validation\n",
        "X_train, X_test, y_train, y_test = train_test_split(df_independent, df_dependent, test_size=0.2, random_state=42, stratify = df_dependent)\n",
        "X_red, X_val, y_red, y_val = train_test_split(X_train, y_train, test_size=0.2,random_state=42, stratify = y_train) # reduced test and validation"
      ],
      "id": "aa71fcb7",
      "execution_count": 36,
      "outputs": []
    },
    {
      "cell_type": "code",
      "metadata": {
        "colab": {
          "base_uri": "https://localhost:8080/"
        },
        "id": "9f0b454c",
        "outputId": "f303a1b8-69f4-4e37-d880-e7e648bda2ea"
      },
      "source": [
        "df_dependent.describe()  # characteristics of original data"
      ],
      "id": "9f0b454c",
      "execution_count": 37,
      "outputs": [
        {
          "output_type": "execute_result",
          "data": {
            "text/plain": [
              "count    10999.000000\n",
              "mean         0.596691\n",
              "std          0.490584\n",
              "min          0.000000\n",
              "25%          0.000000\n",
              "50%          1.000000\n",
              "75%          1.000000\n",
              "max          1.000000\n",
              "Name: Reached.on.Time_Y.N, dtype: float64"
            ]
          },
          "metadata": {
            "tags": []
          },
          "execution_count": 37
        }
      ]
    },
    {
      "cell_type": "code",
      "metadata": {
        "colab": {
          "base_uri": "https://localhost:8080/"
        },
        "id": "bebd911b",
        "outputId": "cb1ec212-4c3e-449f-d7e7-5f680be66080"
      },
      "source": [
        "y_red.describe()  # characteristics of train data (implying the same for test)"
      ],
      "id": "bebd911b",
      "execution_count": 38,
      "outputs": [
        {
          "output_type": "execute_result",
          "data": {
            "text/plain": [
              "count    7039.000000\n",
              "mean        0.596676\n",
              "std         0.490600\n",
              "min         0.000000\n",
              "25%         0.000000\n",
              "50%         1.000000\n",
              "75%         1.000000\n",
              "max         1.000000\n",
              "Name: Reached.on.Time_Y.N, dtype: float64"
            ]
          },
          "metadata": {
            "tags": []
          },
          "execution_count": 38
        }
      ]
    },
    {
      "cell_type": "markdown",
      "metadata": {
        "id": "5601eb1b"
      },
      "source": [
        "We use the stratify parameter of the split to ensure that the splits preserve the statistical characteristics of the original data as can be seen above."
      ],
      "id": "5601eb1b"
    },
    {
      "cell_type": "code",
      "metadata": {
        "colab": {
          "base_uri": "https://localhost:8080/",
          "height": 292
        },
        "id": "75e0b9ac",
        "outputId": "b766d7b2-3b26-498c-d130-de06490ce968"
      },
      "source": [
        "y_red.value_counts().plot(kind='bar')\n",
        "plt.title('label balance')\n",
        "plt.xlabel('label values')\n",
        "plt.ylabel('amount per label')\n",
        "plt.show()"
      ],
      "id": "75e0b9ac",
      "execution_count": null,
      "outputs": [
        {
          "output_type": "display_data",
          "data": {
            "image/png": "[encoded data removed]",
            "text/plain": [
              "<Figure size 432x288 with 1 Axes>"
            ]
          },
          "metadata": {
            "tags": [],
            "needs_background": "light"
          }
        }
      ]
    },
    {
      "cell_type": "markdown",
      "metadata": {
        "id": "87b4d5d7"
      },
      "source": [
        "## (i) Target Balancing:"
      ],
      "id": "87b4d5d7"
    },
    {
      "cell_type": "markdown",
      "metadata": {
        "id": "7a297926"
      },
      "source": [
        "We see that the target attributes are not balanced. So we perform target balancing. We have two ways to go forward-\n",
        "* Method 1- Undersampling (Dropping entries from majority class)\n",
        "* Method 2- Oversampling (SMOTE - Synthetic Minority Oversampling Technique)\n",
        "\n",
        "We balance only the train set to train the model better and keep the test set as is, to measure the ability to generalize"
      ],
      "id": "7a297926"
    },
    {
      "cell_type": "markdown",
      "metadata": {
        "id": "2314c0b5"
      },
      "source": [
        "### Method 1 - Undersampling:"
      ],
      "id": "2314c0b5"
    },
    {
      "cell_type": "code",
      "metadata": {
        "colab": {
          "base_uri": "https://localhost:8080/"
        },
        "id": "323d036b",
        "outputId": "dc6f4694-5f0d-46c5-c571-d71f6ef7251f"
      },
      "source": [
        "undersample = RandomUnderSampler(sampling_strategy='majority', random_state = 42)\n",
        "X_red_under, y_red_under = undersample.fit_resample(X_red, y_red)"
      ],
      "id": "323d036b",
      "execution_count": 39,
      "outputs": [
        {
          "output_type": "stream",
          "text": [
            "/usr/local/lib/python3.7/dist-packages/sklearn/utils/deprecation.py:87: FutureWarning: Function safe_indexing is deprecated; safe_indexing is deprecated in version 0.22 and will be removed in version 0.24.\n",
            "  warnings.warn(msg, category=FutureWarning)\n"
          ],
          "name": "stderr"
        }
      ]
    },
    {
      "cell_type": "code",
      "metadata": {
        "colab": {
          "base_uri": "https://localhost:8080/",
          "height": 292
        },
        "id": "1a9054d4",
        "outputId": "f2013e6a-9854-4b62-9105-d24d3fb45dcd"
      },
      "source": [
        "# plots the balanced distribution of reduced training set\n",
        "pd.Series(y_red_under).value_counts().plot(kind='bar')\n",
        "plt.title('label balance')\n",
        "plt.xlabel('label values')\n",
        "plt.ylabel('amount per label')\n",
        "plt.show()"
      ],
      "id": "1a9054d4",
      "execution_count": 40,
      "outputs": [
        {
          "output_type": "display_data",
          "data": {
            "image/png": "[encoded data removed]",
            "text/plain": [
              "<Figure size 432x288 with 1 Axes>"
            ]
          },
          "metadata": {
            "tags": [],
            "needs_background": "light"
          }
        }
      ]
    },
    {
      "cell_type": "code",
      "metadata": {
        "id": "d8193556",
        "colab": {
          "base_uri": "https://localhost:8080/"
        },
        "outputId": "15c5ed6f-9086-45d9-a98e-ff3233a72302"
      },
      "source": [
        "X_train_under, y_train_under = undersample.fit_resample(X_train, y_train)"
      ],
      "id": "d8193556",
      "execution_count": 41,
      "outputs": [
        {
          "output_type": "stream",
          "text": [
            "/usr/local/lib/python3.7/dist-packages/sklearn/utils/deprecation.py:87: FutureWarning: Function safe_indexing is deprecated; safe_indexing is deprecated in version 0.22 and will be removed in version 0.24.\n",
            "  warnings.warn(msg, category=FutureWarning)\n"
          ],
          "name": "stderr"
        }
      ]
    },
    {
      "cell_type": "code",
      "metadata": {
        "id": "24cfa84e",
        "colab": {
          "base_uri": "https://localhost:8080/",
          "height": 292
        },
        "outputId": "f0cfd213-1f3d-400a-d803-692bac632de9"
      },
      "source": [
        "# plots the balanced distribution of complete training set\n",
        "pd.Series(y_train_under).value_counts().plot(kind='bar')\n",
        "plt.title('label balance')\n",
        "plt.xlabel('label values')\n",
        "plt.ylabel('amount per label')\n",
        "plt.show()"
      ],
      "id": "24cfa84e",
      "execution_count": 42,
      "outputs": [
        {
          "output_type": "display_data",
          "data": {
            "image/png": "[encoded data removed]",
            "text/plain": [
              "<Figure size 432x288 with 1 Axes>"
            ]
          },
          "metadata": {
            "tags": [],
            "needs_background": "light"
          }
        }
      ]
    },
    {
      "cell_type": "markdown",
      "metadata": {
        "id": "74567f16"
      },
      "source": [
        "The dataset is balanced"
      ],
      "id": "74567f16"
    },
    {
      "cell_type": "markdown",
      "metadata": {
        "id": "eebf85e6"
      },
      "source": [
        "### Method 2 - Oversampling (SMOTE)"
      ],
      "id": "eebf85e6"
    },
    {
      "cell_type": "code",
      "metadata": {
        "id": "c41d1e37"
      },
      "source": [
        "# transform the dataset\n",
        "oversample = SMOTE(random_state = 42)\n",
        "X_red_smote, y_red_smote = oversample.fit_resample(X_red, y_red)"
      ],
      "id": "c41d1e37",
      "execution_count": null,
      "outputs": []
    },
    {
      "cell_type": "code",
      "metadata": {
        "id": "5eed35f4"
      },
      "source": [
        "# plots the balanced distribution of reduced training set\n",
        "y_red_smote.value_counts().plot(kind='bar')\n",
        "plt.title('label balance')\n",
        "plt.xlabel('label values')\n",
        "plt.ylabel('amount per label')\n",
        "plt.show()"
      ],
      "id": "5eed35f4",
      "execution_count": null,
      "outputs": []
    },
    {
      "cell_type": "code",
      "metadata": {
        "id": "a0baa5e5"
      },
      "source": [
        "X_train_smote, y_train_smote = oversample.fit_resample(X_train, y_train)"
      ],
      "id": "a0baa5e5",
      "execution_count": null,
      "outputs": []
    },
    {
      "cell_type": "code",
      "metadata": {
        "id": "1c1930d3"
      },
      "source": [
        "# plots the balanced distribution of complete training set\n",
        "y_train_smote.value_counts().plot(kind='bar')\n",
        "plt.title('label balance')\n",
        "plt.xlabel('label values')\n",
        "plt.ylabel('amount per label')\n",
        "plt.show()"
      ],
      "id": "1c1930d3",
      "execution_count": null,
      "outputs": []
    },
    {
      "cell_type": "markdown",
      "metadata": {
        "id": "70c2659b"
      },
      "source": [
        "## (ii) Scaling the dataset (IN PROGRESS)"
      ],
      "id": "70c2659b"
    },
    {
      "cell_type": "markdown",
      "metadata": {
        "id": "e6a5ca48"
      },
      "source": [
        "We try different types of scaling on the dataset to see which works best. We fit the scalers only on the reduced training set to prevent data leakage."
      ],
      "id": "e6a5ca48"
    },
    {
      "cell_type": "markdown",
      "metadata": {
        "id": "b0c8945d"
      },
      "source": [
        "Min-Max Scaler"
      ],
      "id": "b0c8945d"
    },
    {
      "cell_type": "code",
      "metadata": {
        "id": "a01fe3d0"
      },
      "source": [
        "scaler = preprocessing.MinMaxScaler()\n",
        "X_red_under_mms = scaler.fit_transform(X_red_under)\n",
        "X_val_mms = scaler.transform(X_val)\n",
        "X_train_under_mms = scaler.fit_transform(X_train_under)\n",
        "X_test_mms = scaler.transform(X_test)"
      ],
      "id": "a01fe3d0",
      "execution_count": null,
      "outputs": []
    },
    {
      "cell_type": "markdown",
      "metadata": {
        "id": "8a8a40c9"
      },
      "source": [
        "Standard Scaler"
      ],
      "id": "8a8a40c9"
    },
    {
      "cell_type": "code",
      "metadata": {
        "id": "67e6a3ad"
      },
      "source": [
        "scaler = preprocessing.StandardScaler()\n",
        "X_red_under_std = scaler.fit_transform(X_red_under)\n",
        "X_val_std = scaler.transform(X_val)\n",
        "X_train_under_std = scaler.fit_transform(X_train_under)\n",
        "X_test_std = scaler.transform(X_test)"
      ],
      "id": "67e6a3ad",
      "execution_count": null,
      "outputs": []
    },
    {
      "cell_type": "markdown",
      "metadata": {
        "id": "b1ca496e"
      },
      "source": [
        "Robust Scaler"
      ],
      "id": "b1ca496e"
    },
    {
      "cell_type": "code",
      "metadata": {
        "id": "9afb8055"
      },
      "source": [
        "scaler = preprocessing.RobustScaler()\n",
        "X_red_under_rob = scaler.fit_transform(X_red_under)\n",
        "X_val_rob = scaler.transform(X_val)\n",
        "X_train_under_rob = scaler.fit_transform(X_train_under)\n",
        "X_test_rob = scaler.transform(X_test)"
      ],
      "id": "9afb8055",
      "execution_count": null,
      "outputs": []
    },
    {
      "cell_type": "markdown",
      "metadata": {
        "id": "ac281733"
      },
      "source": [
        "Normalizer\n"
      ],
      "id": "ac281733"
    },
    {
      "cell_type": "code",
      "metadata": {
        "id": "0af73624"
      },
      "source": [
        "scaler = preprocessing.Normalizer()\n",
        "X_red_under_norm = scaler.fit_transform(X_red_under)\n",
        "X_val_norm = scaler.transform(X_val)\n",
        "X_train_under_norm = scaler.fit_transform(X_train_under)\n",
        "X_test_norm = scaler.transform(X_test)"
      ],
      "id": "0af73624",
      "execution_count": null,
      "outputs": []
    },
    {
      "cell_type": "code",
      "metadata": {
        "id": "ae714052"
      },
      "source": [
        "# Scaling certain features specifically depending upon their distribution\n",
        "stand = preprocessing.StandardScaler()\n",
        "norm = preprocessing.MinMaxScaler()\n",
        "robust = preprocessing.RobustScaler()\n",
        "\n",
        "X_red_under_cust = X_red_under.copy(deep = True)\n",
        "X_val_cust = X_val.copy(deep = True)\n",
        "X_train_under_cust = X_train_under.copy(deep = True)\n",
        "X_test_cust = X_test.copy(deep = True)\n",
        "\n",
        "X_red_under_cust[['Cost_of_the_Product']] = stand.fit_transform(X_red_under[['Cost_of_the_Product']])\n",
        "X_val_cust[['Cost_of_the_Product']] = stand.transform(X_val[['Cost_of_the_Product']])\n",
        "X_train_under_cust[['Cost_of_the_Product']] = stand.fit_transform(X_train_under[['Cost_of_the_Product']])\n",
        "X_test_cust[['Cost_of_the_Product']] = stand.transform(X_test[['Cost_of_the_Product']])\n",
        "\n",
        "cols = ['Customer_rating','Discount_offered','Weight_in_gms', 'Product_importance', 'Customer_care_calls', 'Prior_purchases']\n",
        "\n",
        "X_red_under_cust[cols] = robust.fit_transform(X_red_under[cols])\n",
        "X_val_cust[cols] = robust.transform(X_val[cols])\n",
        "X_train_under_cust[cols] = robust.fit_transform(X_train_under[cols])\n",
        "X_test_cust[cols] = robust.transform(X_test[cols])"
      ],
      "id": "ae714052",
      "execution_count": null,
      "outputs": []
    },
    {
      "cell_type": "code",
      "metadata": {
        "id": "4ec52517"
      },
      "source": [
        "X_red_under_cust[['Weight_in_gms']] = norm.fit_transform(X_red_under[['Weight_in_gms']])\n",
        "X_val_cust[['Weight_in_gms']] = norm.transform(X_val[['Weight_in_gms']])\n",
        "X_train_under_cust[['Weight_in_gms']] = norm.fit_transform(X_train_under[['Weight_in_gms']])\n",
        "X_test_cust[['Weight_in_gms']] = norm.transform(X_test[['Weight_in_gms']])"
      ],
      "id": "4ec52517",
      "execution_count": null,
      "outputs": []
    },
    {
      "cell_type": "markdown",
      "metadata": {
        "id": "6c8ee780"
      },
      "source": [
        "# 5) Model training, testing and tuning:"
      ],
      "id": "6c8ee780"
    },
    {
      "cell_type": "markdown",
      "metadata": {
        "id": "bd3ce065"
      },
      "source": [
        "We use 'average = None' to get the score for the classes individually as both are equally important, and instead of using the default f1, we use the macro f1 score to measure classifiers and it takes both the classes into consideration. Precision and Recall scores are also used wherever detailed analysis is required."
      ],
      "id": "bd3ce065"
    },
    {
      "cell_type": "markdown",
      "metadata": {
        "id": "f151bc3e"
      },
      "source": [
        "## Base Models:"
      ],
      "id": "f151bc3e"
    },
    {
      "cell_type": "markdown",
      "metadata": {
        "id": "9b2cd9e2"
      },
      "source": [
        "Before moving on to modelling the pre-processed data, we try to model the raw unprocessed data using some basic untuned models to get a performance benchmark."
      ],
      "id": "9b2cd9e2"
    },
    {
      "cell_type": "markdown",
      "metadata": {
        "id": "28004477"
      },
      "source": [
        "**PLEASE FIX THE BUG** in BNB and and try SVM"
      ],
      "id": "28004477"
    },
    {
      "cell_type": "code",
      "metadata": {
        "id": "5f6ad677"
      },
      "source": [
        "# function to evaluate the models\n",
        "def evaluate(model, X_test, y_test):\n",
        "    predic = model.predict(X_test)\n",
        "\n",
        "    #printing f1, precision and recall\n",
        "    print(\"f1 Score:\", f1_score(y_test, predic, average = None))\n",
        "    print(\"Precision Score:\", precision_score(y_test, predic,average=None))\n",
        "    print(\"Recall Score:\", recall_score(y_test, predic,average=None))\n",
        "    \n",
        "    #finding Confusion_matrix\n",
        "    conf_mat = confusion_matrix(y_test, predic)\n",
        "    percent_matrix = (conf_mat.T/conf_mat.sum(axis=1)*100).T\n",
        "    #plotting Confusion Matrix\n",
        "    class_label = [0,1]\n",
        "    df = pd.DataFrame(percent_matrix, index = class_label, columns = class_label)\n",
        "    sns.heatmap(df, annot = True, vmax=100, vmin=0)\n",
        "    plt.title(\"Confusion Matrix\")\n",
        "    plt.xlabel(\"Predicted Label\")\n",
        "    plt.ylabel(\"True Label\")\n",
        "    plt.show()\n",
        "    \n",
        "    print(\"Macro f1 Score:\", f1_score(y_test, predic, average = 'macro'))"
      ],
      "id": "5f6ad677",
      "execution_count": 43,
      "outputs": []
    },
    {
      "cell_type": "code",
      "metadata": {
        "id": "caa43f7a",
        "colab": {
          "base_uri": "https://localhost:8080/",
          "height": 362
        },
        "outputId": "a6dcabf7-f0ec-4566-872a-48acf090d9c5"
      },
      "source": [
        "# Trying out Logistic Regression\n",
        "base_lr = LogisticRegression()\n",
        "base_lr.fit(X_train, y_train)\n",
        "evaluate(base_lr, X_test, y_test)"
      ],
      "id": "caa43f7a",
      "execution_count": null,
      "outputs": [
        {
          "output_type": "stream",
          "text": [
            "f1 Score: [0.56958624 0.68452147]\n",
            "Precision Score: [0.54414784 0.70880914]\n",
            "Recall Score: [0.59751973 0.66184311]\n"
          ],
          "name": "stdout"
        },
        {
          "output_type": "display_data",
          "data": {
            "image/png": "[encoded data removed]",
            "text/plain": [
              "<Figure size 432x288 with 2 Axes>"
            ]
          },
          "metadata": {
            "tags": [],
            "needs_background": "light"
          }
        },
        {
          "output_type": "stream",
          "text": [
            "Macro f1 Score: 0.6270538545493101\n"
          ],
          "name": "stdout"
        }
      ]
    },
    {
      "cell_type": "code",
      "metadata": {
        "id": "6d7d20b4",
        "colab": {
          "base_uri": "https://localhost:8080/",
          "height": 362
        },
        "outputId": "66213ef9-8f3e-4a77-f371-0eae7cfbda7e"
      },
      "source": [
        "# Trying out Multinomial Naive Bayes\n",
        "base_mnb = MultinomialNB()\n",
        "base_mnb.fit(X_train_under, y_train_under)\n",
        "evaluate(base_mnb, X_test, y_test)"
      ],
      "id": "6d7d20b4",
      "execution_count": 103,
      "outputs": [
        {
          "output_type": "stream",
          "text": [
            "f1 Score: [0.65685809 0.68469254]\n",
            "Precision Score: [0.56721311 0.80102041]\n",
            "Recall Score: [0.78015784 0.59786748]\n"
          ],
          "name": "stdout"
        },
        {
          "output_type": "display_data",
          "data": {
            "image/png": "[encoded data removed]",
            "text/plain": [
              "<Figure size 432x288 with 2 Axes>"
            ]
          },
          "metadata": {
            "tags": [],
            "needs_background": "light"
          }
        },
        {
          "output_type": "stream",
          "text": [
            "Macro f1 Score: 0.6707753172973772\n"
          ],
          "name": "stdout"
        }
      ]
    },
    {
      "cell_type": "code",
      "metadata": {
        "colab": {
          "base_uri": "https://localhost:8080/"
        },
        "id": "HvYLCcKDWphD",
        "outputId": "9f6c53d6-ab7a-4aae-9014-150ba6c594f7"
      },
      "source": [
        "scores= cross_val_score(base_mnb, X_train_under, y_train_under, cv=5)\n",
        "scores.mean()"
      ],
      "id": "HvYLCcKDWphD",
      "execution_count": 102,
      "outputs": [
        {
          "output_type": "execute_result",
          "data": {
            "text/plain": [
              "0.6739917021508898"
            ]
          },
          "metadata": {
            "tags": []
          },
          "execution_count": 102
        }
      ]
    },
    {
      "cell_type": "code",
      "metadata": {
        "id": "a44be6c6",
        "outputId": "6e6a878e-949d-4c41-81fb-4905560b1a86"
      },
      "source": [
        "# Trying out Bernoulli Naive Bayes\n",
        "base_bnb = BernoulliNB()\n",
        "base_bnb.fit(X_train, y_train)\n",
        "evaluate(base_bnb, X_test, y_test)"
      ],
      "id": "a44be6c6",
      "execution_count": null,
      "outputs": [
        {
          "output_type": "stream",
          "text": [
            "f1 Score: [0.         0.74750925]\n",
            "Precision Score: [0.         0.59681818]\n",
            "Recall Score: [0. 1.]\n"
          ],
          "name": "stdout"
        },
        {
          "output_type": "stream",
          "text": [
            "F:\\Anaconda\\envs\\deeplearning\\lib\\site-packages\\sklearn\\metrics\\_classification.py:1248: UndefinedMetricWarning: Precision is ill-defined and being set to 0.0 in labels with no predicted samples. Use `zero_division` parameter to control this behavior.\n"
          ],
          "name": "stderr"
        },
        {
          "output_type": "display_data",
          "data": {
            "image/png": "[encoded data removed]",
            "text/plain": [
              "<Figure size 432x288 with 2 Axes>"
            ]
          },
          "metadata": {
            "tags": []
          }
        },
        {
          "output_type": "stream",
          "text": [
            "Macro f1 Score: 0.3737546256760604\n"
          ],
          "name": "stdout"
        }
      ]
    },
    {
      "cell_type": "code",
      "metadata": {
        "id": "09a2cf58",
        "colab": {
          "base_uri": "https://localhost:8080/",
          "height": 362
        },
        "outputId": "fd3085b6-2393-4b4a-c7a2-4dc5bbc3b869"
      },
      "source": [
        "# Trying out Gaussian Naive Bayes\n",
        "base_gnb = GaussianNB()\n",
        "base_gnb.fit(X_train, y_train)\n",
        "evaluate(base_gnb, X_test, y_test)"
      ],
      "id": "09a2cf58",
      "execution_count": null,
      "outputs": [
        {
          "output_type": "stream",
          "text": [
            "f1 Score: [0.69233823 0.58798511]\n",
            "Precision Score: [0.53431373 0.97359155]\n",
            "Recall Score: [0.98308906 0.42117289]\n"
          ],
          "name": "stdout"
        },
        {
          "output_type": "display_data",
          "data": {
            "image/png": "[encoded data removed]",
            "text/plain": [
              "<Figure size 432x288 with 2 Axes>"
            ]
          },
          "metadata": {
            "tags": [],
            "needs_background": "light"
          }
        },
        {
          "output_type": "stream",
          "text": [
            "Macro f1 Score: 0.6401616718785186\n"
          ],
          "name": "stdout"
        }
      ]
    },
    {
      "cell_type": "markdown",
      "metadata": {
        "id": "9158386c"
      },
      "source": [
        "Compare MNB and GNB,they complement each other wonderfully. We can look into ways to take advantages of both."
      ],
      "id": "9158386c"
    },
    {
      "cell_type": "code",
      "metadata": {
        "id": "4d0d39a3",
        "outputId": "323e23de-4b44-4b47-8fad-7ec50ae09b03"
      },
      "source": [
        "# Trying out KNN\n",
        "KNN = KNeighborsClassifier()\n",
        "KNN.fit(X_train, y_train)\n",
        "evaluate(KNN, X_test, y_test)"
      ],
      "id": "4d0d39a3",
      "execution_count": null,
      "outputs": [
        {
          "output_type": "stream",
          "text": [
            "f1 Score: [0.58351178 0.69273302]\n",
            "Precision Score: [0.55555556 0.71944217]\n",
            "Recall Score: [0.61443067 0.66793602]\n"
          ],
          "name": "stdout"
        },
        {
          "output_type": "display_data",
          "data": {
            "image/png": "[encoded data removed]",
            "text/plain": [
              "<Figure size 432x288 with 2 Axes>"
            ]
          },
          "metadata": {
            "tags": []
          }
        },
        {
          "output_type": "stream",
          "text": [
            "Macro f1 Score: 0.6381223973397472\n"
          ],
          "name": "stdout"
        }
      ]
    },
    {
      "cell_type": "code",
      "metadata": {
        "id": "1b6d7586",
        "colab": {
          "base_uri": "https://localhost:8080/",
          "height": 362
        },
        "outputId": "f75bea41-322b-4e12-e8a2-5623c16ac035"
      },
      "source": [
        "#Trying out Decision Tree\n",
        "DecisionTree=DecisionTreeClassifier(random_state = 42)\n",
        "DecisionTree.fit(X_train,y_train)\n",
        "evaluate(DecisionTree, X_test, y_test)"
      ],
      "id": "1b6d7586",
      "execution_count": null,
      "outputs": [
        {
          "output_type": "stream",
          "text": [
            "f1 Score: [0.54461716 0.70296658]\n",
            "Precision Score: [0.55647059 0.69333333]\n",
            "Recall Score: [0.53325817 0.71287129]\n"
          ],
          "name": "stdout"
        },
        {
          "output_type": "display_data",
          "data": {
            "image/png": "[encoded data removed]",
            "text/plain": [
              "<Figure size 432x288 with 2 Axes>"
            ]
          },
          "metadata": {
            "tags": [],
            "needs_background": "light"
          }
        },
        {
          "output_type": "stream",
          "text": [
            "Macro f1 Score: 0.6237918675311542\n"
          ],
          "name": "stdout"
        }
      ]
    },
    {
      "cell_type": "code",
      "metadata": {
        "id": "ae732705",
        "colab": {
          "base_uri": "https://localhost:8080/",
          "height": 362
        },
        "outputId": "36aef432-8de6-4a8b-ff7d-0663f3a9b0dd"
      },
      "source": [
        "# Trying out Random Forest\n",
        "RandomForest=RandomForestClassifier(random_state = 42)\n",
        "RandomForest.fit(X_train,y_train)\n",
        "evaluate(RandomForest, X_test, y_test)"
      ],
      "id": "ae732705",
      "execution_count": null,
      "outputs": [
        {
          "output_type": "stream",
          "text": [
            "f1 Score: [0.63121615 0.68383284]\n",
            "Precision Score: [0.56031469 0.76704545]\n",
            "Recall Score: [0.72266065 0.61690784]\n"
          ],
          "name": "stdout"
        },
        {
          "output_type": "display_data",
          "data": {
            "image/png": "[encoded data removed]",
            "text/plain": [
              "<Figure size 432x288 with 2 Axes>"
            ]
          },
          "metadata": {
            "tags": [],
            "needs_background": "light"
          }
        },
        {
          "output_type": "stream",
          "text": [
            "Macro f1 Score: 0.6575244952705417\n"
          ],
          "name": "stdout"
        }
      ]
    },
    {
      "cell_type": "code",
      "metadata": {
        "id": "a144bd3c",
        "outputId": "28a118c5-f141-4c1c-a175-be4ac2497e11"
      },
      "source": [
        "# Finding accuracy using K-Fold Cross Validation method\n",
        "kfold = StratifiedKFold(n_splits=10,random_state=42,shuffle=True) # k=10, split the data into 10 equal parts\n",
        "xyz=[]\n",
        "f1=[]\n",
        "std=[]\n",
        "classifiers=['Logistic Regression','KNN','Decision Tree','Random Forest', 'BernoulliNB', 'MultinomialNB', 'GaussianNB']\n",
        "models=[LogisticRegression(max_iter = 1000),KNeighborsClassifier(),DecisionTreeClassifier(random_state = 42),RandomForestClassifier(random_state = 42), BernoulliNB(), MultinomialNB(), GaussianNB()]\n",
        "for i in models:\n",
        "    model = i\n",
        "    cv_result = cross_val_score(model,X_test,y_test, cv = kfold,scoring = \"f1_macro\")\n",
        "    xyz.append(cv_result.mean())\n",
        "    std.append(cv_result.std())\n",
        "    f1.append(cv_result)\n",
        "new_models_dataframe2=pd.DataFrame({'CV Mean':xyz,'Std':std},index=classifiers)       \n",
        "new_models_dataframe2"
      ],
      "id": "a144bd3c",
      "execution_count": null,
      "outputs": [
        {
          "output_type": "execute_result",
          "data": {
            "text/html": [
              "<div>\n",
              "<style scoped>\n",
              "    .dataframe tbody tr th:only-of-type {\n",
              "        vertical-align: middle;\n",
              "    }\n",
              "\n",
              "    .dataframe tbody tr th {\n",
              "        vertical-align: top;\n",
              "    }\n",
              "\n",
              "    .dataframe thead th {\n",
              "        text-align: right;\n",
              "    }\n",
              "</style>\n",
              "<table border=\"1\" class=\"dataframe\">\n",
              "  <thead>\n",
              "    <tr style=\"text-align: right;\">\n",
              "      <th></th>\n",
              "      <th>CV Mean</th>\n",
              "      <th>Std</th>\n",
              "    </tr>\n",
              "  </thead>\n",
              "  <tbody>\n",
              "    <tr>\n",
              "      <th>Logistic Regression</th>\n",
              "      <td>0.621296</td>\n",
              "      <td>0.044464</td>\n",
              "    </tr>\n",
              "    <tr>\n",
              "      <th>KNN</th>\n",
              "      <td>0.645632</td>\n",
              "      <td>0.022380</td>\n",
              "    </tr>\n",
              "    <tr>\n",
              "      <th>Decision Tree</th>\n",
              "      <td>0.632572</td>\n",
              "      <td>0.033240</td>\n",
              "    </tr>\n",
              "    <tr>\n",
              "      <th>Random Forest</th>\n",
              "      <td>0.658368</td>\n",
              "      <td>0.027856</td>\n",
              "    </tr>\n",
              "    <tr>\n",
              "      <th>BernoulliNB</th>\n",
              "      <td>0.375170</td>\n",
              "      <td>0.004719</td>\n",
              "    </tr>\n",
              "    <tr>\n",
              "      <th>MultinomialNB</th>\n",
              "      <td>0.670026</td>\n",
              "      <td>0.034878</td>\n",
              "    </tr>\n",
              "    <tr>\n",
              "      <th>GaussianNB</th>\n",
              "      <td>0.646812</td>\n",
              "      <td>0.028274</td>\n",
              "    </tr>\n",
              "  </tbody>\n",
              "</table>\n",
              "</div>"
            ],
            "text/plain": [
              "                      CV Mean       Std\n",
              "Logistic Regression  0.621296  0.044464\n",
              "KNN                  0.645632  0.022380\n",
              "Decision Tree        0.632572  0.033240\n",
              "Random Forest        0.658368  0.027856\n",
              "BernoulliNB          0.375170  0.004719\n",
              "MultinomialNB        0.670026  0.034878\n",
              "GaussianNB           0.646812  0.028274"
            ]
          },
          "metadata": {
            "tags": []
          },
          "execution_count": 118
        }
      ]
    },
    {
      "cell_type": "markdown",
      "metadata": {
        "id": "d12f5518"
      },
      "source": [
        "**WORK IN PROGRESS** - Compare models with better visualizations and tables"
      ],
      "id": "d12f5518"
    },
    {
      "cell_type": "markdown",
      "metadata": {
        "id": "6de6b946"
      },
      "source": [
        "## Improving Model Performance:"
      ],
      "id": "6de6b946"
    },
    {
      "cell_type": "markdown",
      "metadata": {
        "id": "8de0949a"
      },
      "source": [
        "After this we will move on to tune this models and apply feature engineering for better performance.\n",
        "Things to try -\n",
        "\n",
        "\n",
        "1) Target Balancing: Undersampling v/s Oversampling\n",
        "\n",
        "2) Scaling the dataset: Robust v/s MinMax v/s Standard v/s Normalizer\n",
        "\n",
        "3) The current data was already One-hot encoded. We try Label encoding for Decision Trees and Random Forest Classifiers\n",
        "\n",
        "4) Dropping the features with high multi-collinearity\n",
        "\n",
        "5) Try out a feature called 'Effective_Cost' i.e Cost after discounting in place of (i) both Cost and Discount, (ii) Only Cost\n",
        "\n",
        "6) Tuning the hyperparameters\n",
        "\n",
        "7) Trying to combine models (stacking, ensembling etc.)\n",
        "\n",
        "8) Finding optimal combination of the above methods\n",
        "\n",
        "9) Adjusting thresholds to balance precision and recall in order to optimise f1 score\n",
        "\n",
        "We implement these things on the training set and measure performance on the validation set. Only after we find the optimal validation score for a given model, we measure the performance on the test set and we do not re-tune if that performance is not upto mark(to ensure generalisation). We compare the test scores at the end to find out the most suitable model. **The metric to be used is macro f1 score.**"
      ],
      "id": "8de0949a"
    },
    {
      "cell_type": "markdown",
      "metadata": {
        "id": "86461b8d"
      },
      "source": [
        "### (i) Logistic Regression"
      ],
      "id": "86461b8d"
    },
    {
      "cell_type": "markdown",
      "metadata": {
        "id": "04936df4"
      },
      "source": [
        "We look at all the things mentioned above, one at a time and try to imrpove the performance for the model. The current baseline **macro f1 score** for Logistic Regression is **0.623** and in general, it is **0.670**. We measure all the performances using validation set, and keep the test set away until we finalise the tuning, where we perform a K-fold cross validation like above."
      ],
      "id": "04936df4"
    },
    {
      "cell_type": "markdown",
      "metadata": {
        "id": "8a7c7a23"
      },
      "source": [
        "#### 1) Undersampling vs Oversampling"
      ],
      "id": "8a7c7a23"
    },
    {
      "cell_type": "markdown",
      "metadata": {
        "id": "e915f769"
      },
      "source": [
        "We use target balancing only on the reduced training set and not balance the validation set so we can get better generalisations as unseen data may not be balanced."
      ],
      "id": "e915f769"
    },
    {
      "cell_type": "markdown",
      "metadata": {
        "id": "eb7b7e4e"
      },
      "source": [
        "**Under-sampling**"
      ],
      "id": "eb7b7e4e"
    },
    {
      "cell_type": "code",
      "metadata": {
        "id": "1b41c72c",
        "outputId": "c574490d-b4d6-460d-80c2-cdf504b7e839"
      },
      "source": [
        "# Fitting the undersampled data and calculating macro f1 score\n",
        "lr = LogisticRegression(max_iter = 1000)\n",
        "lr.fit(X_red_under, y_red_under)\n",
        "evaluate(lr, X_val, y_val)"
      ],
      "id": "1b41c72c",
      "execution_count": null,
      "outputs": [
        {
          "output_type": "stream",
          "text": [
            "f1 Score: [0.66487359 0.62492474]\n",
            "Precision Score: [0.53785901 0.84942717]\n",
            "Recall Score: [0.87042254 0.49428571]\n"
          ],
          "name": "stdout"
        },
        {
          "output_type": "display_data",
          "data": {
            "image/png": "[encoded data removed]",
            "text/plain": [
              "<Figure size 432x288 with 2 Axes>"
            ]
          },
          "metadata": {
            "tags": []
          }
        },
        {
          "output_type": "stream",
          "text": [
            "Macro f1 Score: 0.6448991660402766\n"
          ],
          "name": "stdout"
        }
      ]
    },
    {
      "cell_type": "markdown",
      "metadata": {
        "id": "4802b2da"
      },
      "source": [
        "Score is 0.644, improved"
      ],
      "id": "4802b2da"
    },
    {
      "cell_type": "markdown",
      "metadata": {
        "id": "068eafef"
      },
      "source": [
        "**Over-Sampling**"
      ],
      "id": "068eafef"
    },
    {
      "cell_type": "code",
      "metadata": {
        "id": "a5b5415e",
        "outputId": "d2b00d84-99c7-483a-c2fa-dcbe9676319e"
      },
      "source": [
        "# Fitting the SMOTE data and calculating macro f1 score\n",
        "lr = LogisticRegression(max_iter = 1000)\n",
        "lr.fit(X_red_smote, y_red_smote)\n",
        "evaluate(lr, X_val, y_val)"
      ],
      "id": "a5b5415e",
      "execution_count": null,
      "outputs": [
        {
          "output_type": "stream",
          "text": [
            "f1 Score: [0.63449088 0.65897858]\n",
            "Precision Score: [0.54499494 0.77821012]\n",
            "Recall Score: [0.75915493 0.57142857]\n"
          ],
          "name": "stdout"
        },
        {
          "output_type": "display_data",
          "data": {
            "image/png": "[encoded data removed]",
            "text/plain": [
              "<Figure size 432x288 with 2 Axes>"
            ]
          },
          "metadata": {
            "tags": []
          }
        },
        {
          "output_type": "stream",
          "text": [
            "Macro f1 Score: 0.6467347300912544\n"
          ],
          "name": "stdout"
        }
      ]
    },
    {
      "cell_type": "markdown",
      "metadata": {
        "id": "78e1e300"
      },
      "source": [
        "Score remains somewhat similar"
      ],
      "id": "78e1e300"
    },
    {
      "cell_type": "markdown",
      "metadata": {
        "id": "16f10a33"
      },
      "source": [
        "It seems that for logistic regression, Undersampling works better. So we move ahead with it."
      ],
      "id": "16f10a33"
    },
    {
      "cell_type": "markdown",
      "metadata": {
        "id": "ab57737a"
      },
      "source": [
        "#### 2) Scaling the dataset: Robust v/s MinMax v/s Standard v/s Normalizer"
      ],
      "id": "ab57737a"
    },
    {
      "cell_type": "markdown",
      "metadata": {
        "id": "a3970b19"
      },
      "source": [
        "We have already scaled the balanced datasets, we just need to evaluate model performance. Current baseline is 0.644"
      ],
      "id": "a3970b19"
    },
    {
      "cell_type": "code",
      "metadata": {
        "id": "1f6378f0",
        "outputId": "b2445257-8815-48de-824c-ad9009f5b74c"
      },
      "source": [
        "# Scaling the undersampled dataset with MinMaxScaler() and calculating macro f1 score\n",
        "lr = LogisticRegression(max_iter = 1000)\n",
        "lr.fit(X_red_under_mms, y_red_under)\n",
        "evaluate(lr, X_val_mms, y_val)"
      ],
      "id": "1f6378f0",
      "execution_count": null,
      "outputs": [
        {
          "output_type": "stream",
          "text": [
            "f1 Score: [0.65938865 0.63033175]\n",
            "Precision Score: [0.53832442 0.8338558 ]\n",
            "Recall Score: [0.85070423 0.50666667]\n"
          ],
          "name": "stdout"
        },
        {
          "output_type": "display_data",
          "data": {
            "image/png": "[encoded data removed]",
            "text/plain": [
              "<Figure size 432x288 with 2 Axes>"
            ]
          },
          "metadata": {
            "tags": []
          }
        },
        {
          "output_type": "stream",
          "text": [
            "Macro f1 Score: 0.644860199921356\n"
          ],
          "name": "stdout"
        }
      ]
    },
    {
      "cell_type": "code",
      "metadata": {
        "id": "4276d8e2",
        "outputId": "babed666-6498-4261-f8f6-2480da95c5bc"
      },
      "source": [
        "# Scaling the undersampled dataset with StandardScaler() and calculating macro f1 score\n",
        "lr = LogisticRegression(max_iter = 1000)\n",
        "lr.fit(X_red_under_std, y_red_under)\n",
        "evaluate(lr, X_val_std, y_val)"
      ],
      "id": "4276d8e2",
      "execution_count": null,
      "outputs": [
        {
          "output_type": "stream",
          "text": [
            "f1 Score: [0.65899123 0.63325472]\n",
            "Precision Score: [0.53949731 0.83126935]\n",
            "Recall Score: [0.84647887 0.51142857]\n"
          ],
          "name": "stdout"
        },
        {
          "output_type": "display_data",
          "data": {
            "image/png": "[encoded data removed]",
            "text/plain": [
              "<Figure size 432x288 with 2 Axes>"
            ]
          },
          "metadata": {
            "tags": []
          }
        },
        {
          "output_type": "stream",
          "text": [
            "Macro f1 Score: 0.6461229725256539\n"
          ],
          "name": "stdout"
        }
      ]
    },
    {
      "cell_type": "code",
      "metadata": {
        "id": "4e9b2a78",
        "outputId": "ccbe3bae-3e23-42a0-b1da-331bf8e2df27"
      },
      "source": [
        "# Scaling the undersampled dataset with RobustScaler() and calculating macro f1 score\n",
        "lr = LogisticRegression(max_iter = 1000)\n",
        "lr.fit(X_red_under_rob, y_red_under)\n",
        "evaluate(lr, X_val_rob, y_val)"
      ],
      "id": "4e9b2a78",
      "execution_count": null,
      "outputs": [
        {
          "output_type": "stream",
          "text": [
            "f1 Score: [0.65935272 0.63406011]\n",
            "Precision Score: [0.53998203 0.83153014]\n",
            "Recall Score: [0.84647887 0.51238095]\n"
          ],
          "name": "stdout"
        },
        {
          "output_type": "display_data",
          "data": {
            "image/png": "[encoded data removed]",
            "text/plain": [
              "<Figure size 432x288 with 2 Axes>"
            ]
          },
          "metadata": {
            "tags": []
          }
        },
        {
          "output_type": "stream",
          "text": [
            "Macro f1 Score: 0.6467064106869889\n"
          ],
          "name": "stdout"
        }
      ]
    },
    {
      "cell_type": "code",
      "metadata": {
        "id": "fc537a2f",
        "outputId": "560e57e5-6af6-44e0-cb39-073f79d38eb4"
      },
      "source": [
        "# Scaling the undersampled dataset with Normalizer() and calculating macro f1 score\n",
        "lr = LogisticRegression(max_iter = 1000)\n",
        "lr.fit(X_red_under_norm, y_red_under)\n",
        "evaluate(lr, X_val_norm, y_val)"
      ],
      "id": "fc537a2f",
      "execution_count": null,
      "outputs": [
        {
          "output_type": "stream",
          "text": [
            "f1 Score: [0.61036036 0.60321101]\n",
            "Precision Score: [0.50844278 0.75792507]\n",
            "Recall Score: [0.76338028 0.50095238]\n"
          ],
          "name": "stdout"
        },
        {
          "output_type": "display_data",
          "data": {
            "image/png": "[encoded data removed]",
            "text/plain": [
              "<Figure size 432x288 with 2 Axes>"
            ]
          },
          "metadata": {
            "tags": []
          }
        },
        {
          "output_type": "stream",
          "text": [
            "Macro f1 Score: 0.6067856847673361\n"
          ],
          "name": "stdout"
        }
      ]
    },
    {
      "cell_type": "markdown",
      "metadata": {
        "id": "975bcc8f"
      },
      "source": [
        "**Custom Scaling** (MORE EXPERIMENTATION REQUIRED)"
      ],
      "id": "975bcc8f"
    },
    {
      "cell_type": "code",
      "metadata": {
        "id": "87d71dd8"
      },
      "source": [
        "# Scaling certain features specifically depending upon their distribution\n",
        "stand = preprocessing.StandardScaler()\n",
        "norm = preprocessing.MinMaxScaler()\n",
        "robust = preprocessing.RobustScaler()\n",
        "\n",
        "X_red_under_cust = X_red_under.copy(deep = True)\n",
        "X_val_cust = X_val.copy(deep = True)\n",
        "X_train_under_cust = X_train_under.copy(deep = True)\n",
        "X_test_cust = X_test.copy(deep = True)\n",
        "\n",
        "X_red_under_cust[['Cost_of_the_Product']] = stand.fit_transform(X_red_under[['Cost_of_the_Product']])\n",
        "X_val_cust[['Cost_of_the_Product']] = stand.transform(X_val[['Cost_of_the_Product']])\n",
        "X_train_under_cust[['Cost_of_the_Product']] = stand.fit_transform(X_train_under[['Cost_of_the_Product']])\n",
        "X_test_cust[['Cost_of_the_Product']] = stand.transform(X_test[['Cost_of_the_Product']])\n",
        "\n",
        "cols = ['Customer_rating','Discount_offered','Weight_in_gms', 'Product_importance', 'Customer_care_calls', 'Prior_purchases']\n",
        "\n",
        "X_red_under_cust[cols] = robust.fit_transform(X_red_under[cols])\n",
        "X_val_cust[cols] = robust.transform(X_val[cols])\n",
        "X_train_under_cust[cols] = robust.fit_transform(X_train_under[cols])\n",
        "X_test_cust[cols] = robust.transform(X_test[cols])\n",
        "\n",
        "X_red_under_cust[['Weight_in_gms']] = norm.fit_transform(X_red_under[['Weight_in_gms']])\n",
        "X_val_cust[['Weight_in_gms']] = norm.transform(X_val[['Weight_in_gms']])\n",
        "X_train_under_cust[['Weight_in_gms']] = norm.fit_transform(X_train_under[['Weight_in_gms']])\n",
        "X_test_cust[['Weight_in_gms']] = norm.transform(X_test[['Weight_in_gms']])\n"
      ],
      "id": "87d71dd8",
      "execution_count": null,
      "outputs": []
    },
    {
      "cell_type": "code",
      "metadata": {
        "id": "9d4becbc",
        "outputId": "9d5e894e-6607-473c-e5b2-74706b36bc43"
      },
      "source": [
        "# Custom Scaling the undersampled dataset and calculating macro f1 score\n",
        "lr = LogisticRegression(max_iter = 1000)\n",
        "lr.fit(X_red_under_cust, y_red_under)\n",
        "evaluate(lr, X_val_cust, y_val)"
      ],
      "id": "9d4becbc",
      "execution_count": null,
      "outputs": [
        {
          "output_type": "stream",
          "text": [
            "f1 Score: [0.66081229 0.6360424 ]\n",
            "Precision Score: [0.54136691 0.83333333]\n",
            "Recall Score: [0.84788732 0.51428571]\n"
          ],
          "name": "stdout"
        },
        {
          "output_type": "display_data",
          "data": {
            "image/png": "[encoded data removed]",
            "text/plain": [
              "<Figure size 432x288 with 2 Axes>"
            ]
          },
          "metadata": {
            "tags": []
          }
        },
        {
          "output_type": "stream",
          "text": [
            "Macro f1 Score: 0.6484273485045362\n"
          ],
          "name": "stdout"
        }
      ]
    },
    {
      "cell_type": "markdown",
      "metadata": {
        "id": "061ce40a"
      },
      "source": [
        "The custom scaler works the best, 0.648"
      ],
      "id": "061ce40a"
    },
    {
      "cell_type": "markdown",
      "metadata": {
        "id": "0584d08c"
      },
      "source": [
        "#### 3) Hypertuning the parameters:"
      ],
      "id": "0584d08c"
    },
    {
      "cell_type": "markdown",
      "metadata": {
        "id": "61dafa5a"
      },
      "source": [
        "X------------------**WORK IN PROGRESS**----------------X"
      ],
      "id": "61dafa5a"
    },
    {
      "cell_type": "code",
      "metadata": {
        "id": "fdb3f7e4",
        "outputId": "8133aa60-ea47-4c00-ce1c-c60e0c4ff23b"
      },
      "source": [
        "#Calculating for finding Best Hyperparameter C\n",
        "f1_red=[]\n",
        "f1_val=[]\n",
        "max_f1_score=0\n",
        "C_best=0\n",
        "tuned_parameters =[10**-4, 10**-2, 10**0, 10**1, 10**2, 10**3, 10**4, 10**6]\n",
        "#tuned_parameters =[ 10**1, 10**2, 10**3]\n",
        "# ned_parameters=[0.01, 0.05, 0.1]\n",
        "\n",
        "for i in tuned_parameters:\n",
        "    lr=LogisticRegression(C=i)\n",
        "    # fitting the model on train data\n",
        "    lr.fit(X_red_under_cust,y_red_under)\n",
        "     #predict the response on the validation \n",
        "    pred_val = lr.predict(X_val_cust)\n",
        "    #pred_val=(pred_val)[:,1]\n",
        "    f1_val.append(f1_score(y_val,pred_val, average = 'macro'))\n",
        "    \n",
        "     # predict the response on the reduced training\n",
        "    pred_red = lr.predict(X_red_under_cust)\n",
        "    #pred_red = (pred_red)[:,1]\n",
        "    f1_red.append(f1_score(y_red_under,pred_red, average = 'macro'))\n",
        "    #finding best c using max value of auc score\n",
        "    if f1_score(y_val,pred_val, average = 'macro')>max_f1_score:\n",
        "        C_best=i\n",
        "        max_f1_score = f1_score(y_val,pred_val, average = 'macro')\n",
        "        \n",
        "print(C_best)        \n",
        "print(max_f1_score)\n",
        "C1=C_best\n",
        "auc1=max_f1_score"
      ],
      "id": "fdb3f7e4",
      "execution_count": null,
      "outputs": [
        {
          "output_type": "stream",
          "text": [
            "1\n",
            "0.6484273485045362\n"
          ],
          "name": "stdout"
        }
      ]
    },
    {
      "cell_type": "code",
      "metadata": {
        "id": "03656823",
        "outputId": "fd3c4d06-653f-46b3-ec34-0e6c71f6eb70"
      },
      "source": [
        "# plotting curve between C vs Train and Cross validation Data\n",
        "plt.plot(np.log(tuned_parameters),f1_val ,label=\"f1 val\")\n",
        "plt.plot(np.log(tuned_parameters),f1_red,label=\"f1 reduced set\")\n",
        "plt.legend()\n",
        "plt.title('f1 Score vs log(hyperparameters)')\n",
        "plt.xlabel('Hyperparameters')\n",
        "plt.ylabel('f1')\n",
        "plt.show()"
      ],
      "id": "03656823",
      "execution_count": null,
      "outputs": [
        {
          "output_type": "display_data",
          "data": {
            "image/png": "[encoded data removed]",
            "text/plain": [
              "<Figure size 432x288 with 1 Axes>"
            ]
          },
          "metadata": {
            "tags": []
          }
        }
      ]
    },
    {
      "cell_type": "code",
      "metadata": {
        "id": "d60ded19",
        "outputId": "55d0ed51-9a52-4244-f295-0f56777eb860"
      },
      "source": [
        "lr = LogisticRegression(C = C_best, max_iter = 1000)\n",
        "\n",
        "#Setting the range for class weights\n",
        "weights = np.linspace(0.0,0.99,200)\n",
        "\n",
        "#Creating a dictionary grid for grid search\n",
        "param_grid = {'class_weight': [{0:x, 1:1.0-x} for x in weights]}\n",
        "\n",
        "#Fitting grid search to the train data with 5 folds\n",
        "gridsearch = GridSearchCV(estimator= lr, \n",
        "                          param_grid= param_grid,\n",
        "                          cv=StratifiedKFold(random_state=42,shuffle=True), \n",
        "                          n_jobs=-1, \n",
        "                          scoring='f1_macro', \n",
        "                          verbose=2).fit(X_train_under_cust, y_train_under)\n",
        "\n",
        "#Ploting the score for different values of weight\n",
        "sns.set_style('whitegrid')\n",
        "plt.figure(figsize=(12,8))\n",
        "weigh_data = pd.DataFrame({ 'score': gridsearch.cv_results_['mean_test_score'], 'weight': (1- weights)})\n",
        "sns.lineplot(data = weigh_data, x = 'weight', y = 'score')\n",
        "plt.xlabel('Weight for class 1')\n",
        "plt.ylabel('F1 score')\n",
        "plt.xticks([round(i/10,1) for i in range(0,11,1)])\n",
        "plt.title('Scoring for different class weights', fontsize=24)"
      ],
      "id": "d60ded19",
      "execution_count": null,
      "outputs": [
        {
          "output_type": "stream",
          "text": [
            "Fitting 5 folds for each of 200 candidates, totalling 1000 fits\n"
          ],
          "name": "stdout"
        },
        {
          "output_type": "execute_result",
          "data": {
            "text/plain": [
              "Text(0.5, 1.0, 'Scoring for different class weights')"
            ]
          },
          "metadata": {
            "tags": []
          },
          "execution_count": 129
        },
        {
          "output_type": "display_data",
          "data": {
            "image/png": "[encoded data removed]",
            "text/plain": [
              "<Figure size 864x576 with 1 Axes>"
            ]
          },
          "metadata": {
            "tags": []
          }
        }
      ]
    },
    {
      "cell_type": "code",
      "metadata": {
        "id": "4ac112e4"
      },
      "source": [
        "max = weigh_data['score'].max()\n",
        "w = weigh_data['weight'][weigh_data['score'] == max]"
      ],
      "id": "4ac112e4",
      "execution_count": null,
      "outputs": []
    },
    {
      "cell_type": "code",
      "metadata": {
        "id": "64b514ac",
        "outputId": "ed669904-a434-482e-efaa-495e2e839782"
      },
      "source": [
        "lr = LogisticRegression(C = C_best, class_weight = {0:(1-w), 1:w})\n",
        "lr.fit(X_red_under_cust, y_red_under)\n",
        "evaluate(lr, X_val_cust, y_val)"
      ],
      "id": "64b514ac",
      "execution_count": null,
      "outputs": [
        {
          "output_type": "stream",
          "text": [
            "f1 Score: [0.68903355 0.59225213]\n",
            "Precision Score: [0.53457653 0.95348837]\n",
            "Recall Score: [0.96901408 0.42952381]\n"
          ],
          "name": "stdout"
        },
        {
          "output_type": "display_data",
          "data": {
            "image/png": "[encoded data removed]",
            "text/plain": [
              "<Figure size 432x288 with 2 Axes>"
            ]
          },
          "metadata": {
            "tags": []
          }
        },
        {
          "output_type": "stream",
          "text": [
            "Macro f1 Score: 0.6406428421358237\n"
          ],
          "name": "stdout"
        }
      ]
    },
    {
      "cell_type": "code",
      "metadata": {
        "id": "97e144ff",
        "outputId": "2b9ff20d-3615-413f-c942-11b87d5f547e"
      },
      "source": [
        "lr = LogisticRegression(C = C_best)\n",
        "lr.fit(X_red_under_cust, y_red_under)\n",
        "evaluate(lr, X_val_cust, y_val)"
      ],
      "id": "97e144ff",
      "execution_count": null,
      "outputs": [
        {
          "output_type": "stream",
          "text": [
            "f1 Score: [0.66081229 0.6360424 ]\n",
            "Precision Score: [0.54136691 0.83333333]\n",
            "Recall Score: [0.84788732 0.51428571]\n"
          ],
          "name": "stdout"
        },
        {
          "output_type": "display_data",
          "data": {
            "image/png": "[encoded data removed]",
            "text/plain": [
              "<Figure size 432x288 with 2 Axes>"
            ]
          },
          "metadata": {
            "tags": []
          }
        },
        {
          "output_type": "stream",
          "text": [
            "Macro f1 Score: 0.6484273485045362\n"
          ],
          "name": "stdout"
        }
      ]
    },
    {
      "cell_type": "markdown",
      "metadata": {
        "id": "56133b36"
      },
      "source": [
        "discard class weights"
      ],
      "id": "56133b36"
    },
    {
      "cell_type": "code",
      "metadata": {
        "id": "f682f55b",
        "scrolled": false,
        "outputId": "1f1c4f54-c248-40bc-e15e-95bdd2b92be9"
      },
      "source": [
        "# Array for finding the optimal threshold\n",
        "y_pred = lr.predict_proba(X_val_cust)\n",
        "y_pred = y_pred[:, 1]\n",
        "thresholds = np.arange(0.0, 1.0, 0.0001)\n",
        "fscore = np.zeros(shape=(len(thresholds)))\n",
        "print('Length of sequence: {}'.format(len(thresholds)))\n",
        "\n",
        "# Fit the model\n",
        "for index, elem in enumerate(thresholds):\n",
        "    # Corrected probabilities\n",
        "    y_pred_prob = (y_pred > elem).astype('int')\n",
        "    # Calculate the f-score\n",
        "    fscore[index] = f1_score(y_val, y_pred_prob, average = 'macro')\n",
        "\n",
        "# Find the optimal threshold\n",
        "index = np.argmax(fscore)\n",
        "thresholdOpt = round(thresholds[index], ndigits = 4)\n",
        "fscoreOpt = round(fscore[index], ndigits = 4)\n",
        "print('Best Threshold: {} with F-Score: {}'.format(thresholdOpt, fscoreOpt))\n",
        "\n",
        "# Plot the threshold tuning\n",
        "df_threshold_tuning = pd.DataFrame({'F-score':fscore,\n",
        "                                    'Threshold':thresholds})\n",
        "df_threshold_tuning.head()\n",
        "\n",
        "plotnine.options.figure_size = (8, 4.8)\n",
        "(\n",
        "    ggplot(data = df_threshold_tuning)+\n",
        "    geom_point(aes(x = 'Threshold',\n",
        "                   y = 'F-score'),\n",
        "               size = 0.4)+\n",
        "    # Best threshold\n",
        "    geom_point(aes(x = thresholdOpt,\n",
        "                   y = fscoreOpt),\n",
        "               color = '#981220',\n",
        "               size = 4)+\n",
        "    geom_line(aes(x = 'Threshold',\n",
        "                   y = 'F-score'))+\n",
        "    # Annotate the text\n",
        "    geom_text(aes(x = thresholdOpt,\n",
        "                  y = fscoreOpt),\n",
        "              label = 'Optimal threshold \\n for class: {}'.format(thresholdOpt),\n",
        "              nudge_x = 0,\n",
        "              nudge_y = -0.10,\n",
        "              size = 10,\n",
        "              fontstyle = 'italic')+\n",
        "    labs(title = 'Threshold Tuning Curve')+\n",
        "    xlab('Threshold')+\n",
        "    ylab('F-score')+\n",
        "    theme_minimal()\n",
        ")"
      ],
      "id": "f682f55b",
      "execution_count": null,
      "outputs": [
        {
          "output_type": "stream",
          "text": [
            "Length of sequence: 10000\n",
            "Best Threshold: 0.506 with F-Score: 0.6504\n"
          ],
          "name": "stdout"
        },
        {
          "output_type": "display_data",
          "data": {
            "image/png": "[encoded data removed]",
            "text/plain": [
              "<Figure size 800x480 with 1 Axes>"
            ]
          },
          "metadata": {
            "tags": []
          }
        },
        {
          "output_type": "execute_result",
          "data": {
            "text/plain": [
              "<ggplot: (150662709288)>"
            ]
          },
          "metadata": {
            "tags": []
          },
          "execution_count": 133
        }
      ]
    },
    {
      "cell_type": "code",
      "metadata": {
        "id": "08e7524c",
        "outputId": "63031975-8fd9-4631-a4bd-7d6953f9ad0d"
      },
      "source": [
        "# training on complete train set and evaluating on test\n",
        "lr = LogisticRegression(C = C_best)\n",
        "lr.fit(X_train_under, y_train_under)\n",
        "y_pred = lr.predict_proba(X_test)\n",
        "y_pred = y_pred[:, 1]\n",
        "y_pred_prob = (y_pred > 0.506).astype('int')\n",
        "f1_score(y_test, y_pred_prob, average = 'macro')"
      ],
      "id": "08e7524c",
      "execution_count": null,
      "outputs": [
        {
          "output_type": "execute_result",
          "data": {
            "text/plain": [
              "0.6497233610635673"
            ]
          },
          "metadata": {
            "tags": []
          },
          "execution_count": 134
        }
      ]
    },
    {
      "cell_type": "markdown",
      "metadata": {
        "id": "d7be3cd1"
      },
      "source": [
        "Things left in logistic- feature engineering and using subsets of features.\n",
        "Currently Logistic imrpoved from 0.623 to 0.650"
      ],
      "id": "d7be3cd1"
    },
    {
      "cell_type": "markdown",
      "metadata": {
        "id": "aae4934b"
      },
      "source": [
        "### Some other Model:"
      ],
      "id": "aae4934b"
    },
    {
      "cell_type": "code",
      "metadata": {
        "colab": {
          "base_uri": "https://localhost:8080/",
          "height": 396
        },
        "id": "j8ZePPrcAQJW",
        "outputId": "cab6e629-142a-4ed1-c647-9909204f5fce"
      },
      "source": [
        "from sklearn import svm\n",
        "from sklearn.pipeline import make_pipeline\n",
        "from sklearn.preprocessing import MinMaxScaler\n",
        "from sklearn.model_selection import GridSearchCV\n",
        "\n",
        "svmmodel= svm.SVC(kernel='poly', degree=5)\n",
        "svmmodel.fit(X_train_under, y_train_under)\n",
        "print(svmmodel.score(X_test, y_test))\n",
        "print(evaluate(svmmodel, X_test, y_test))"
      ],
      "id": "j8ZePPrcAQJW",
      "execution_count": 44,
      "outputs": [
        {
          "output_type": "stream",
          "text": [
            "0.6627272727272727\n",
            "f1 Score: [0.54921021 0.73057371]\n",
            "Precision Score: [0.59552042 0.6981263 ]\n",
            "Recall Score: [0.50958286 0.76618431]\n"
          ],
          "name": "stdout"
        },
        {
          "output_type": "display_data",
          "data": {
            "image/png": "[encoded data removed]",
            "text/plain": [
              "<Figure size 432x288 with 2 Axes>"
            ]
          },
          "metadata": {
            "tags": [],
            "needs_background": "light"
          }
        },
        {
          "output_type": "stream",
          "text": [
            "Macro f1 Score: 0.6398919587636144\n",
            "None\n"
          ],
          "name": "stdout"
        }
      ]
    },
    {
      "cell_type": "code",
      "metadata": {
        "colab": {
          "base_uri": "https://localhost:8080/"
        },
        "id": "WP7whrxeXYhX",
        "outputId": "5c20c4bd-2f19-4bef-a920-e61b385aaad3"
      },
      "source": [
        "from sklearn.ensemble import AdaBoostClassifier\n",
        "\n",
        "adaboost = AdaBoostClassifier(n_estimators=1000)\n",
        "scores = cross_val_score(adaboost, X_train_under, y_train_under, cv=5)\n",
        "scores.mean()"
      ],
      "id": "WP7whrxeXYhX",
      "execution_count": 45,
      "outputs": [
        {
          "output_type": "execute_result",
          "data": {
            "text/plain": [
              "0.7173857805040249"
            ]
          },
          "metadata": {
            "tags": []
          },
          "execution_count": 45
        }
      ]
    },
    {
      "cell_type": "code",
      "metadata": {
        "colab": {
          "base_uri": "https://localhost:8080/",
          "height": 379
        },
        "id": "Yx5XBW0fOZUo",
        "outputId": "cb721696-d493-446d-b2ab-8c3549925991"
      },
      "source": [
        "adaboost.fit(X_train_under, y_train_under)\n",
        "print(adaboost.score(X_test, y_test), evaluate(adaboost, X_test, y_test))"
      ],
      "id": "Yx5XBW0fOZUo",
      "execution_count": 46,
      "outputs": [
        {
          "output_type": "stream",
          "text": [
            "f1 Score: [0.70114943 0.6293279 ]\n",
            "Precision Score: [0.55132343 0.94930876]\n",
            "Recall Score: [0.96279594 0.47067784]\n"
          ],
          "name": "stdout"
        },
        {
          "output_type": "display_data",
          "data": {
            "image/png": "[encoded data removed]",
            "text/plain": [
              "<Figure size 432x288 with 2 Axes>"
            ]
          },
          "metadata": {
            "tags": [],
            "needs_background": "light"
          }
        },
        {
          "output_type": "stream",
          "text": [
            "Macro f1 Score: 0.665238663763841\n",
            "0.6690909090909091 None\n"
          ],
          "name": "stdout"
        }
      ]
    },
    {
      "cell_type": "code",
      "metadata": {
        "id": "FHOgjJd6YCjI"
      },
      "source": [
        "from sklearn.linear_model import LogisticRegression\n",
        "from sklearn.naive_bayes import GaussianNB\n",
        "from sklearn.naive_bayes import MultinomialNB\n",
        "from sklearn.neighbors import KNeighborsClassifier\n",
        "from sklearn.tree import DecisionTreeClassifier\n",
        "from sklearn.ensemble import RandomForestClassifier\n",
        "from sklearn.ensemble import VotingClassifier\n",
        "\n",
        "clf1= KNeighborsClassifier(n_neighbors=7)\n",
        "clf2= DecisionTreeClassifier(random_state = 42)\n",
        "clf3= LogisticRegression(max_iter=10000)\n",
        "clf4= GaussianNB()\n",
        "clf5= MultinomialNB()\n",
        "clf6= RandomForestClassifier(n_estimators=50, random_state=1)\n",
        "clf7 = svm.SVC(kernel='rbf')\n",
        "clf8=BernoulliNB()\n",
        "\n",
        "models_list=[('rf', clf6), ('gnb', clf4), ('tree', clf2),('lr', clf3), ('MNB', clf5),('SVM', clf7),('BNB', clf8)]\n",
        "eclf = VotingClassifier(estimators=[('lr', clf3), ('rf', clf6), ('gnb', clf4), ('KNN', clf1), ('tree', clf2), ('MNB', clf5), ('SVM', clf7)],\n",
        "                        voting='hard')\n",
        "\n",
        "# for clf, label in zip([clf1, clf2, clf3, clf4, clf5, clf6, clf7, eclf], ['Logistic Regression', 'Random Forest', 'naive Bayes', 'KNN', 'tree', 'MNB', 'SVM', 'Ensemble']):\n",
        "#   scores = cross_val_score(clf, X_train, y_train, scoring='accuracy', cv=5)\n",
        "#   print(\"Accuracy: %0.2f (+/- %0.2f) [%s]\" % (scores.mean(), scores.std(), label))"
      ],
      "id": "FHOgjJd6YCjI",
      "execution_count": 47,
      "outputs": []
    },
    {
      "cell_type": "code",
      "metadata": {
        "colab": {
          "base_uri": "https://localhost:8080/",
          "height": 379
        },
        "id": "h0etlfns-xb3",
        "outputId": "8487c82b-1be0-4767-928b-260de0b4a15e"
      },
      "source": [
        "from sklearn.ensemble import StackingClassifier\n",
        "\n",
        "stkmodel= StackingClassifier(estimators= models_list, final_estimator=KNeighborsClassifier(n_neighbors=7))\n",
        "stkmodel.fit(X_train_under, y_train_under)\n",
        "print(stkmodel.score(X_test, y_test), evaluate(stkmodel, X_test, y_test))"
      ],
      "id": "h0etlfns-xb3",
      "execution_count": 48,
      "outputs": [
        {
          "output_type": "stream",
          "text": [
            "f1 Score: [0.65488372 0.67022222]\n",
            "Precision Score: [0.55740301 0.80469584]\n",
            "Recall Score: [0.79368658 0.57425743]\n"
          ],
          "name": "stdout"
        },
        {
          "output_type": "display_data",
          "data": {
            "image/png": "[encoded data removed]",
            "text/plain": [
              "<Figure size 432x288 with 2 Axes>"
            ]
          },
          "metadata": {
            "tags": [],
            "needs_background": "light"
          }
        },
        {
          "output_type": "stream",
          "text": [
            "Macro f1 Score: 0.6625529715762273\n",
            "0.6627272727272727 None\n"
          ],
          "name": "stdout"
        }
      ]
    },
    {
      "cell_type": "code",
      "metadata": {
        "colab": {
          "base_uri": "https://localhost:8080/"
        },
        "id": "87hpvVsTPt6p",
        "outputId": "bcad5a10-add6-4a07-e053-7771be51e6d4"
      },
      "source": [
        "scores = cross_val_score(stkmodel, X_train_under, y_train_under, cv=5)\n",
        "scores.mean()"
      ],
      "id": "87hpvVsTPt6p",
      "execution_count": 49,
      "outputs": [
        {
          "output_type": "execute_result",
          "data": {
            "text/plain": [
              "0.6914643321521802"
            ]
          },
          "metadata": {
            "tags": []
          },
          "execution_count": 49
        }
      ]
    },
    {
      "cell_type": "code",
      "metadata": {
        "colab": {
          "base_uri": "https://localhost:8080/",
          "height": 379
        },
        "id": "ugSnZ6r4a1BT",
        "outputId": "7063d786-161a-48ea-d01d-608986299ca3"
      },
      "source": [
        "eclf.fit(X_train, y_train)\n",
        "print(eclf.score(X_test, y_test), evaluate(eclf, X_test, y_test))"
      ],
      "id": "ugSnZ6r4a1BT",
      "execution_count": 50,
      "outputs": [
        {
          "output_type": "stream",
          "text": [
            "f1 Score: [0.66820489 0.67801164]\n",
            "Precision Score: [0.565625   0.82282609]\n",
            "Recall Score: [0.8162345  0.57654227]\n"
          ],
          "name": "stdout"
        },
        {
          "output_type": "display_data",
          "data": {
            "image/png": "[encoded data removed]",
            "text/plain": [
              "<Figure size 432x288 with 2 Axes>"
            ]
          },
          "metadata": {
            "tags": [],
            "needs_background": "light"
          }
        },
        {
          "output_type": "stream",
          "text": [
            "Macro f1 Score: 0.673108267542015\n",
            "0.6731818181818182 None\n"
          ],
          "name": "stdout"
        }
      ]
    },
    {
      "cell_type": "code",
      "metadata": {
        "id": "EKRkS9GwVAb8",
        "colab": {
          "base_uri": "https://localhost:8080/",
          "height": 396
        },
        "outputId": "3bf532c2-8872-4fc7-d58b-6e81d32f1880"
      },
      "source": [
        "svmmodel= svm.SVC(kernel='poly', degree=4)\n",
        "svmmodel.fit(X_train_under, y_train_under)\n",
        "print(svmmodel.score(X_test, y_test))\n",
        "print(evaluate(svmmodel, X_test, y_test))"
      ],
      "id": "EKRkS9GwVAb8",
      "execution_count": 51,
      "outputs": [
        {
          "output_type": "stream",
          "text": [
            "0.6718181818181819\n",
            "f1 Score: [0.58505747 0.72857143]\n",
            "Precision Score: [0.59671747 0.71937639]\n",
            "Recall Score: [0.57384442 0.73800457]\n"
          ],
          "name": "stdout"
        },
        {
          "output_type": "display_data",
          "data": {
            "image/png": "[encoded data removed]",
            "text/plain": [
              "<Figure size 432x288 with 2 Axes>"
            ]
          },
          "metadata": {
            "tags": [],
            "needs_background": "light"
          }
        },
        {
          "output_type": "stream",
          "text": [
            "Macro f1 Score: 0.6568144499178982\n",
            "None\n"
          ],
          "name": "stdout"
        }
      ]
    },
    {
      "cell_type": "code",
      "metadata": {
        "colab": {
          "base_uri": "https://localhost:8080/"
        },
        "id": "Lair2sGbREFJ",
        "outputId": "c7d440d7-485c-45e7-9da1-5ba9111f3b80"
      },
      "source": [
        "scores = cross_val_score(svmmodel, X_train_under, y_train_under, cv=5)\n",
        "scores.mean()"
      ],
      "id": "Lair2sGbREFJ",
      "execution_count": 87,
      "outputs": [
        {
          "output_type": "execute_result",
          "data": {
            "text/plain": [
              "0.6131273759541037"
            ]
          },
          "metadata": {
            "tags": []
          },
          "execution_count": 87
        }
      ]
    },
    {
      "cell_type": "code",
      "metadata": {
        "colab": {
          "base_uri": "https://localhost:8080/",
          "height": 396
        },
        "id": "jhRrLkIGAzD5",
        "outputId": "a3474305-ee50-4fa7-881c-9c05ed602791"
      },
      "source": [
        "svmpipe = make_pipeline(MinMaxScaler(), svm.SVC())\n",
        "svmpipe.fit(X_train_under, y_train_under)\n",
        "print(svmpipe.score(X_test, y_test))\n",
        "print(evaluate(svmpipe, X_test, y_test))"
      ],
      "id": "jhRrLkIGAzD5",
      "execution_count": 52,
      "outputs": [
        {
          "output_type": "stream",
          "text": [
            "0.6522727272727272\n",
            "f1 Score: [0.69436676 0.59673168]\n",
            "Precision Score: [0.53774752 0.96917808]\n",
            "Recall Score: [0.97970688 0.43107388]\n"
          ],
          "name": "stdout"
        },
        {
          "output_type": "display_data",
          "data": {
            "image/png": "[encoded data removed]",
            "text/plain": [
              "<Figure size 432x288 with 2 Axes>"
            ]
          },
          "metadata": {
            "tags": [],
            "needs_background": "light"
          }
        },
        {
          "output_type": "stream",
          "text": [
            "Macro f1 Score: 0.6455492207453322\n",
            "None\n"
          ],
          "name": "stdout"
        }
      ]
    },
    {
      "cell_type": "code",
      "metadata": {
        "id": "d0TZDKCY-5aq"
      },
      "source": [
        "import xgboost as xgb\n",
        "from sklearn.model_selection import GridSearchCV\n",
        "D_train = xgb.DMatrix(X_train_under, label=y_train_under)\n",
        "D_test = xgb.DMatrix(X_test.values, label=y_test.values)\n",
        "#D_train_smote = xgb.DMatrix(X_red_smote, label=y_red_smote)\n",
        "#D_test_smote = xgb.DMatrix(X_val.values, label=y_val.values)\n"
      ],
      "id": "d0TZDKCY-5aq",
      "execution_count": 53,
      "outputs": []
    },
    {
      "cell_type": "code",
      "metadata": {
        "id": "KCq6TEXW_VQY"
      },
      "source": [
        "param = {\n",
        "    'booster':'dart',\n",
        "    'eta': 0.005, \n",
        "    'max_depth': 7,  \n",
        "    'num_class': 2,\n",
        "    'n_estimators':2000,\n",
        "    'objective':'multi:softprob',\n",
        "    'sample_type':'weighted',\n",
        "    'normalize_type':'forest',\n",
        "    'tree_method':'exact'} \n",
        "\n",
        "\n",
        "steps = 200  # The number of training iterations"
      ],
      "id": "KCq6TEXW_VQY",
      "execution_count": 54,
      "outputs": []
    },
    {
      "cell_type": "code",
      "metadata": {
        "id": "Vugf9qEx_ZEH"
      },
      "source": [
        "xgbmodel = xgb.train(param, D_train, steps)"
      ],
      "id": "Vugf9qEx_ZEH",
      "execution_count": 55,
      "outputs": []
    },
    {
      "cell_type": "code",
      "metadata": {
        "colab": {
          "base_uri": "https://localhost:8080/"
        },
        "id": "dIwUOHOo_a80",
        "outputId": "ebe7be01-fb48-428e-c910-fba71c359842"
      },
      "source": [
        "preds = xgbmodel.predict(D_test)\n",
        "best_preds = np.asarray([np.argmax(line) for line in preds])\n",
        "\n",
        "print(\"Precision = {}\".format(precision_score(y_test, best_preds, average='macro')))\n",
        "print(\"Recall = {}\".format(recall_score(y_test, best_preds, average='macro')))\n",
        "print(\"F1 = {}\".format(f1_score(y_test, best_preds, average='macro')))\n",
        "print(\"Accuracy = {}\".format(accuracy_score(y_test, best_preds,normalize=True)))"
      ],
      "id": "dIwUOHOo_a80",
      "execution_count": 56,
      "outputs": [
        {
          "output_type": "stream",
          "text": [
            "Precision = 0.7659428571428571\n",
            "Recall = 0.7247814973154587\n",
            "F1 = 0.6698632422313489\n",
            "Accuracy = 0.6745454545454546\n"
          ],
          "name": "stdout"
        }
      ]
    },
    {
      "cell_type": "markdown",
      "metadata": {
        "id": "S2UKL8yybbCw"
      },
      "source": [
        "###DL models"
      ],
      "id": "S2UKL8yybbCw"
    },
    {
      "cell_type": "code",
      "metadata": {
        "id": "8_sVMrpzbexr"
      },
      "source": [
        "import tensorflow as tf\n",
        "\n",
        "DLmodel= tf.keras.Sequential()\n",
        "\n",
        "DLmodel.add(tf.keras.layers.Dense(64, activation='relu'))\n",
        "DLmodel.add(tf.keras.layers.Dense(128, activation='relu'))\n",
        "DLmodel.add(tf.keras.layers.Dense(256, activation='relu'))\n",
        "DLmodel.add(tf.keras.layers.Dense(512, activation='relu'))\n",
        "DLmodel.add(tf.keras.layers.Dense(1024, activation='relu'))\n",
        "DLmodel.add(tf.keras.layers.Dense(512, activation='relu'))\n",
        "DLmodel.add(tf.keras.layers.Dense(256, activation='relu'))\n",
        "DLmodel.add(tf.keras.layers.Dense(128, activation='relu'))\n",
        "DLmodel.add(tf.keras.layers.Dense(64, activation='relu'))\n",
        "DLmodel.add(tf.keras.layers.Dense(2, activation='sigmoid'))\n",
        "\n",
        "DLmodel.compile(optimizer=tf.keras.optimizers.Adam(),\n",
        "    loss=\"categorical_crossentropy\",\n",
        "    metrics=[\"accuracy\"])"
      ],
      "id": "8_sVMrpzbexr",
      "execution_count": null,
      "outputs": []
    },
    {
      "cell_type": "code",
      "metadata": {
        "id": "c36Nw32gcku3"
      },
      "source": [
        "y_train=tf.keras.utils.to_categorical(\n",
        "    y_train, num_classes=2, dtype='float32'\n",
        ")"
      ],
      "id": "c36Nw32gcku3",
      "execution_count": null,
      "outputs": []
    },
    {
      "cell_type": "code",
      "metadata": {
        "colab": {
          "base_uri": "https://localhost:8080/"
        },
        "id": "7pSzxZawcKH2",
        "outputId": "7967f9b0-37e5-450c-f0ab-0b2258b2b238"
      },
      "source": [
        "DLmodel.fit(X_train, y_train, epochs=10)"
      ],
      "id": "7pSzxZawcKH2",
      "execution_count": null,
      "outputs": [
        {
          "output_type": "stream",
          "text": [
            "Epoch 1/10\n",
            "275/275 [==============================] - 8s 22ms/step - loss: 1.7212 - accuracy: 0.5979\n",
            "Epoch 2/10\n",
            "275/275 [==============================] - 6s 22ms/step - loss: 0.6491 - accuracy: 0.6240\n",
            "Epoch 3/10\n",
            "275/275 [==============================] - 6s 22ms/step - loss: 0.6258 - accuracy: 0.6326\n",
            "Epoch 4/10\n",
            "275/275 [==============================] - 6s 22ms/step - loss: 0.6097 - accuracy: 0.6381\n",
            "Epoch 5/10\n",
            "275/275 [==============================] - 6s 22ms/step - loss: 0.6171 - accuracy: 0.6300\n",
            "Epoch 6/10\n",
            "275/275 [==============================] - 6s 22ms/step - loss: 0.5971 - accuracy: 0.6334\n",
            "Epoch 7/10\n",
            "275/275 [==============================] - 6s 22ms/step - loss: 0.5992 - accuracy: 0.6420\n",
            "Epoch 8/10\n",
            "275/275 [==============================] - 6s 22ms/step - loss: 0.5694 - accuracy: 0.6464\n",
            "Epoch 9/10\n",
            "275/275 [==============================] - 6s 23ms/step - loss: 0.5949 - accuracy: 0.6417\n",
            "Epoch 10/10\n",
            "275/275 [==============================] - 6s 22ms/step - loss: 0.5772 - accuracy: 0.6468\n"
          ],
          "name": "stdout"
        },
        {
          "output_type": "execute_result",
          "data": {
            "text/plain": [
              "<tensorflow.python.keras.callbacks.History at 0x7ff1f12abf50>"
            ]
          },
          "metadata": {
            "tags": []
          },
          "execution_count": 54
        }
      ]
    },
    {
      "cell_type": "code",
      "metadata": {
        "id": "IWUPTlKfcRJv",
        "colab": {
          "base_uri": "https://localhost:8080/"
        },
        "outputId": "d097b1ba-6ad0-4c8f-eadb-cbe9c9c3c9a5"
      },
      "source": [
        "DLmodel.evaluate(X_test, tf.keras.utils.to_categorical(y_test, num_classes=2, dtype='float32'))"
      ],
      "id": "IWUPTlKfcRJv",
      "execution_count": null,
      "outputs": [
        {
          "output_type": "stream",
          "text": [
            "69/69 [==============================] - 1s 6ms/step - loss: 0.5618 - accuracy: 0.6332\n"
          ],
          "name": "stdout"
        },
        {
          "output_type": "execute_result",
          "data": {
            "text/plain": [
              "[0.5617851614952087, 0.6331818103790283]"
            ]
          },
          "metadata": {
            "tags": []
          },
          "execution_count": 55
        }
      ]
    }
  ]
}